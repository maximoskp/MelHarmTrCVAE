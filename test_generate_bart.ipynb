{
 "cells": [
  {
   "cell_type": "code",
   "execution_count": 1,
   "metadata": {},
   "outputs": [],
   "source": [
    "# USER OPTIONS\n",
    "# define tokenizer name - should be one among the keys in the cell below\n",
    "tokenizer_name = 'ChordSymbolTokenizer' # or any other name from the keys in tokenizers dictionary\n",
    "# tokenizer_name = 'RootTypeTokenizer'\n",
    "# tokenizer_name = 'PitchClassTokenizer'\n",
    "# folder to xmls\n",
    "val_dir = '/media/maindisk/maximos/data/hooktheory_test'\n",
    "# val_dir = '/media/maindisk/maximos/data/gjt_melodies/Library_melodies'\n",
    "# val_dir = '/media/datadisk/datasets/gjt_melodies/Library_melodies'\n",
    "# val_dir = '/media/maximos/9C33-6BBD/data/gjt_melodies/Library_melodies'\n",
    "\n",
    "# define batch size depending on GPU availability / status\n",
    "batchsize = 16\n",
    "# select device name - could be 'cpu', 'cuda', 'coda:0', 'cuda:1'...\n",
    "device_name = 'cuda'"
   ]
  },
  {
   "cell_type": "code",
   "execution_count": 2,
   "metadata": {},
   "outputs": [
    {
     "name": "stderr",
     "output_type": "stream",
     "text": [
      "/home/maximos/.local/lib/python3.11/site-packages/tqdm/auto.py:21: TqdmWarning: IProgress not found. Please update jupyter and ipywidgets. See https://ipywidgets.readthedocs.io/en/stable/user_install.html\n",
      "  from .autonotebook import tqdm as notebook_tqdm\n"
     ]
    }
   ],
   "source": [
    "from data_utils import SeparatedMelHarmMarkovDataset\n",
    "import os\n",
    "import numpy as np\n",
    "from harmony_tokenizers_m21 import ChordSymbolTokenizer, RootTypeTokenizer, \\\n",
    "    PitchClassTokenizer, RootPCTokenizer, GCTRootPCTokenizer, \\\n",
    "    GCTSymbolTokenizer, GCTRootTypeTokenizer, MelodyPitchTokenizer, \\\n",
    "    MergedMelHarmTokenizer\n",
    "import torch\n",
    "from torch.optim import AdamW\n",
    "from torch.utils.data import DataLoader\n",
    "from transformers import BartForConditionalGeneration, BartConfig, DataCollatorForSeq2Seq\n",
    "from tqdm import tqdm\n",
    "from models import TransGraphVAE\n",
    "import csv"
   ]
  },
  {
   "cell_type": "code",
   "execution_count": 3,
   "metadata": {},
   "outputs": [],
   "source": [
    "tokenizers = {\n",
    "    'ChordSymbolTokenizer': ChordSymbolTokenizer,\n",
    "    'RootTypeTokenizer': RootTypeTokenizer,\n",
    "    'PitchClassTokenizer': PitchClassTokenizer,\n",
    "    'RootPCTokenizer': RootPCTokenizer,\n",
    "    'GCTRootPCTokenizer': GCTRootPCTokenizer,\n",
    "    'GCTSymbolTokenizer': GCTSymbolTokenizer,\n",
    "    'GCTRootTypeTokenizer': GCTRootTypeTokenizer\n",
    "}"
   ]
  },
  {
   "cell_type": "code",
   "execution_count": 4,
   "metadata": {},
   "outputs": [],
   "source": [
    "melody_tokenizer = MelodyPitchTokenizer.from_pretrained('saved_tokenizers/MelodyPitchTokenizer')\n",
    "harmony_tokenizer = tokenizers[tokenizer_name].from_pretrained('saved_tokenizers/' + tokenizer_name)\n",
    "\n",
    "tokenizer = MergedMelHarmTokenizer(melody_tokenizer, harmony_tokenizer)\n",
    "\n",
    "model_path = 'saved_models/bart/' + tokenizer_name + '/' + tokenizer_name + '.pt'"
   ]
  },
  {
   "cell_type": "code",
   "execution_count": 5,
   "metadata": {},
   "outputs": [],
   "source": [
    "bart_config = BartConfig(\n",
    "    vocab_size=len(tokenizer.vocab),\n",
    "    pad_token_id=tokenizer.pad_token_id,\n",
    "    bos_token_id=tokenizer.bos_token_id,\n",
    "    eos_token_id=tokenizer.eos_token_id,\n",
    "    decoder_start_token_id=tokenizer.bos_token_id,\n",
    "    forced_eos_token_id=tokenizer.eos_token_id,\n",
    "    max_position_embeddings=512,\n",
    "    encoder_layers=8,\n",
    "    encoder_attention_heads=8,\n",
    "    encoder_ffn_dim=512,\n",
    "    decoder_layers=8,\n",
    "    decoder_attention_heads=8,\n",
    "    decoder_ffn_dim=512,\n",
    "    d_model=512,\n",
    "    encoder_layerdrop=0.3,\n",
    "    decoder_layerdrop=0.3,\n",
    "    dropout=0.3\n",
    ")\n",
    "\n",
    "bart = BartForConditionalGeneration(bart_config)"
   ]
  },
  {
   "cell_type": "code",
   "execution_count": 6,
   "metadata": {},
   "outputs": [],
   "source": [
    "test_dir = '/mnt/ssd2/maximos/data/hooktheory_test'\n",
    "test_dataset = SeparatedMelHarmMarkovDataset(test_dir, tokenizer, max_length=512, num_bars=64)\n",
    "\n",
    "# Data collator for BART\n",
    "def create_data_collator(tokenizer, model):\n",
    "    return DataCollatorForSeq2Seq(tokenizer=tokenizer, model=model, padding=True)\n",
    "# end create_data_collator\n",
    "\n",
    "device = torch.device(\"cuda\" if torch.cuda.is_available() else \"cpu\")"
   ]
  },
  {
   "cell_type": "code",
   "execution_count": 7,
   "metadata": {},
   "outputs": [],
   "source": [
    "collator = create_data_collator(tokenizer, model=bart)\n",
    "valloader = DataLoader(test_dataset, batch_size=1, shuffle=True, collate_fn=collator)"
   ]
  },
  {
   "cell_type": "code",
   "execution_count": 8,
   "metadata": {},
   "outputs": [
    {
     "data": {
      "text/plain": [
       "TransGraphVAE(\n",
       "  (transformer): BartForConditionalGeneration(\n",
       "    (model): BartModel(\n",
       "      (shared): BartScaledWordEmbedding(545, 512, padding_idx=1)\n",
       "      (encoder): BartEncoder(\n",
       "        (embed_tokens): BartScaledWordEmbedding(545, 512, padding_idx=1)\n",
       "        (embed_positions): BartLearnedPositionalEmbedding(514, 512)\n",
       "        (layers): ModuleList(\n",
       "          (0-7): 8 x BartEncoderLayer(\n",
       "            (self_attn): BartSdpaAttention(\n",
       "              (k_proj): Linear(in_features=512, out_features=512, bias=True)\n",
       "              (v_proj): Linear(in_features=512, out_features=512, bias=True)\n",
       "              (q_proj): Linear(in_features=512, out_features=512, bias=True)\n",
       "              (out_proj): Linear(in_features=512, out_features=512, bias=True)\n",
       "            )\n",
       "            (self_attn_layer_norm): LayerNorm((512,), eps=1e-05, elementwise_affine=True)\n",
       "            (activation_fn): GELUActivation()\n",
       "            (fc1): Linear(in_features=512, out_features=512, bias=True)\n",
       "            (fc2): Linear(in_features=512, out_features=512, bias=True)\n",
       "            (final_layer_norm): LayerNorm((512,), eps=1e-05, elementwise_affine=True)\n",
       "          )\n",
       "        )\n",
       "        (layernorm_embedding): LayerNorm((512,), eps=1e-05, elementwise_affine=True)\n",
       "      )\n",
       "      (decoder): BartDecoder(\n",
       "        (embed_tokens): BartScaledWordEmbedding(545, 512, padding_idx=1)\n",
       "        (embed_positions): BartLearnedPositionalEmbedding(514, 512)\n",
       "        (layers): ModuleList(\n",
       "          (0-7): 8 x BartDecoderLayer(\n",
       "            (self_attn): BartSdpaAttention(\n",
       "              (k_proj): Linear(in_features=512, out_features=512, bias=True)\n",
       "              (v_proj): Linear(in_features=512, out_features=512, bias=True)\n",
       "              (q_proj): Linear(in_features=512, out_features=512, bias=True)\n",
       "              (out_proj): Linear(in_features=512, out_features=512, bias=True)\n",
       "            )\n",
       "            (activation_fn): GELUActivation()\n",
       "            (self_attn_layer_norm): LayerNorm((512,), eps=1e-05, elementwise_affine=True)\n",
       "            (encoder_attn): BartSdpaAttention(\n",
       "              (k_proj): Linear(in_features=512, out_features=512, bias=True)\n",
       "              (v_proj): Linear(in_features=512, out_features=512, bias=True)\n",
       "              (q_proj): Linear(in_features=512, out_features=512, bias=True)\n",
       "              (out_proj): Linear(in_features=512, out_features=512, bias=True)\n",
       "            )\n",
       "            (encoder_attn_layer_norm): LayerNorm((512,), eps=1e-05, elementwise_affine=True)\n",
       "            (fc1): Linear(in_features=512, out_features=512, bias=True)\n",
       "            (fc2): Linear(in_features=512, out_features=512, bias=True)\n",
       "            (final_layer_norm): LayerNorm((512,), eps=1e-05, elementwise_affine=True)\n",
       "          )\n",
       "        )\n",
       "        (layernorm_embedding): LayerNorm((512,), eps=1e-05, elementwise_affine=True)\n",
       "      )\n",
       "    )\n",
       "    (lm_head): Linear(in_features=512, out_features=545, bias=False)\n",
       "  )\n",
       "  (t_encoder): BartEncoder(\n",
       "    (embed_tokens): BartScaledWordEmbedding(545, 512, padding_idx=1)\n",
       "    (embed_positions): BartLearnedPositionalEmbedding(514, 512)\n",
       "    (layers): ModuleList(\n",
       "      (0-7): 8 x BartEncoderLayer(\n",
       "        (self_attn): BartSdpaAttention(\n",
       "          (k_proj): Linear(in_features=512, out_features=512, bias=True)\n",
       "          (v_proj): Linear(in_features=512, out_features=512, bias=True)\n",
       "          (q_proj): Linear(in_features=512, out_features=512, bias=True)\n",
       "          (out_proj): Linear(in_features=512, out_features=512, bias=True)\n",
       "        )\n",
       "        (self_attn_layer_norm): LayerNorm((512,), eps=1e-05, elementwise_affine=True)\n",
       "        (activation_fn): GELUActivation()\n",
       "        (fc1): Linear(in_features=512, out_features=512, bias=True)\n",
       "        (fc2): Linear(in_features=512, out_features=512, bias=True)\n",
       "        (final_layer_norm): LayerNorm((512,), eps=1e-05, elementwise_affine=True)\n",
       "      )\n",
       "    )\n",
       "    (layernorm_embedding): LayerNorm((512,), eps=1e-05, elementwise_affine=True)\n",
       "  )\n",
       "  (t_decoder): BartDecoder(\n",
       "    (embed_tokens): BartScaledWordEmbedding(545, 512, padding_idx=1)\n",
       "    (embed_positions): BartLearnedPositionalEmbedding(514, 512)\n",
       "    (layers): ModuleList(\n",
       "      (0-7): 8 x BartDecoderLayer(\n",
       "        (self_attn): BartSdpaAttention(\n",
       "          (k_proj): Linear(in_features=512, out_features=512, bias=True)\n",
       "          (v_proj): Linear(in_features=512, out_features=512, bias=True)\n",
       "          (q_proj): Linear(in_features=512, out_features=512, bias=True)\n",
       "          (out_proj): Linear(in_features=512, out_features=512, bias=True)\n",
       "        )\n",
       "        (activation_fn): GELUActivation()\n",
       "        (self_attn_layer_norm): LayerNorm((512,), eps=1e-05, elementwise_affine=True)\n",
       "        (encoder_attn): BartSdpaAttention(\n",
       "          (k_proj): Linear(in_features=512, out_features=512, bias=True)\n",
       "          (v_proj): Linear(in_features=512, out_features=512, bias=True)\n",
       "          (q_proj): Linear(in_features=512, out_features=512, bias=True)\n",
       "          (out_proj): Linear(in_features=512, out_features=512, bias=True)\n",
       "        )\n",
       "        (encoder_attn_layer_norm): LayerNorm((512,), eps=1e-05, elementwise_affine=True)\n",
       "        (fc1): Linear(in_features=512, out_features=512, bias=True)\n",
       "        (fc2): Linear(in_features=512, out_features=512, bias=True)\n",
       "        (final_layer_norm): LayerNorm((512,), eps=1e-05, elementwise_affine=True)\n",
       "      )\n",
       "    )\n",
       "    (layernorm_embedding): LayerNorm((512,), eps=1e-05, elementwise_affine=True)\n",
       "  )\n",
       "  (cvae): CVAE(\n",
       "    (lstm_encoder): BiLSTMEncoder(\n",
       "      (lstm): LSTM(512, 512, batch_first=True, bidirectional=True)\n",
       "      (fc): Linear(in_features=1024, out_features=512, bias=True)\n",
       "    )\n",
       "    (lstm_decoder): BiLSTMDecoder(\n",
       "      (lstm): LSTM(512, 512, batch_first=True)\n",
       "      (fc): Linear(in_features=512, out_features=512, bias=True)\n",
       "    )\n",
       "    (graph_conditioning): GraphConditioningModule(\n",
       "      (gnn1): GCNConv(1, 256)\n",
       "      (gnn2): GCNConv(256, 256)\n",
       "      (fc): Linear(in_features=256, out_features=256, bias=True)\n",
       "    )\n",
       "    (fc_mu): Linear(in_features=768, out_features=512, bias=True)\n",
       "    (fc_logvar): Linear(in_features=768, out_features=512, bias=True)\n",
       "    (fc_z): Linear(in_features=768, out_features=512, bias=True)\n",
       "  )\n",
       ")"
      ]
     },
     "execution_count": 8,
     "metadata": {},
     "output_type": "execute_result"
    }
   ],
   "source": [
    "config = {\n",
    "    'hidden_dim_LSTM': 512,\n",
    "    'hidden_dim_GNN': 256,\n",
    "    'latent_dim': 512,\n",
    "    'condition_dim': 256,\n",
    "    'use_attention': False\n",
    "}\n",
    "\n",
    "model = TransGraphVAE(transformer=bart, device=device, **config)\n",
    "model.to(device)\n",
    "model.eval()"
   ]
  },
  {
   "cell_type": "code",
   "execution_count": 9,
   "metadata": {},
   "outputs": [
    {
     "name": "stderr",
     "output_type": "stream",
     "text": [
      "Running:   0%|          | 0/1520 [00:00<?, ?batch/s]/home/maximos/.local/lib/python3.11/site-packages/music21/stream/base.py:3694: Music21DeprecationWarning: .flat is deprecated.  Call .flatten() instead\n",
      "  return self.iter().getElementsByClass(classFilterList)\n",
      "/home/maximos/.local/lib/python3.11/site-packages/transformers/data/data_collator.py:656: UserWarning: Creating a tensor from a list of numpy.ndarrays is extremely slow. Please consider converting the list to a single numpy.ndarray with numpy.array() before converting to a tensor. (Triggered internally at ../torch/csrc/utils/tensor_new.cpp:261.)\n",
      "  batch[\"labels\"] = torch.tensor(batch[\"labels\"], dtype=torch.int64)\n"
     ]
    },
    {
     "name": "stdout",
     "output_type": "stream",
     "text": [
      "Running:   0%|          | 0/1520 [00:00<?, ?batch/s]\n",
      "tensor([[  2,   6, 180,  95,   4, 123,  46,   6,  95,  43, 103,  46, 111,  50,\n",
      "         119,  48, 123,  46,   6,  95,  46, 103,  48, 107,  46, 111,  50, 119,\n",
      "          46,   6,  95,  43,  99,  46, 107,  50, 119,  48, 123,  46,   6,  95,\n",
      "          48,  99,  46, 103,  46, 107,  48, 111,  50, 119,  46,   6,  95,  43,\n",
      "          99,  46, 107,  50, 119,  48, 123,  46,   6,  95,  46, 103,  46, 107,\n",
      "          48, 111,  50, 123,   4,   6,  95,  51,  99,  50, 103,  51, 107,  50,\n",
      "         111,  51, 119,  51, 123,  50,   6,  95,  48, 111,   4,   6,  95,  51,\n",
      "         103,  51, 111,  51, 119,  53, 123,  50,   6,  95,  48, 111,   4, 119,\n",
      "          48, 123,  50,   6,  95,  51,  99,  51, 107,  51, 111,  53, 119,  43,\n",
      "           6,  95,  46,   6,  95,   4,   6,  95,   4, 123,  50,   6,  95,  51,\n",
      "         103,  50, 107,  51, 115,  50, 119,  53, 123,  46,   6,  95,  46, 111,\n",
      "           4]], device='cuda:0')\n",
      "tensor([[[0., 0., 0.,  ..., 0., 0., 0.],\n",
      "         [0., 0., 0.,  ..., 0., 0., 0.],\n",
      "         [0., 0., 0.,  ..., 0., 0., 0.],\n",
      "         ...,\n",
      "         [0., 0., 0.,  ..., 0., 0., 0.],\n",
      "         [0., 0., 0.,  ..., 0., 0., 0.],\n",
      "         [0., 0., 0.,  ..., 0., 0., 0.]]], device='cuda:0')\n"
     ]
    },
    {
     "name": "stderr",
     "output_type": "stream",
     "text": [
      "Running:   0%|          | 0/1520 [00:01<?, ?batch/s]\n"
     ]
    }
   ],
   "source": [
    "with torch.no_grad():\n",
    "    with tqdm(valloader, unit='batch') as tepoch:\n",
    "        tepoch.set_description(f'Running')\n",
    "        print(tepoch)\n",
    "        for batch in tepoch:\n",
    "            input_ids = batch['input_ids'].to(device)\n",
    "            transitions = batch['transitions'].to(device)\n",
    "            attention_mask = batch['attention_mask'].to(device)\n",
    "            output_tokens = []\n",
    "            output_recon_tokens = []\n",
    "            print(input_ids)\n",
    "            print(transitions)\n",
    "            outputs = model(input_ids, transitions, encoder_attention=attention_mask, generate_max_tokens=500)\n",
    "            for i in outputs['generated_ids'][0]:\n",
    "                output_tokens.append( tokenizer.ids_to_tokens[ int(i) ].replace(' ','x') )\n",
    "            for i in outputs['generated_recon_ids'][0]:\n",
    "                output_recon_tokens.append( tokenizer.ids_to_tokens[ int(i) ].replace(' ','x') )\n",
    "            break"
   ]
  },
  {
   "cell_type": "code",
   "execution_count": 11,
   "metadata": {},
   "outputs": [
    {
     "name": "stdout",
     "output_type": "stream",
     "text": [
      "['<s>', 'F:min7', 'E:min', 'C:minmaj7', 'P:21', 'P:54', 'C#:sus4', 'G:dim', 'A:min11', 'F:dim7', 'G#:dim7', 'F#:11', 'G#:5', 'A#:aug', 'E:dim', 'P:100', 'F#:7', 'G#:maj7', 'ts_9x8', 'position_9x50', 'ts_5x4', 'D:dim7', 'position_3x33', 'A:min6', 'A#:', 'P:24', 'F:7(#9)', 'position_1x66', 'D:7(#9)', 'E:sus4', 'F#:13', 'A:min13', 'position_3x83', 'F:maj', 'C#:7(#11)', 'position_3x66', 'A#:maj7', 'position_4x66', 'F:min9', 'G#:maj13', 'A:maj6', 'F#:7(b9)', 'A:dim7', 'G:hdim7', 'D#:dim', 'ts_13x8', 'G:sus2', 'F:dim', 'P:91', 'F#:7(b9)', 'D:min9', 'P:40', 'A#:hdim7', 'C:maj7', 'F:13', 'P:21', 'G:minmaj7', 'position_1x66', 'P:96', 'position_7x25', 'position_2x83', 'F:min6', 'P:96', 'C#:7(b13)', 'A#:1', 'P:54', 'F#:7(b13)', 'F#:', 'F#:maj6', 'A#:maj9', 'F#:13', 'P:88', 'position_4x83', 'position_0x33', 'ts_5x8', '<rest>', 'P:100', 'P:103', 'position_9x16', 'P:107', 'C:min9', 'F:aug', 'A:', 'G:5', 'ts_8x4', 'F#:min13', 'C#:7(#9)', 'A#:11', 'D#:11', 'P:52', 'C:5', 'A#:13', 'F:7(#11)', 'P:93', 'C#:min6', 'A:minmaj7', 'C:maj9', 'P:65', 'P:72', 'P:79', 'G:sus4', 'F:maj', 'position_6x25', 'A:7(#11)', 'D:min11', 'G:maj9', 'F#:sus2', 'F#:min6', 'F#:1', 'F#:sus4', 'P:104', 'ts_9x8', 'C:1', 'position_5x16', 'A:dim', 'F:min6', 'position_0x50', 'A:dim7', 'F#:maj9', '<pad>', 'ts_2x4', 'F#:maj9', 'C#:maj7', 'position_7x33', 'D#:maj13', 'P:87', 'C#:min13', 'position_4x83', 'position_4x33', 'C#:min13', 'position_4x75', 'E:dim7', 'G#:1', 'G#:maj', 'D#:min7', 'A:7', 'E:sus4', 'C:maj13', 'P:67', 'E:min7', 'E:maj', 'D#:maj7', 'P:100', 'C:9', 'P:31', 'C:min6', 'D:min', 'F:9', 'position_6x50', 'F:min6', '<unk>', 'C:11', 'P:40', 'F#:1', 'P:79', 'A:sus2', 'F:maj9', 'A#:maj', '</s>']\n"
     ]
    }
   ],
   "source": [
    "print(output_tokens)"
   ]
  },
  {
   "cell_type": "code",
   "execution_count": 13,
   "metadata": {},
   "outputs": [
    {
     "name": "stdout",
     "output_type": "stream",
     "text": [
      "['<s>', 'F:7', 'P:64', 'position_8x16', 'G#:7(b9)', 'F#:min9', 'P:42', 'position_2x66', 'A#:dim7', 'P:38', 'ts_6x4', 'D#:9', 'position_5x66', 'position_5x25', 'D:maj9', 'C#:dim7', 'F#:sus4', 'position_4x16', 'F#:min11', 'G:minmaj7', 'P:104', 'ts_5x4', 'D:13', 'position_2x75', 'C:min', 'G#:maj6', '<rest>', 'ts_5x4', '<pad>', 'P:49', 'F:sus2', 'F#:min', 'A#:5', 'C:maj6', 'G:min6', 'G#:minmaj7', 'position_4x25', 'D:7(b13)', 'D#:7', 'E:min13', 'position_6x25', 'A:hdim7', 'C#:1', 'G:7(#11)', 'position_2x75', 'F:11', 'G#:dim7', 'F#:maj6', 'A#:7', 'D#:7(b13)', 'P:91', 'P:99', 'F#:maj9', 'A:1', 'D:7(#9)', 'P:22', 'P:71', 'G:13', 'P:95', 'C#:minmaj7', 'G:dim', 'position_6x00', 'E:5', 'E:maj13', 'F#:min9', 'G#:dim7', 'P:72', 'G#:minmaj7', 'D:1', '<h>', 'position_9x50', 'position_2x16', 'D#:7(b9)', 'C#:dim', 'A:7', 'E:sus2', 'G#:hdim7', 'P:49', 'position_4x50', 'position_7x75', 'C:min', 'D#:sus4', 'P:24', 'E:aug', 'D:7(#9)', 'D#:sus4', 'C#:aug', 'G#:min9', 'A#:aug', 'position_8x75', 'position_8x75', 'E:minmaj7', 'P:86', 'position_1x50', 'G:', 'position_4x50', 'A#:dim', 'E:maj13', 'C:sus4', 'P:75', 'position_6x66', 'C#:7(#9)', 'F#:', 'position_3x33', 'F:sus4', 'F:min11', 'P:81', 'G:maj7', 'P:72', 'P:79', 'E:dim7', 'position_9x66', 'D#:', 'F:7', 'ts_15x8', 'F:dim', '<emp>', 'ts_6x4', 'C:maj9', 'P:66', 'D:7(b13)', 'P:80', 'P:49', 'C:11', 'P:23', 'position_8x25', 'D:7(#9)', 'G#:aug', '<rest>', 'P:67', 'C#:sus2', 'G#:sus2', 'P:88', 'C#:min6', 'A#:11', 'G#:7(b9)', 'C#:min13', 'P:34', 'G:maj6', 'C:7', 'position_3x25', 'P:104', 'position_4x00', 'E:min13', 'E:11', 'ts_1x8', 'F#:maj6', 'C:13', 'P:29', 'P:73', 'D#:7(b13)', 'F#:min', 'position_8x75', 'P:27', 'P:63', 'D#:dim', 'D#:aug', 'position_8x66', 'C:maj9', 'G:7(b13)', 'F:7(b9)', 'E:sus4', 'G#:maj', '<unk>', 'position_9x25', 'ts_5x8', 'C#:5', 'C#:maj9', 'D:min6', 'G:maj', 'F#:dim', 'A#:5', 'C#:7(#9)', 'position_0x83', 'A#:11', 'ts_7x8', 'P:34', 'C:maj9', 'position_0x00', 'position_1x33', 'G:aug', 'A#:', 'ts_15x8', 'C:min11', 'P:21', 'G#:13', 'P:62', 'ts_5x4', 'F:11', 'position_7x33', 'C#:7(b9)', 'position_7x33', 'position_7x25', 'G#:7', 'D#:maj7', 'position_8x33', 'A:7(b9)', 'F#:7(b13)', 'P:76', 'E:1', 'P:81', 'C#:maj', 'position_9x25', 'D#:minmaj7', 'E:aug', 'P:28', 'D:maj13', 'P:43', 'P:21', 'C#:sus4', 'P:97', 'C#:7(#11)', 'A#:min13', 'A#:dim7', 'C#:min11', 'F:7(#9)', 'position_4x50', 'D#:maj13', 'E:min7', 'ts_1x4', 'C#:9', 'G#:min6', 'P:56', 'position_1x00', 'position_7x33', 'A:maj6', 'F#:7(#11)', 'G#:min7', 'F#:11', 'A#:11', 'ts_9x8', 'D#:maj13', 'C#:sus4', 'C:dim7', 'G:7(b13)', 'D#:maj9', 'C#:hdim7', 'P:78', 'G:7', 'P:55', 'C:maj6', 'C:min11', 'P:45', 'position_4x83', 'D#:maj', 'F#:7(#9)', 'G#:dim', 'A:minmaj7', 'P:65', 'position_4x75', 'C#:maj', 'P:36', 'C#:', 'A:min6', 'C:maj7', 'P:79', 'P:104', 'C#:maj7', 'D:maj7', 'A#:min13', 'F#:min11', 'position_9x33', 'C#:maj13', 'D:7(#9)', 'F#:min11', 'position_7x16', 'E:dim', 'D:min6', 'A#:maj13', 'F#:min11', 'C#:7(b9)', 'C:min13', 'A#:maj9', 'position_2x33', 'position_5x33', 'D:maj6', 'C:13', 'G#:sus4', 'position_6x50', 'C:11', 'D#:sus4', 'P:105', 'position_5x83', 'P:42', 'A#:min11', 'F#:dim', 'P:103', 'D#:minmaj7', 'A:7(#9)', 'G#:13', 'D:9', 'position_0x75', 'C#:maj6', 'D#:1', 'position_8x00', '<bar>', 'F#:13', 'F:minmaj7', 'F:', 'C#:min6', 'D#:dim', 'P:22', 'A:min6', 'A:maj7', 'E:maj7', 'G#:11', 'A#:min9', 'A#:13', 'F#:maj6', 'F:hdim7', 'G:maj6', 'P:49', 'C:min9', 'P:28', 'ts_1x8', 'F#:7', 'A:sus2', 'P:54', 'P:58', 'P:51', 'P:91', 'E:minmaj7', 'G#:dim7', 'G:maj6', 'P:92', 'G:maj7', 'E:sus4', 'position_0x75', 'P:46', 'A#:5', 'F:1', 'D#:7(#11)', 'P:70', 'G#:maj7', 'D#:maj6', 'F:7(b9)', 'A:dim7', 'G#:dim7', 'position_2x16', 'D#:5', 'position_2x00', 'G:min11', 'P:70', 'position_7x16', 'D#:min9', 'E:dim7', 'C#:maj6', 'A#:hdim7', 'A:minmaj7', 'P:51', 'A:maj6', 'position_1x83', 'F:7(#9)', 'A:maj7', 'P:85', 'C:maj9', 'E:dim7', 'A:min', 'P:44', 'G#:min9', 'G#:', 'G#:5', 'P:26', 'P:108', 'position_7x33', 'F:aug', 'P:63', 'P:75', 'position_4x75', 'A#:minmaj7', 'G#:aug', 'position_7x00', 'E:min11', 'C:9', 'ts_13x8', 'P:96', 'P:91', 'D:9', 'P:94', 'D#:maj9', 'D:aug', 'D#:min', 'P:79', 'C#:maj', 'D:maj6', 'G#:13', 'P:37', 'E:', 'A:min6', 'E:hdim7', 'D:dim7', 'A:min', 'G#:min', 'C:maj6', 'P:48', 'G#:hdim7', 'C:min7', 'D:min11', 'F:7(b13)', 'A:1', 'G:7(#9)', 'position_7x66', 'P:35', 'G:min9', 'A#:hdim7', 'A#:min11', 'D#:sus4', 'P:102', 'position_1x00', 'D:minmaj7', 'position_7x50', 'F:minmaj7', 'C:maj13', 'F#:minmaj7', 'C#:min6', 'position_1x75', 'F#:13', 'P:56', 'P:30', 'position_9x75', 'F#:min9', 'F:dim7', 'position_3x50', 'F#:min', 'A#:11', 'A:maj', 'position_7x66', 'D:maj9', 'position_4x83', 'position_7x83', 'G#:hdim7', 'C#:maj9', 'P:80', 'F:minmaj7', 'ts_1x8', 'C:7(#11)', 'F:dim7', 'C:min9', 'D#:maj', 'position_1x33', 'position_2x83', 'A:', 'A#:min11', 'P:54', 'E:7(#11)', 'P:71', 'P:89', 'A:dim7', 'P:85', 'position_1x83', 'P:37', 'D#:min11', 'D#:5', 'G:7', 'position_2x00', 'G#:maj6', 'G:min13', 'C#:sus4', 'G#:7', 'A:7(b9)', 'P:99', 'P:87', 'P:87', 'C:11', 'D#:minmaj7', 'position_1x83', 'P:87', 'D#:min11', 'C:13', 'P:95', 'G:hdim7', 'G#:aug', 'position_0x33', 'C#:dim7', 'D:7(#9)', 'position_3x25', 'C#:maj7', 'A:sus2', 'ts_9x8', 'P:75', 'E:maj6', 'C:5', 'ts_6x4', 'position_4x75', 'F#:minmaj7', 'A#:minmaj7', 'A#:maj6', 'D:min13', 'ts_8x4', 'C:maj13', 'E:', 'C#:min13', 'C#:maj9', 'P:61', 'P:84', 'P:61', 'C:dim', 'A:maj6', 'position_1x75', 'position_1x83', 'D#:7']\n"
     ]
    }
   ],
   "source": [
    "print(output_recon_tokens)"
   ]
  }
 ],
 "metadata": {
  "kernelspec": {
   "display_name": "torch",
   "language": "python",
   "name": "python3"
  },
  "language_info": {
   "codemirror_mode": {
    "name": "ipython",
    "version": 3
   },
   "file_extension": ".py",
   "mimetype": "text/x-python",
   "name": "python",
   "nbconvert_exporter": "python",
   "pygments_lexer": "ipython3",
   "version": "3.11.5"
  }
 },
 "nbformat": 4,
 "nbformat_minor": 2
}
