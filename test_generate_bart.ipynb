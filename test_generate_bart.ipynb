{
 "cells": [
  {
   "cell_type": "code",
   "execution_count": 3,
   "metadata": {},
   "outputs": [],
   "source": [
    "# USER OPTIONS\n",
    "# define tokenizer name - should be one among the keys in the cell below\n",
    "tokenizer_name = 'ChordSymbolTokenizer' # or any other name from the keys in tokenizers dictionary\n",
    "# tokenizer_name = 'RootTypeTokenizer'\n",
    "# tokenizer_name = 'PitchClassTokenizer'\n",
    "# folder to xmls\n",
    "val_dir = '/media/maindisk/maximos/data/hooktheory_test'\n",
    "# val_dir = '/media/maindisk/maximos/data/gjt_melodies/Library_melodies'\n",
    "# val_dir = '/media/datadisk/datasets/gjt_melodies/Library_melodies'\n",
    "# val_dir = '/media/maximos/9C33-6BBD/data/gjt_melodies/Library_melodies'\n",
    "\n",
    "# define batch size depending on GPU availability / status\n",
    "batchsize = 16\n",
    "# select device name - could be 'cpu', 'cuda', 'coda:0', 'cuda:1'...\n",
    "device_name = 'cuda'"
   ]
  },
  {
   "cell_type": "code",
   "execution_count": 4,
   "metadata": {},
   "outputs": [],
   "source": [
    "from data_utils import SeparatedMelHarmMarkovDataset\n",
    "import os\n",
    "import numpy as np\n",
    "from harmony_tokenizers_m21 import ChordSymbolTokenizer, RootTypeTokenizer, \\\n",
    "    PitchClassTokenizer, RootPCTokenizer, GCTRootPCTokenizer, \\\n",
    "    GCTSymbolTokenizer, GCTRootTypeTokenizer, MelodyPitchTokenizer, \\\n",
    "    MergedMelHarmTokenizer\n",
    "import torch\n",
    "from torch.optim import AdamW\n",
    "from torch.utils.data import DataLoader\n",
    "from transformers import BartForConditionalGeneration, BartConfig, DataCollatorForSeq2Seq\n",
    "from tqdm import tqdm\n",
    "from models import TransGraphVAE\n",
    "import csv"
   ]
  },
  {
   "cell_type": "code",
   "execution_count": 5,
   "metadata": {},
   "outputs": [],
   "source": [
    "tokenizers = {\n",
    "    'ChordSymbolTokenizer': ChordSymbolTokenizer,\n",
    "    'RootTypeTokenizer': RootTypeTokenizer,\n",
    "    'PitchClassTokenizer': PitchClassTokenizer,\n",
    "    'RootPCTokenizer': RootPCTokenizer,\n",
    "    'GCTRootPCTokenizer': GCTRootPCTokenizer,\n",
    "    'GCTSymbolTokenizer': GCTSymbolTokenizer,\n",
    "    'GCTRootTypeTokenizer': GCTRootTypeTokenizer\n",
    "}"
   ]
  },
  {
   "cell_type": "code",
   "execution_count": 6,
   "metadata": {},
   "outputs": [],
   "source": [
    "melody_tokenizer = MelodyPitchTokenizer.from_pretrained('saved_tokenizers/MelodyPitchTokenizer')\n",
    "harmony_tokenizer = tokenizers[tokenizer_name].from_pretrained('saved_tokenizers/' + tokenizer_name)\n",
    "\n",
    "tokenizer = MergedMelHarmTokenizer(melody_tokenizer, harmony_tokenizer)\n",
    "\n",
    "model_path = 'saved_models/bart/' + tokenizer_name + '/' + tokenizer_name + '.pt'"
   ]
  },
  {
   "cell_type": "code",
   "execution_count": 7,
   "metadata": {},
   "outputs": [],
   "source": [
    "device = torch.device(\"cuda\" if torch.cuda.is_available() else \"cpu\")"
   ]
  },
  {
   "cell_type": "code",
   "execution_count": 8,
   "metadata": {},
   "outputs": [
    {
     "name": "stderr",
     "output_type": "stream",
     "text": [
      "/home/maximos/.local/lib/python3.11/site-packages/torch/_utils.py:831: UserWarning: TypedStorage is deprecated. It will be removed in the future and UntypedStorage will be the only storage class. This should only matter to you if you are using storages directly.  To access UntypedStorage directly, use tensor.untyped_storage() instead of tensor.storage()\n",
      "  return self.fget.__get__(instance, owner)()\n"
     ]
    },
    {
     "data": {
      "text/plain": [
       "<All keys matched successfully>"
      ]
     },
     "execution_count": 8,
     "metadata": {},
     "output_type": "execute_result"
    }
   ],
   "source": [
    "bart_config = BartConfig(\n",
    "    vocab_size=len(tokenizer.vocab),\n",
    "    pad_token_id=tokenizer.pad_token_id,\n",
    "    bos_token_id=tokenizer.bos_token_id,\n",
    "    eos_token_id=tokenizer.eos_token_id,\n",
    "    decoder_start_token_id=tokenizer.bos_token_id,\n",
    "    forced_eos_token_id=tokenizer.eos_token_id,\n",
    "    max_position_embeddings=512,\n",
    "    encoder_layers=8,\n",
    "    encoder_attention_heads=8,\n",
    "    encoder_ffn_dim=512,\n",
    "    decoder_layers=8,\n",
    "    decoder_attention_heads=8,\n",
    "    decoder_ffn_dim=512,\n",
    "    d_model=512,\n",
    "    encoder_layerdrop=0.3,\n",
    "    decoder_layerdrop=0.3,\n",
    "    dropout=0.3\n",
    ")\n",
    "\n",
    "bart = BartForConditionalGeneration(bart_config)\n",
    "\n",
    "if torch.cuda.is_available():\n",
    "    checkpoint = torch.load(model_path, weights_only=True)\n",
    "else:\n",
    "    checkpoint = torch.load(model_path, map_location=\"cpu\", weights_only=True)\n",
    "bart.load_state_dict(checkpoint)"
   ]
  },
  {
   "cell_type": "code",
   "execution_count": 9,
   "metadata": {},
   "outputs": [],
   "source": [
    "test_dir = '/mnt/ssd2/maximos/data/hooktheory_test'\n",
    "test_dataset = SeparatedMelHarmMarkovDataset(test_dir, tokenizer, max_length=512, num_bars=64)\n",
    "\n",
    "# Data collator for BART\n",
    "def create_data_collator(tokenizer, model):\n",
    "    return DataCollatorForSeq2Seq(tokenizer=tokenizer, model=model, padding=True)\n",
    "# end create_data_collator"
   ]
  },
  {
   "cell_type": "code",
   "execution_count": 10,
   "metadata": {},
   "outputs": [],
   "source": [
    "collator = create_data_collator(tokenizer, model=bart)\n",
    "valloader = DataLoader(test_dataset, batch_size=1, shuffle=True, collate_fn=collator)"
   ]
  },
  {
   "cell_type": "code",
   "execution_count": 11,
   "metadata": {},
   "outputs": [
    {
     "data": {
      "text/plain": [
       "TransGraphVAE(\n",
       "  (transformer): BartForConditionalGeneration(\n",
       "    (model): BartModel(\n",
       "      (shared): BartScaledWordEmbedding(545, 512, padding_idx=1)\n",
       "      (encoder): BartEncoder(\n",
       "        (embed_tokens): BartScaledWordEmbedding(545, 512, padding_idx=1)\n",
       "        (embed_positions): BartLearnedPositionalEmbedding(514, 512)\n",
       "        (layers): ModuleList(\n",
       "          (0-7): 8 x BartEncoderLayer(\n",
       "            (self_attn): BartSdpaAttention(\n",
       "              (k_proj): Linear(in_features=512, out_features=512, bias=True)\n",
       "              (v_proj): Linear(in_features=512, out_features=512, bias=True)\n",
       "              (q_proj): Linear(in_features=512, out_features=512, bias=True)\n",
       "              (out_proj): Linear(in_features=512, out_features=512, bias=True)\n",
       "            )\n",
       "            (self_attn_layer_norm): LayerNorm((512,), eps=1e-05, elementwise_affine=True)\n",
       "            (activation_fn): GELUActivation()\n",
       "            (fc1): Linear(in_features=512, out_features=512, bias=True)\n",
       "            (fc2): Linear(in_features=512, out_features=512, bias=True)\n",
       "            (final_layer_norm): LayerNorm((512,), eps=1e-05, elementwise_affine=True)\n",
       "          )\n",
       "        )\n",
       "        (layernorm_embedding): LayerNorm((512,), eps=1e-05, elementwise_affine=True)\n",
       "      )\n",
       "      (decoder): BartDecoder(\n",
       "        (embed_tokens): BartScaledWordEmbedding(545, 512, padding_idx=1)\n",
       "        (embed_positions): BartLearnedPositionalEmbedding(514, 512)\n",
       "        (layers): ModuleList(\n",
       "          (0-7): 8 x BartDecoderLayer(\n",
       "            (self_attn): BartSdpaAttention(\n",
       "              (k_proj): Linear(in_features=512, out_features=512, bias=True)\n",
       "              (v_proj): Linear(in_features=512, out_features=512, bias=True)\n",
       "              (q_proj): Linear(in_features=512, out_features=512, bias=True)\n",
       "              (out_proj): Linear(in_features=512, out_features=512, bias=True)\n",
       "            )\n",
       "            (activation_fn): GELUActivation()\n",
       "            (self_attn_layer_norm): LayerNorm((512,), eps=1e-05, elementwise_affine=True)\n",
       "            (encoder_attn): BartSdpaAttention(\n",
       "              (k_proj): Linear(in_features=512, out_features=512, bias=True)\n",
       "              (v_proj): Linear(in_features=512, out_features=512, bias=True)\n",
       "              (q_proj): Linear(in_features=512, out_features=512, bias=True)\n",
       "              (out_proj): Linear(in_features=512, out_features=512, bias=True)\n",
       "            )\n",
       "            (encoder_attn_layer_norm): LayerNorm((512,), eps=1e-05, elementwise_affine=True)\n",
       "            (fc1): Linear(in_features=512, out_features=512, bias=True)\n",
       "            (fc2): Linear(in_features=512, out_features=512, bias=True)\n",
       "            (final_layer_norm): LayerNorm((512,), eps=1e-05, elementwise_affine=True)\n",
       "          )\n",
       "        )\n",
       "        (layernorm_embedding): LayerNorm((512,), eps=1e-05, elementwise_affine=True)\n",
       "      )\n",
       "    )\n",
       "    (lm_head): Linear(in_features=512, out_features=545, bias=False)\n",
       "  )\n",
       "  (t_encoder): BartEncoder(\n",
       "    (embed_tokens): BartScaledWordEmbedding(545, 512, padding_idx=1)\n",
       "    (embed_positions): BartLearnedPositionalEmbedding(514, 512)\n",
       "    (layers): ModuleList(\n",
       "      (0-7): 8 x BartEncoderLayer(\n",
       "        (self_attn): BartSdpaAttention(\n",
       "          (k_proj): Linear(in_features=512, out_features=512, bias=True)\n",
       "          (v_proj): Linear(in_features=512, out_features=512, bias=True)\n",
       "          (q_proj): Linear(in_features=512, out_features=512, bias=True)\n",
       "          (out_proj): Linear(in_features=512, out_features=512, bias=True)\n",
       "        )\n",
       "        (self_attn_layer_norm): LayerNorm((512,), eps=1e-05, elementwise_affine=True)\n",
       "        (activation_fn): GELUActivation()\n",
       "        (fc1): Linear(in_features=512, out_features=512, bias=True)\n",
       "        (fc2): Linear(in_features=512, out_features=512, bias=True)\n",
       "        (final_layer_norm): LayerNorm((512,), eps=1e-05, elementwise_affine=True)\n",
       "      )\n",
       "    )\n",
       "    (layernorm_embedding): LayerNorm((512,), eps=1e-05, elementwise_affine=True)\n",
       "  )\n",
       "  (t_decoder): BartDecoder(\n",
       "    (embed_tokens): BartScaledWordEmbedding(545, 512, padding_idx=1)\n",
       "    (embed_positions): BartLearnedPositionalEmbedding(514, 512)\n",
       "    (layers): ModuleList(\n",
       "      (0-7): 8 x BartDecoderLayer(\n",
       "        (self_attn): BartSdpaAttention(\n",
       "          (k_proj): Linear(in_features=512, out_features=512, bias=True)\n",
       "          (v_proj): Linear(in_features=512, out_features=512, bias=True)\n",
       "          (q_proj): Linear(in_features=512, out_features=512, bias=True)\n",
       "          (out_proj): Linear(in_features=512, out_features=512, bias=True)\n",
       "        )\n",
       "        (activation_fn): GELUActivation()\n",
       "        (self_attn_layer_norm): LayerNorm((512,), eps=1e-05, elementwise_affine=True)\n",
       "        (encoder_attn): BartSdpaAttention(\n",
       "          (k_proj): Linear(in_features=512, out_features=512, bias=True)\n",
       "          (v_proj): Linear(in_features=512, out_features=512, bias=True)\n",
       "          (q_proj): Linear(in_features=512, out_features=512, bias=True)\n",
       "          (out_proj): Linear(in_features=512, out_features=512, bias=True)\n",
       "        )\n",
       "        (encoder_attn_layer_norm): LayerNorm((512,), eps=1e-05, elementwise_affine=True)\n",
       "        (fc1): Linear(in_features=512, out_features=512, bias=True)\n",
       "        (fc2): Linear(in_features=512, out_features=512, bias=True)\n",
       "        (final_layer_norm): LayerNorm((512,), eps=1e-05, elementwise_affine=True)\n",
       "      )\n",
       "    )\n",
       "    (layernorm_embedding): LayerNorm((512,), eps=1e-05, elementwise_affine=True)\n",
       "  )\n",
       "  (cvae): CVAE(\n",
       "    (lstm_encoder): BiLSTMEncoder(\n",
       "      (lstm): LSTM(512, 512, batch_first=True, bidirectional=True)\n",
       "      (fc): Linear(in_features=1024, out_features=512, bias=True)\n",
       "    )\n",
       "    (lstm_decoder): BiLSTMDecoder(\n",
       "      (lstm): LSTM(512, 512, batch_first=True)\n",
       "      (fc): Linear(in_features=512, out_features=512, bias=True)\n",
       "    )\n",
       "    (graph_conditioning): GraphConditioningModule(\n",
       "      (gnn1): GCNConv(1, 256)\n",
       "      (gnn2): GCNConv(256, 256)\n",
       "      (fc): Linear(in_features=256, out_features=256, bias=True)\n",
       "    )\n",
       "    (fc_mu): Linear(in_features=768, out_features=512, bias=True)\n",
       "    (fc_logvar): Linear(in_features=768, out_features=512, bias=True)\n",
       "    (fc_z): Linear(in_features=768, out_features=512, bias=True)\n",
       "  )\n",
       ")"
      ]
     },
     "execution_count": 11,
     "metadata": {},
     "output_type": "execute_result"
    }
   ],
   "source": [
    "config = {\n",
    "    'hidden_dim_LSTM': 512,\n",
    "    'hidden_dim_GNN': 256,\n",
    "    'latent_dim': 512,\n",
    "    'condition_dim': 256,\n",
    "    'use_attention': False\n",
    "}\n",
    "\n",
    "model = TransGraphVAE(transformer=bart, device=device, tokenizer=tokenizer, **config)\n",
    "model.to(device)\n",
    "model.eval()"
   ]
  },
  {
   "cell_type": "code",
   "execution_count": 12,
   "metadata": {},
   "outputs": [
    {
     "name": "stderr",
     "output_type": "stream",
     "text": [
      "Running:   0%|          | 0/1520 [00:00<?, ?batch/s]/home/maximos/.local/lib/python3.11/site-packages/music21/stream/base.py:3694: Music21DeprecationWarning: .flat is deprecated.  Call .flatten() instead\n",
      "  return self.iter().getElementsByClass(classFilterList)\n",
      "/home/maximos/.local/lib/python3.11/site-packages/transformers/data/data_collator.py:656: UserWarning: Creating a tensor from a list of numpy.ndarrays is extremely slow. Please consider converting the list to a single numpy.ndarray with numpy.array() before converting to a tensor. (Triggered internally at ../torch/csrc/utils/tensor_new.cpp:261.)\n",
      "  batch[\"labels\"] = torch.tensor(batch[\"labels\"], dtype=torch.int64)\n"
     ]
    },
    {
     "name": "stdout",
     "output_type": "stream",
     "text": [
      "Running:   0%|          | 0/1520 [00:00<?, ?batch/s]\n",
      "tensor([[  2,   6, 180,  95,  55, 101,  55, 107,  55, 111,  57, 119,  57,   6,\n",
      "          95,  58, 101,  57, 107,  53, 111,  55, 119,   4, 123,  53,   6,  95,\n",
      "          55, 101,  55, 107,  55, 111,  57, 119,  57,   6,  95,  58, 101,  58,\n",
      "         107,  55, 111,  58, 119,  60]], device='cuda:0')\n",
      "tensor([[[0., 0., 0.,  ..., 0., 0., 0.],\n",
      "         [0., 0., 0.,  ..., 0., 0., 0.],\n",
      "         [0., 0., 0.,  ..., 0., 0., 0.],\n",
      "         ...,\n",
      "         [0., 0., 0.,  ..., 0., 0., 0.],\n",
      "         [0., 0., 0.,  ..., 0., 0., 0.],\n",
      "         [0., 0., 0.,  ..., 0., 0., 0.]]], device='cuda:0')\n"
     ]
    },
    {
     "name": "stderr",
     "output_type": "stream",
     "text": [
      "Running:   0%|          | 0/1520 [00:02<?, ?batch/s]\n"
     ]
    }
   ],
   "source": [
    "with torch.no_grad():\n",
    "    with tqdm(valloader, unit='batch') as tepoch:\n",
    "        tepoch.set_description(f'Running')\n",
    "        print(tepoch)\n",
    "        for batch in tepoch:\n",
    "            input_ids = batch['input_ids'].to(device)\n",
    "            transitions = batch['transitions'].to(device)\n",
    "            attention_mask = batch['attention_mask'].to(device)\n",
    "            output_tokens = []\n",
    "            output_recon_tokens = []\n",
    "            print(input_ids)\n",
    "            print(transitions)\n",
    "            outputs = model(input_ids, transitions, encoder_attention=attention_mask, generate_max_tokens=500)\n",
    "            for i in outputs['generated_ids'][0]:\n",
    "                output_tokens.append( tokenizer.ids_to_tokens[ int(i) ].replace(' ','x') )\n",
    "            for i in outputs['generated_recon_ids'][0]:\n",
    "                output_recon_tokens.append( tokenizer.ids_to_tokens[ int(i) ].replace(' ','x') )\n",
    "            break"
   ]
  },
  {
   "cell_type": "code",
   "execution_count": 13,
   "metadata": {},
   "outputs": [
    {
     "name": "stdout",
     "output_type": "stream",
     "text": [
      "['<h>', 'C:sus2', 'C:5', 'F:dim7', 'G:min13', 'D:7(#9)', 'P:22', 'A:maj13', 'D#:7(b13)', 'C:dim7', 'G#:maj9', 'F:dim7', 'G:sus4', 'ts_19x8', 'A:dim7', 'G#:min11', 'P:25', 'P:44', 'G:sus4', 'D:7(b13)', 'G#:7(#11)', '<emp>', 'G:minmaj7', 'D#:maj13', 'position_9x83', 'P:85', 'P:85', 'position_9x83', 'G#:dim7', 'ts_7x8', 'P:85', 'G#:minmaj7', 'D:sus4', 'F:min13', 'ts_15x8', '<emp>', 'P:21', 'G:13', 'D#:1', 'G#:maj9', 'position_8x66', 'P:81', 'D:aug', 'position_5x16', 'D:9', 'ts_19x8', 'D#:dim', 'C#:dim', 'C#:dim', 'C:dim7', 'A:maj13', 'C#:sus4', 'D#:7(b13)', 'position_9x83', 'position_7x75', 'C:min6', 'C:min11', 'F#:sus4', 'position_9x83', 'C#:hdim7', 'A:maj13', 'position_9x83', '<rest>', 'E:', 'position_3x66', 'G#:min11', 'G:13', 'P:85', 'G#:dim7', 'F#:9', 'A:maj7', 'position_2x25', 'D:hdim7', 'D:1', 'F#:minmaj7', 'D:aug', '<unk>', 'F:maj6', 'ts_15x8', 'C:7(b13)', 'C:dim', 'position_2x25', 'G#:7(#9)', 'D:7(b13)', 'C:min', 'P:24', 'A:dim7', 'F#:7(#11)', 'F#:', 'position_2x75', 'ts_15x8', 'position_5x16', 'position_8x75', 'A:7(#9)', 'position_8x83', 'F:hdim7', 'C:min9', 'F#:7(#11)', 'P:58', 'P:44', 'P:107', 'position_4x50', 'P:74', 'C#:dim', 'C:1', 'C:min', 'C:9', 'F:sus4', 'F#:7(#11)', 'D#:min', 'C:min9', 'ts_13x8', 'G:7(#9)', 'C#:min13', 'C:min', 'G:maj9', 'C:5', 'A#:maj', 'P:57', 'F:hdim7', 'P:60', 'A#:dim', 'position_8x75', 'C:sus4', 'D:13', 'position_7x33', 'position_9x83', 'D#:7', 'D:min6', 'position_0x66', 'E:maj6', 'position_4x50', 'E:maj7', 'D:min9', 'D:maj13', '<rest>', 'position_8x75', 'A:dim7', 'G#:minmaj7', 'C:dim', 'E:7(#9)', 'C:5', 'P:108', 'P:66', 'C#:maj13', 'P:30', 'C:7(#11)', 'C#:13', 'G:maj6', 'E:', 'D:aug', 'G#:7(b13)', 'C:minmaj7', 'position_1x00', 'F:maj', 'P:82', 'position_2x25', 'E:maj13', 'C#:7(b13)', 'F:hdim7', 'ts_7x4', 'position_2x25', 'G:13', 'position_4x66', 'D:maj7', 'D:7(#9)', 'D:maj', 'G:sus4', 'F#:dim', 'P:84', 'E:7(b13)', 'G:maj', 'G:aug', 'position_7x33', 'C#:13', 'P:93', 'position_5x83', 'position_2x25', 'F#:maj6', 'D#:7(b9)', '<pad>', 'A#:maj9', 'P:55', 'G#:maj9', 'position_2x25', 'C#:maj7', 'P:50', 'G:min6', 'P:60', 'ts_7x4', 'position_2x25', 'position_7x50', 'position_4x83', 'ts_13x8', 'D#:5', 'F:11', 'A:dim7', 'position_3x50', 'position_8x66', 'position_9x00', 'E:7', 'C#:min6', 'C:maj7', 'A#:7', 'G:min13', 'P:68', '<unk>', 'C:7(b9)', 'D:min11', 'F#:7', 'ts_7x4', 'G:min6', 'position_9x83', 'F:hdim7', 'C:7(b9)', 'D:7(#11)', 'position_2x25', 'position_8x50', 'position_2x25', 'ts_3x4', 'G#:7(b13)', 'P:52', 'A:dim7', '<unk>', 'position_8x75', 'position_0x66', 'position_6x50', 'P:55', 'ts_19x8', 'F#:7(#11)', 'E:aug', 'A:7(b13)', 'C:9', 'D#:aug', 'ts_7x4', 'G:maj6', 'position_2x25', 'position_8x83', 'E:maj9', 'position_5x16', 'C#:min11', 'P:31', 'G#:7(#9)', 'position_1x50', 'C#:maj', 'P:22', 'ts_13x8', 'P:22', 'C:5', 'G:7(#9)', 'E:maj9', 'C:minmaj7', 'P:90', 'C#:11', 'P:77', 'F#:minmaj7', 'C:5', 'C:5', 'C#:11', 'D:7(b13)', 'P:22', 'A:11', 'C:minmaj7', 'P:73', 'position_2x25', 'position_3x50', 'D:', 'position_3x33', 'position_5x83', 'F#:aug', 'D:7', 'G#:9', 'C:7(b9)', 'A#:sus2', 'F#:sus4', 'F#:7(b9)', 'A:aug', 'A#:11', 'ts_10x4', 'P:108', 'P:83', 'position_8x75', 'P:79', 'P:37', 'F#:minmaj7', 'G#:maj9', 'position_8x83', 'position_9x25', 'P:105', 'F:min7', 'A:7(#9)', 'C:11', 'C:7(#9)', 'A:min7', 'F:min9', 'A:dim7', 'position_9x00', 'F#:min7', 'C:dim7', 'E:min9', 'P:78', 'D:9', 'D:9', 'D:9', 'P:93', 'G:min13', 'F:hdim7', 'position_5x16', 'C#:maj', '<rest>', 'F:min13', 'E:maj6', 'C:min', 'C:5', 'ts_13x8', 'G:minmaj7', 'A:7(b13)', 'D:9', 'G:7', 'G#:min11', 'G:dim7', 'E:maj9', 'ts_13x8', 'position_4x50', 'F#:minmaj7', 'D:', 'C:sus4', 'G:sus2', 'F#:sus4', 'ts_7x4', 'C#:7(b13)', 'position_5x00', 'position_4x83', 'C:7(b9)', 'F:maj', 'C:7(b9)', 'position_1x33', 'ts_13x8', 'G:min13', 'ts_9x8', 'A#:9', 'position_9x83', '<bar>', 'position_2x50', 'C:dim', 'C:minmaj7', 'D:aug', 'F:sus2', 'G#:min11', 'G#:maj9', 'A:dim', 'E:', 'G#:7(#11)', 'D#:13', '<rest>', 'G#:7(#11)', 'G#:maj', 'position_2x00', 'C#:7(b13)', 'G:7(b9)', 'P:92', 'position_3x33', 'P:24', 'C:min', 'P:43', 'C#:aug', 'F#:dim7', 'position_9x83', 'ts_7x4', 'D:9', 'G#:maj9', 'P:44', 'D:maj9', 'ts_7x4', 'D:9', 'P:57', 'ts_19x8', 'C:sus2', 'G:min11', 'G:7(#9)', 'C:7(b13)', 'D:aug', 'C#:dim7', 'D:7', 'position_9x83', 'position_1x66', 'C:sus2', 'position_9x00', 'E:7(#9)', 'E:maj9', 'position_0x66', 'A:', 'D:7(b13)', 'position_6x16', 'G#:min7', 'A#:7', 'position_7x50', 'G#:maj9', 'position_5x00', 'F#:maj7', 'position_3x25', 'ts_3x4', 'position_9x83', 'P:99', 'E:sus2', 'ts_5x8', 'G:maj6', 'ts_7x4', 'F:maj7', 'P:83', 'G:aug', 'D:maj13', 'D#:7(b13)', 'position_3x33', 'D:aug', 'F#:hdim7', 'P:22', 'P:73', 'D:7(#11)', 'A#:sus2', 'C:9', 'ts_13x8', 'F#:7(#11)', 'D:9', 'C:minmaj7', 'G:hdim7', 'position_6x25', 'E:7(#9)', 'G:minmaj7', 'C#:7(b13)', 'D#:7', 'D#:min11', 'G#:7(b13)', 'P:93', 'P:108', 'ts_19x8', 'A:7(b13)', 'D:9', 'A#:sus4', 'A#:7', 'A#:min7', 'P:73', 'position_3x66', 'E:7(#9)', 'F:7(#11)', 'C#:7(#9)', 'D:maj9', 'P:22', 'A:maj7', 'D#:9', 'D#:dim', 'F#:maj13', 'C:7(#9)', 'G:sus4', 'C#:maj9', 'A:hdim7', 'E:maj9', 'P:25', 'A:7(b9)', 'C#:hdim7', 'D:', 'G#:7(#9)', 'P:90', 'G#:maj7', 'A:hdim7', 'E:13', 'C#:min13', 'position_1x75', 'A:7(#11)', 'P:75', 'P:25', 'P:42', 'C:5', 'G:maj6', 'G#:min9', 'C:maj7', 'position_6x75', 'A:min7', 'P:81', 'P:42', 'P:46', 'A#:maj7', 'position_0x66', 'position_3x66', 'P:84', '<pad>', 'P:67', 'P:39', 'G#:maj9', 'F:7', 'D#:min11', 'G#:maj9', 'D#:1', 'P:98', 'P:106', 'P:85', 'P:39', 'G:aug', 'ts_7x4', 'C:minmaj7', 'P:73']\n"
     ]
    }
   ],
   "source": [
    "print(output_tokens)"
   ]
  },
  {
   "cell_type": "code",
   "execution_count": 14,
   "metadata": {},
   "outputs": [
    {
     "name": "stdout",
     "output_type": "stream",
     "text": [
      "['<h>', 'P:62', 'D:7', 'D#:min', 'position_4x00', 'F#:7', 'G#:9', 'position_1x75', 'A#:minmaj7', 'P:87', 'E:maj9', 'P:77', 'D#:sus2', 'ts_13x8', 'A:dim7', 'F:11', 'P:43', 'F:maj7', 'C:aug', 'P:85', 'G#:7(#9)', 'A:dim7', 'E:min9', 'position_9x83', 'P:85', 'P:40', 'D#:dim', 'D#:min13', 'E:maj9', 'E:dim7', 'P:95', 'G:min7', 'G:11', 'D:min6', 'G:aug', 'P:84', 'C:9', 'A#:13', 'position_9x83', 'C:min9', 'P:36', 'C#:min7', 'G:7', 'C#:min6', 'E:maj6', 'A:13', 'P:107', 'F#:7', 'position_2x66', 'F:aug', 'position_9x83', 'position_8x75', 'A#:sus2', 'D:aug', 'G#:maj9', 'G#:maj9', 'C:dim', 'P:85', 'position_3x33', 'position_7x00', 'P:50', 'D#:min7', '<mask>', 'P:90', 'D:7(b13)', 'G#:maj13', 'D:minmaj7', 'position_1x16', 'C#:hdim7', 'ts_13x8', 'C#:min9', 'E:hdim7', 'F:7(b9)', 'C:maj6', 'A:min', 'position_5x16', 'position_9x83', 'P:21', 'C:min', 'position_3x75', 'position_3x16', 'G#:7(b9)', 'F:min13', 'P:85', 'G:min7', 'F#:sus4', 'F:hdim7', 'P:48', 'P:67', 'G:dim', 'P:37', 'P:66', 'D:min13', 'F:5', 'C#:13', 'P:28', 'F#:sus2', 'P:85', 'D#:maj', 'C:11', 'P:71', 'C#:min6', 'F#:7', 'G#:sus4', 'G#:hdim7', '<emp>', 'C:9', 'P:57', 'P:70', 'D:9', '<unk>', 'E:sus2', 'C:sus2', 'C:hdim7', 'C:dim7', 'D:7(b13)', 'A#:sus2', 'F:11', 'P:40', 'G#:11', 'position_8x66', 'ts_4x4', 'position_4x83', 'position_0x33', 'G#:min13', 'position_0x16', 'D:9', 'G#:min11', 'position_7x33', 'C:maj7', 'C:7(#11)', 'A:aug', 'A#:7', 'G:min', 'position_6x00', 'position_6x83', 'A#:maj', 'G:maj', 'G:dim7', '<emp>', 'P:30', 'A#:min11', 'P:24', 'E:min9', 'G#:min', '<bar>', 'position_6x50', 'C#:min6', 'F#:7(b13)', 'G:dim', 'position_2x25', 'F#:dim7', 'position_6x50', 'E:maj9', 'ts_10x4', 'P:44', 'D#:min7', 'A#:min6', 'A#:maj', 'F#:min6', 'C#:maj9', 'D#:13', 'position_0x00', 'G:min11', 'position_0x50', 'F:dim', 'E:dim', 'F#:7', 'C:7(#11)', 'A#:min11', 'P:70', 'C:maj6', 'P:21', 'F#:7(b13)', 'A#:dim7', 'P:104', 'D#:min', 'P:92', 'ts_2x4', 'F:11', 'F:dim', 'D#:13', 'ts_15x8', 'P:99', 'C:minmaj7', 'P:49', 'G:maj7', 'D#:hdim7', 'E:sus2', 'F:7(#9)', 'G#:min', 'D:7(b13)', 'F:maj6', 'A:7(b13)', 'ts_7x8', 'position_6x16', 'C#:maj6', 'G#:1', 'G#:min13', 'D#:maj6', 'P:85', 'E:sus2', 'F:7', 'E:maj6', 'D#:sus2', 'P:24', 'P:78', 'position_9x25', 'E:maj7', 'E:', 'C:maj6', 'E:sus2', 'D:9', 'G:maj6', 'P:78', 'position_6x83', 'D#:maj9', 'ts_7x8', 'F#:min9', 'F:7(#9)', 'C:min7', 'G:maj', 'P:67', 'position_8x75', 'G:maj7', 'P:40', 'C:maj7', 'D:', 'D:min11', 'D#:7(#11)', 'position_6x83', 'D:maj6', 'P:86', 'D:9', 'D:maj7', 'D:9', 'G:1', 'F#:maj', 'position_4x83', 'position_0x00', 'F:min7', 'F:min13', 'E:maj7', 'C:maj7', 'P:92', 'P:75', 'ts_7x4', 'G:maj', 'P:78', 'C:minmaj7', 'position_6x33', 'C#:maj6', 'position_4x50', 'D#:7(#11)', 'G#:min13', 'P:41', 'position_0x16', 'C:minmaj7', 'P:62', 'P:25', 'D:7', 'F#:9', 'F:min7', 'G#:7(#9)', 'C:7(b9)', 'P:83', 'E:dim', 'P:52', 'P:21', 'position_9x50', 'A:hdim7', '<h>', 'C#:min11', 'G#:maj9', 'P:21', 'ts_7x4', 'D:9', 'G#:maj9', 'D#:min6', 'ts_7x4', 'P:56', 'P:25', 'C:dim7', 'position_0x00', 'F:maj6', 'F:aug', 'G:5', 'A:aug', 'P:92', 'C:sus2', 'A#:sus2', 'D:9', 'E:1', 'E:min9', 'C:dim7', '<unk>', 'E:min9', 'D:', 'C:dim7', 'E:min9', 'P:21', 'D:7(b13)', 'P:107', 'C:7(b9)', 'C:7(b13)', 'C:7(b9)', 'D:9', 'C:7(b9)', 'position_6x25', 'D#:maj', 'A:aug', 'A#:min11', 'P:25', 'E:13', 'C:7(b9)', 'C#:maj6', 'G:maj7', 'G#:maj9', '<pad>', 'G#:maj9', 'E:maj9', 'G#:maj9', 'P:55', 'P:58', 'ts_8x4', 'G#:min13', 'position_2x66', 'D:maj9', 'E:maj6', 'F#:maj', 'C:9', 'position_5x83', 'P:60', 'P:43', 'D:9', 'D:9', 'D:9', 'D:9', 'P:70', 'P:80', 'ts_7x4', 'C#:min11', 'D:hdim7', 'position_1x33', 'G:7(#9)', 'C#:7', 'F#:7(#11)', 'E:min', '<mask>', 'G:maj7', 'E:maj7', 'F#:min13', 'D:maj9', 'C:7(b9)', 'ts_3x4', 'A:5', 'P:107', 'C:maj6', 'A#:min9', 'P:21', 'D:9', 'A#:min', 'P:93', 'position_1x33', 'position_9x00', 'P:44', 'G:min9', 'E:1', 'G#:maj9', 'G#:13', 'A:aug', 'ts_13x8', 'position_0x00', 'C#:5', 'D:9', 'G#:9', 'D:7(#11)', 'D:9', 'E:maj7', 'C#:maj6', 'G#:min11', 'P:67', 'A#:hdim7', 'E:maj6', 'C:minmaj7', 'F#:dim', 'ts_7x4', 'A:maj6', 'A#:min6', 'G:min7', 'P:52', 'C:minmaj7', 'P:43', 'P:25', 'G:7(#11)', 'G#:maj9', 'D#:maj9', 'position_6x66', 'F:7(b13)', 'D:5', 'E:maj6', 'E:sus2', 'position_0x00', 'D:9', 'P:89', 'F#:dim7', 'D:9', 'G#:min13', 'E:maj6', 'P:101', 'ts_7x4', 'E:dim', 'C:min', 'D:maj9', 'F:aug', 'F:min7', 'E:1', 'P:38', 'ts_7x4', 'P:40', 'A#:min13', 'C:min', 'position_3x00', 'P:67', 'P:28', 'ts_7x4', 'D:maj9', 'D:9', 'D:9', 'D:9', 'D:9', 'C:sus4', 'D#:9', 'D:7', 'G:dim', 'A:maj6', 'position_4x83', 'P:87', 'D:9', 'D:9', 'F:maj', 'E:maj7', 'position_7x33', 'ts_4x4', 'F:aug', 'D:9', 'D:9', 'D:9', 'A:7(#9)', 'C#:hdim7', 'P:73', 'G#:7(#9)', 'G#:min11', 'ts_13x8', 'P:108', 'A:aug', 'P:43', 'F:maj6', 'P:28', 'F:maj', 'D:', 'F:dim', 'position_9x50', 'position_0x50', 'P:82', 'E:dim', 'P:79', 'A#:min6', 'ts_7x8', 'C:7(#9)', 'F:min7', 'F:maj13', 'E:1', 'G#:maj9', 'position_6x66', 'C:min', 'F:minmaj7', 'A:7', 'G:13', 'P:98', 'P:25', 'F#:dim7', 'A#:7', 'C:min', 'E:min7', 'A#:maj', 'D#:maj', 'position_6x66', 'P:87', 'D:9', 'A:maj', 'C#:sus4', 'D:9', 'D#:7(#9)', 'position_5x16', 'ts_10x4', 'P:36', 'D:9', 'D:9', 'D:9', 'position_4x00']\n"
     ]
    }
   ],
   "source": [
    "print(output_recon_tokens)"
   ]
  },
  {
   "cell_type": "code",
   "execution_count": 15,
   "metadata": {},
   "outputs": [
    {
     "name": "stdout",
     "output_type": "stream",
     "text": [
      "tensor([[  2,   6, 180,  95,  55, 101,  55, 107,  55, 111,  57, 119,  57,   6,\n",
      "          95,  58, 101,  57, 107,  53, 111,  55, 119,   4, 123,  53,   6,  95,\n",
      "          55, 101,  55, 107,  55, 111,  57, 119,  57,   6,  95,  58, 101,  58,\n",
      "         107,  55, 111,  58, 119,  60]], device='cuda:0')\n",
      "['<s>', '<bar>', 'ts_4x4', 'position_0x00', 'P:69', 'position_0x75', 'P:69', 'position_1x50', 'P:69', 'position_2x00', 'P:71', 'position_3x00', 'P:71', '<bar>', 'position_0x00', 'P:72', 'position_0x75', 'P:71', 'position_1x50', 'P:67', 'position_2x00', 'P:69', 'position_3x00', '<rest>', 'position_3x50', 'P:67', '<bar>', 'position_0x00', 'P:69', 'position_0x75', 'P:69', 'position_1x50', 'P:69', 'position_2x00', 'P:71', 'position_3x00', 'P:71', '<bar>', 'position_0x00', 'P:72', 'position_0x75', 'P:72', 'position_1x50', 'P:69', 'position_2x00', 'P:72', 'position_3x00', 'P:74']\n"
     ]
    }
   ],
   "source": [
    "input_ids = batch['input_ids'].to(device)\n",
    "print(input_ids)\n",
    "input_tokens = []\n",
    "for i in input_ids[0]:\n",
    "    input_tokens.append( tokenizer.ids_to_tokens[ int(i) ].replace(' ','x') )\n",
    "print(input_tokens)"
   ]
  },
  {
   "cell_type": "code",
   "execution_count": 16,
   "metadata": {},
   "outputs": [],
   "source": [
    "outputs = bart.generate(\n",
    "    input_ids=input_ids,\n",
    "    # attention_mask=batch['attention_mask'][bi],\n",
    "    bos_token_id=tokenizer.vocab[tokenizer.harmony_tokenizer.start_harmony_token],\n",
    "    eos_token_id=tokenizer.eos_token_id,\n",
    "    max_new_tokens=500,\n",
    "    do_sample=True,\n",
    "    temperature=1.0\n",
    ")"
   ]
  },
  {
   "cell_type": "code",
   "execution_count": 17,
   "metadata": {},
   "outputs": [
    {
     "name": "stdout",
     "output_type": "stream",
     "text": [
      "tensor([[  2, 196,   6,  95, 255, 111, 400,   6,  95, 466,   6,  95, 255, 111,\n",
      "         400,   6,  95, 466,   3]], device='cuda:0')\n",
      "['<s>', '<h>', '<bar>', 'position_0x00', 'D:maj', 'position_2x00', 'G:maj', '<bar>', 'position_0x00', 'A:min7', '<bar>', 'position_0x00', 'D:maj', 'position_2x00', 'G:maj', '<bar>', 'position_0x00', 'A:min7', '</s>']\n"
     ]
    }
   ],
   "source": [
    "print(outputs)\n",
    "bart_only_outputs = []\n",
    "for i in outputs[0]:\n",
    "    bart_only_outputs.append( tokenizer.ids_to_tokens[ int(i) ].replace(' ','x') )\n",
    "print(bart_only_outputs)"
   ]
  },
  {
   "cell_type": "code",
   "execution_count": null,
   "metadata": {},
   "outputs": [],
   "source": []
  }
 ],
 "metadata": {
  "kernelspec": {
   "display_name": "torch",
   "language": "python",
   "name": "python3"
  },
  "language_info": {
   "codemirror_mode": {
    "name": "ipython",
    "version": 3
   },
   "file_extension": ".py",
   "mimetype": "text/x-python",
   "name": "python",
   "nbconvert_exporter": "python",
   "pygments_lexer": "ipython3",
   "version": "3.11.5"
  }
 },
 "nbformat": 4,
 "nbformat_minor": 2
}
