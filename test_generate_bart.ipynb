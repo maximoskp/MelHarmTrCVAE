{
 "cells": [
  {
   "cell_type": "code",
   "execution_count": 7,
   "metadata": {},
   "outputs": [],
   "source": [
    "# USER OPTIONS\n",
    "# define tokenizer name - should be one among the keys in the cell below\n",
    "tokenizer_name = 'ChordSymbolTokenizer' # or any other name from the keys in tokenizers dictionary\n",
    "# tokenizer_name = 'RootTypeTokenizer'\n",
    "# tokenizer_name = 'PitchClassTokenizer'\n",
    "# folder to xmls\n",
    "val_dir = '/media/maindisk/maximos/data/hooktheory_test'\n",
    "# val_dir = '/media/maindisk/maximos/data/gjt_melodies/Library_melodies'\n",
    "# val_dir = '/media/datadisk/datasets/gjt_melodies/Library_melodies'\n",
    "# val_dir = '/media/maximos/9C33-6BBD/data/gjt_melodies/Library_melodies'\n",
    "\n",
    "# define batch size depending on GPU availability / status\n",
    "batchsize = 16\n",
    "# select device name - could be 'cpu', 'cuda', 'coda:0', 'cuda:1'...\n",
    "device_name = 'cuda'"
   ]
  },
  {
   "cell_type": "code",
   "execution_count": 8,
   "metadata": {},
   "outputs": [],
   "source": [
    "from data_utils import SeparatedMelHarmMarkovDataset\n",
    "import os\n",
    "import numpy as np\n",
    "from harmony_tokenizers_m21 import ChordSymbolTokenizer, RootTypeTokenizer, \\\n",
    "    PitchClassTokenizer, RootPCTokenizer, GCTRootPCTokenizer, \\\n",
    "    GCTSymbolTokenizer, GCTRootTypeTokenizer, MelodyPitchTokenizer, \\\n",
    "    MergedMelHarmTokenizer\n",
    "import torch\n",
    "from torch.optim import AdamW\n",
    "from torch.utils.data import DataLoader\n",
    "from transformers import BartForConditionalGeneration, BartConfig, DataCollatorForSeq2Seq\n",
    "from tqdm import tqdm\n",
    "from models import TransGraphVAE\n",
    "import csv"
   ]
  },
  {
   "cell_type": "code",
   "execution_count": 9,
   "metadata": {},
   "outputs": [],
   "source": [
    "tokenizers = {\n",
    "    'ChordSymbolTokenizer': ChordSymbolTokenizer,\n",
    "    'RootTypeTokenizer': RootTypeTokenizer,\n",
    "    'PitchClassTokenizer': PitchClassTokenizer,\n",
    "    'RootPCTokenizer': RootPCTokenizer,\n",
    "    'GCTRootPCTokenizer': GCTRootPCTokenizer,\n",
    "    'GCTSymbolTokenizer': GCTSymbolTokenizer,\n",
    "    'GCTRootTypeTokenizer': GCTRootTypeTokenizer\n",
    "}"
   ]
  },
  {
   "cell_type": "code",
   "execution_count": 10,
   "metadata": {},
   "outputs": [],
   "source": [
    "melody_tokenizer = MelodyPitchTokenizer.from_pretrained('saved_tokenizers/MelodyPitchTokenizer')\n",
    "harmony_tokenizer = tokenizers[tokenizer_name].from_pretrained('saved_tokenizers/' + tokenizer_name)\n",
    "\n",
    "tokenizer = MergedMelHarmTokenizer(melody_tokenizer, harmony_tokenizer)\n",
    "\n",
    "model_path = 'saved_models/bart/' + tokenizer_name + '/' + tokenizer_name + '.pt'"
   ]
  },
  {
   "cell_type": "code",
   "execution_count": 11,
   "metadata": {},
   "outputs": [],
   "source": [
    "device = torch.device(\"cuda\" if torch.cuda.is_available() else \"cpu\")"
   ]
  },
  {
   "cell_type": "code",
   "execution_count": 12,
   "metadata": {},
   "outputs": [
    {
     "data": {
      "text/plain": [
       "<All keys matched successfully>"
      ]
     },
     "execution_count": 12,
     "metadata": {},
     "output_type": "execute_result"
    }
   ],
   "source": [
    "bart_config = BartConfig(\n",
    "    vocab_size=len(tokenizer.vocab),\n",
    "    pad_token_id=tokenizer.pad_token_id,\n",
    "    bos_token_id=tokenizer.bos_token_id,\n",
    "    eos_token_id=tokenizer.eos_token_id,\n",
    "    decoder_start_token_id=tokenizer.bos_token_id,\n",
    "    forced_eos_token_id=tokenizer.eos_token_id,\n",
    "    max_position_embeddings=512,\n",
    "    encoder_layers=8,\n",
    "    encoder_attention_heads=8,\n",
    "    encoder_ffn_dim=512,\n",
    "    decoder_layers=8,\n",
    "    decoder_attention_heads=8,\n",
    "    decoder_ffn_dim=512,\n",
    "    d_model=512,\n",
    "    encoder_layerdrop=0.3,\n",
    "    decoder_layerdrop=0.3,\n",
    "    dropout=0.3\n",
    ")\n",
    "\n",
    "bart = BartForConditionalGeneration(bart_config)\n",
    "\n",
    "if torch.cuda.is_available():\n",
    "    checkpoint = torch.load(model_path, weights_only=True)\n",
    "else:\n",
    "    checkpoint = torch.load(model_path, map_location=\"cpu\", weights_only=True)\n",
    "bart.load_state_dict(checkpoint)"
   ]
  },
  {
   "cell_type": "code",
   "execution_count": 13,
   "metadata": {},
   "outputs": [],
   "source": [
    "test_dir = '/mnt/ssd2/maximos/data/hooktheory_test'\n",
    "test_dataset = SeparatedMelHarmMarkovDataset(test_dir, tokenizer, max_length=512, num_bars=64)\n",
    "\n",
    "# Data collator for BART\n",
    "def create_data_collator(tokenizer, model):\n",
    "    return DataCollatorForSeq2Seq(tokenizer=tokenizer, model=model, padding=True)\n",
    "# end create_data_collator"
   ]
  },
  {
   "cell_type": "code",
   "execution_count": 14,
   "metadata": {},
   "outputs": [],
   "source": [
    "collator = create_data_collator(tokenizer, model=bart)\n",
    "valloader = DataLoader(test_dataset, batch_size=1, shuffle=True, collate_fn=collator)"
   ]
  },
  {
   "cell_type": "code",
   "execution_count": 15,
   "metadata": {},
   "outputs": [
    {
     "data": {
      "text/plain": [
       "TransGraphVAE(\n",
       "  (transformer): BartForConditionalGeneration(\n",
       "    (model): BartModel(\n",
       "      (shared): BartScaledWordEmbedding(545, 512, padding_idx=1)\n",
       "      (encoder): BartEncoder(\n",
       "        (embed_tokens): BartScaledWordEmbedding(545, 512, padding_idx=1)\n",
       "        (embed_positions): BartLearnedPositionalEmbedding(514, 512)\n",
       "        (layers): ModuleList(\n",
       "          (0-7): 8 x BartEncoderLayer(\n",
       "            (self_attn): BartSdpaAttention(\n",
       "              (k_proj): Linear(in_features=512, out_features=512, bias=True)\n",
       "              (v_proj): Linear(in_features=512, out_features=512, bias=True)\n",
       "              (q_proj): Linear(in_features=512, out_features=512, bias=True)\n",
       "              (out_proj): Linear(in_features=512, out_features=512, bias=True)\n",
       "            )\n",
       "            (self_attn_layer_norm): LayerNorm((512,), eps=1e-05, elementwise_affine=True)\n",
       "            (activation_fn): GELUActivation()\n",
       "            (fc1): Linear(in_features=512, out_features=512, bias=True)\n",
       "            (fc2): Linear(in_features=512, out_features=512, bias=True)\n",
       "            (final_layer_norm): LayerNorm((512,), eps=1e-05, elementwise_affine=True)\n",
       "          )\n",
       "        )\n",
       "        (layernorm_embedding): LayerNorm((512,), eps=1e-05, elementwise_affine=True)\n",
       "      )\n",
       "      (decoder): BartDecoder(\n",
       "        (embed_tokens): BartScaledWordEmbedding(545, 512, padding_idx=1)\n",
       "        (embed_positions): BartLearnedPositionalEmbedding(514, 512)\n",
       "        (layers): ModuleList(\n",
       "          (0-7): 8 x BartDecoderLayer(\n",
       "            (self_attn): BartSdpaAttention(\n",
       "              (k_proj): Linear(in_features=512, out_features=512, bias=True)\n",
       "              (v_proj): Linear(in_features=512, out_features=512, bias=True)\n",
       "              (q_proj): Linear(in_features=512, out_features=512, bias=True)\n",
       "              (out_proj): Linear(in_features=512, out_features=512, bias=True)\n",
       "            )\n",
       "            (activation_fn): GELUActivation()\n",
       "            (self_attn_layer_norm): LayerNorm((512,), eps=1e-05, elementwise_affine=True)\n",
       "            (encoder_attn): BartSdpaAttention(\n",
       "              (k_proj): Linear(in_features=512, out_features=512, bias=True)\n",
       "              (v_proj): Linear(in_features=512, out_features=512, bias=True)\n",
       "              (q_proj): Linear(in_features=512, out_features=512, bias=True)\n",
       "              (out_proj): Linear(in_features=512, out_features=512, bias=True)\n",
       "            )\n",
       "            (encoder_attn_layer_norm): LayerNorm((512,), eps=1e-05, elementwise_affine=True)\n",
       "            (fc1): Linear(in_features=512, out_features=512, bias=True)\n",
       "            (fc2): Linear(in_features=512, out_features=512, bias=True)\n",
       "            (final_layer_norm): LayerNorm((512,), eps=1e-05, elementwise_affine=True)\n",
       "          )\n",
       "        )\n",
       "        (layernorm_embedding): LayerNorm((512,), eps=1e-05, elementwise_affine=True)\n",
       "      )\n",
       "    )\n",
       "    (lm_head): Linear(in_features=512, out_features=545, bias=False)\n",
       "  )\n",
       "  (t_encoder): BartEncoder(\n",
       "    (embed_tokens): BartScaledWordEmbedding(545, 512, padding_idx=1)\n",
       "    (embed_positions): BartLearnedPositionalEmbedding(514, 512)\n",
       "    (layers): ModuleList(\n",
       "      (0-7): 8 x BartEncoderLayer(\n",
       "        (self_attn): BartSdpaAttention(\n",
       "          (k_proj): Linear(in_features=512, out_features=512, bias=True)\n",
       "          (v_proj): Linear(in_features=512, out_features=512, bias=True)\n",
       "          (q_proj): Linear(in_features=512, out_features=512, bias=True)\n",
       "          (out_proj): Linear(in_features=512, out_features=512, bias=True)\n",
       "        )\n",
       "        (self_attn_layer_norm): LayerNorm((512,), eps=1e-05, elementwise_affine=True)\n",
       "        (activation_fn): GELUActivation()\n",
       "        (fc1): Linear(in_features=512, out_features=512, bias=True)\n",
       "        (fc2): Linear(in_features=512, out_features=512, bias=True)\n",
       "        (final_layer_norm): LayerNorm((512,), eps=1e-05, elementwise_affine=True)\n",
       "      )\n",
       "    )\n",
       "    (layernorm_embedding): LayerNorm((512,), eps=1e-05, elementwise_affine=True)\n",
       "  )\n",
       "  (t_decoder): BartDecoder(\n",
       "    (embed_tokens): BartScaledWordEmbedding(545, 512, padding_idx=1)\n",
       "    (embed_positions): BartLearnedPositionalEmbedding(514, 512)\n",
       "    (layers): ModuleList(\n",
       "      (0-7): 8 x BartDecoderLayer(\n",
       "        (self_attn): BartSdpaAttention(\n",
       "          (k_proj): Linear(in_features=512, out_features=512, bias=True)\n",
       "          (v_proj): Linear(in_features=512, out_features=512, bias=True)\n",
       "          (q_proj): Linear(in_features=512, out_features=512, bias=True)\n",
       "          (out_proj): Linear(in_features=512, out_features=512, bias=True)\n",
       "        )\n",
       "        (activation_fn): GELUActivation()\n",
       "        (self_attn_layer_norm): LayerNorm((512,), eps=1e-05, elementwise_affine=True)\n",
       "        (encoder_attn): BartSdpaAttention(\n",
       "          (k_proj): Linear(in_features=512, out_features=512, bias=True)\n",
       "          (v_proj): Linear(in_features=512, out_features=512, bias=True)\n",
       "          (q_proj): Linear(in_features=512, out_features=512, bias=True)\n",
       "          (out_proj): Linear(in_features=512, out_features=512, bias=True)\n",
       "        )\n",
       "        (encoder_attn_layer_norm): LayerNorm((512,), eps=1e-05, elementwise_affine=True)\n",
       "        (fc1): Linear(in_features=512, out_features=512, bias=True)\n",
       "        (fc2): Linear(in_features=512, out_features=512, bias=True)\n",
       "        (final_layer_norm): LayerNorm((512,), eps=1e-05, elementwise_affine=True)\n",
       "      )\n",
       "    )\n",
       "    (layernorm_embedding): LayerNorm((512,), eps=1e-05, elementwise_affine=True)\n",
       "  )\n",
       "  (cvae): CVAE(\n",
       "    (lstm_encoder): BiLSTMEncoder(\n",
       "      (lstm): LSTM(512, 512, batch_first=True, bidirectional=True)\n",
       "      (fc): Linear(in_features=1024, out_features=512, bias=True)\n",
       "    )\n",
       "    (lstm_decoder): BiLSTMDecoder(\n",
       "      (lstm): LSTM(512, 512, batch_first=True)\n",
       "      (fc): Linear(in_features=512, out_features=512, bias=True)\n",
       "    )\n",
       "    (graph_conditioning): GraphConditioningModule(\n",
       "      (gnn1): GCNConv(1, 256)\n",
       "      (gnn2): GCNConv(256, 256)\n",
       "      (fc): Linear(in_features=256, out_features=256, bias=True)\n",
       "    )\n",
       "    (fc_mu): Linear(in_features=768, out_features=512, bias=True)\n",
       "    (fc_logvar): Linear(in_features=768, out_features=512, bias=True)\n",
       "    (fc_z): Linear(in_features=768, out_features=512, bias=True)\n",
       "  )\n",
       ")"
      ]
     },
     "execution_count": 15,
     "metadata": {},
     "output_type": "execute_result"
    }
   ],
   "source": [
    "config = {\n",
    "    'hidden_dim_LSTM': 512,\n",
    "    'hidden_dim_GNN': 256,\n",
    "    'latent_dim': 512,\n",
    "    'condition_dim': 256,\n",
    "    'use_attention': False\n",
    "}\n",
    "\n",
    "model = TransGraphVAE(transformer=bart, device=device, tokenizer=tokenizer, **config)\n",
    "model.to(device)\n",
    "model.eval()"
   ]
  },
  {
   "cell_type": "code",
   "execution_count": 16,
   "metadata": {},
   "outputs": [
    {
     "name": "stderr",
     "output_type": "stream",
     "text": [
      "Running:   0%|          | 0/1520 [00:00<?, ?batch/s]/home/maximos/.local/lib/python3.11/site-packages/music21/stream/base.py:3694: Music21DeprecationWarning: .flat is deprecated.  Call .flatten() instead\n",
      "  return self.iter().getElementsByClass(classFilterList)\n",
      "/home/maximos/.local/lib/python3.11/site-packages/transformers/data/data_collator.py:656: UserWarning: Creating a tensor from a list of numpy.ndarrays is extremely slow. Please consider converting the list to a single numpy.ndarray with numpy.array() before converting to a tensor. (Triggered internally at ../torch/csrc/utils/tensor_new.cpp:261.)\n",
      "  batch[\"labels\"] = torch.tensor(batch[\"labels\"], dtype=torch.int64)\n"
     ]
    },
    {
     "name": "stdout",
     "output_type": "stream",
     "text": [
      "Running:   0%|          | 0/1520 [00:00<?, ?batch/s]\n",
      "tensor([[  2,   6, 180,  95,  46, 103,   4, 119,  46, 123,  48,   6,  95,  48,\n",
      "          99,  45, 111,   4, 119,  41, 123,  41,   6,  95,  46,  99,  46, 103,\n",
      "          46, 107,  46, 111,  46, 115,  46, 119,  41, 123,  43,   6,  95,  43,\n",
      "         103,   4, 111,  46, 115,  46, 119,  48, 123,  46,   6,  95,  46, 107,\n",
      "           4, 119,  46, 123,  48,   6,  95,  48,  99,  45, 111,   4, 119,  41,\n",
      "         123,  41,   6,  95,  46,  99,  46, 103,  46, 107,  46, 111,  46, 115,\n",
      "          46, 119,  41, 123,  43,   6,  95,  43, 103,   4, 111,  46, 115,  46,\n",
      "         119,  46, 123,  46,   6,  95,  46, 103,  41, 107,  41, 119,  48, 123,\n",
      "          48,   6,  95,  48, 103,  41, 107,  41, 119,  50, 123,  50,   6,  95,\n",
      "          50,  99,  48, 101,  46, 103,  46, 107,  46, 119,  51, 123,  51,   6,\n",
      "          95,  51, 103,   4, 111,  50, 115,  48, 119,  46, 123,  46,   6,  95,\n",
      "          46, 107,   4, 119,  46, 123,  48,   6,  95,  48,  99,  45, 111,   4,\n",
      "         119,  41, 123,  41,   6,  95,  50,  99,  50, 103,  50, 107,  50, 111,\n",
      "          50, 115,  50, 119,  48, 123,  46,   6,  95,  46, 111,   4]],\n",
      "       device='cuda:0')\n",
      "tensor([[[0., 0., 0.,  ..., 0., 0., 0.],\n",
      "         [0., 0., 0.,  ..., 0., 0., 0.],\n",
      "         [0., 0., 0.,  ..., 0., 0., 0.],\n",
      "         ...,\n",
      "         [0., 0., 0.,  ..., 0., 0., 0.],\n",
      "         [0., 0., 0.,  ..., 0., 0., 0.],\n",
      "         [0., 0., 0.,  ..., 0., 0., 0.]]], device='cuda:0')\n"
     ]
    },
    {
     "name": "stderr",
     "output_type": "stream",
     "text": [
      "Running:   0%|          | 0/1520 [00:02<?, ?batch/s]\n"
     ]
    }
   ],
   "source": [
    "with torch.no_grad():\n",
    "    with tqdm(valloader, unit='batch') as tepoch:\n",
    "        tepoch.set_description(f'Running')\n",
    "        print(tepoch)\n",
    "        for batch in tepoch:\n",
    "            input_ids = batch['input_ids'].to(device)\n",
    "            transitions = batch['transitions'].to(device)\n",
    "            attention_mask = batch['attention_mask'].to(device)\n",
    "            output_tokens = []\n",
    "            output_recon_tokens = []\n",
    "            print(input_ids)\n",
    "            print(transitions)\n",
    "            outputs = model(input_ids, transitions, encoder_attention=attention_mask, generate_max_tokens=500)\n",
    "            for i in outputs['generated_ids'][0]:\n",
    "                output_tokens.append( tokenizer.ids_to_tokens[ int(i) ].replace(' ','x') )\n",
    "            for i in outputs['generated_recon_ids'][0]:\n",
    "                output_recon_tokens.append( tokenizer.ids_to_tokens[ int(i) ].replace(' ','x') )\n",
    "            break"
   ]
  },
  {
   "cell_type": "code",
   "execution_count": 17,
   "metadata": {},
   "outputs": [
    {
     "name": "stdout",
     "output_type": "stream",
     "text": [
      "['<h>', 'G#:min', 'P:99', 'position_9x83', 'position_8x00', 'F:min13', 'E:maj', 'P:85', 'C#:7(#9)', 'C:1', 'E:maj9', 'G#:minmaj7', 'C:minmaj7', 'P:69', 'position_6x66', 'F:hdim7', 'F#:dim', 'C#:maj6', 'P:85', 'A#:dim7', 'E:maj', 'P:49', 'F#:9', 'C:9', 'A:maj13', 'C:min', 'P:85', 'position_9x16', 'position_5x25', 'position_5x00', 'P:85', 'D#:maj6', 'F:min13', 'position_6x66', 'P:62', 'G:7(#9)', '<rest>', 'position_8x83', 'P:96', 'position_9x83', 'A:aug', 'E:hdim7', 'G:7(b9)', 'G#:minmaj7', 'A#:maj7', 'G#:1', 'C#:min6', 'A:maj7', 'D#:aug', 'G:maj9', 'P:108', 'G:7(#11)', 'F#:minmaj7', 'E:min9', 'position_3x83', 'A:maj7', 'A:min6', 'position_1x16', 'C:min6', 'P:92', 'P:43', 'C#:min6', 'P:53', 'P:84', 'position_8x75', 'P:52', 'C#:min6', 'C#:7(#11)', 'position_6x16', 'G:aug', 'P:60', 'position_4x33', 'G#:dim7', 'P:25', 'D:7', 'position_0x00', 'ts_6x4', 'D#:13', 'C#:dim', 'E:11', 'G:13', 'F#:min7', 'G:9', 'G#:min', 'C:minmaj7', 'G:sus2', 'P:86', 'G:13', 'F#:sus4', 'F#:min7', 'D#:hdim7', 'position_4x83', 'P:36', 'G#:min11', 'F#:minmaj7', 'A:maj7', 'C:hdim7', 'D:7(b13)', 'P:97', 'position_8x75', 'A:9', 'position_9x83', 'position_6x25', 'position_6x50', 'A:sus4', 'P:96', 'C#:min6', 'E:maj6', 'position_3x33', 'G:13', 'E:7(#9)', 'C:min', 'A#:maj7', 'A#:min6', 'position_8x00', 'position_1x16', 'F:hdim7', 'P:45', 'A:maj7', 'E:aug', 'C:7(b9)', 'position_2x66', 'P:46', 'D:aug', 'G#:7(#11)', 'position_5x25', 'C#:dim', 'G:maj', 'P:23', 'position_6x33', 'G:5', 'P:93', 'E:maj9', 'C:11', 'G:aug', 'P:43', 'P:28', 'D:9', 'A#:min11', 'G:maj9', 'P:60', 'A#:min6', 'P:103', 'C#:min6', 'F#:minmaj7', 'G:5', 'P:39', 'A:aug', 'F#:5', 'position_1x00', 'position_4x16', 'P:90', 'A:min', 'position_1x16', '<rest>', 'P:46', 'F:5', 'position_2x66', 'P:60', 'P:24', 'P:85', 'position_3x50', 'position_6x25', 'A#:maj', 'A#:maj', 'C:', 'G:maj6', 'position_6x25', 'F#:7(#11)', 'position_3x33', 'F:hdim7', 'C#:5', 'F#:', 'F#:dim7', 'G:5', 'F#:5', 'position_0x50', 'F:hdim7', 'D:', 'P:90', 'D#:min', 'A#:min11', 'E:sus2', 'E:1', 'position_9x00', 'F#:sus2', 'P:39', 'E:5', 'F:maj', 'position_4x16', 'G#:7(b13)', 'ts_13x8', 'C#:13', 'D:', 'position_5x16', 'position_3x33', 'C:dim', 'C:aug', 'D#:dim', 'C:7(b9)', 'position_7x66', 'E:1', 'E:7(#9)', 'P:34', '<unk>', 'C:min7', 'position_5x00', 'G#:5', 'position_5x16', 'D:7', 'position_1x33', 'P:25', 'G#:maj13', 'P:78', 'C#:dim', 'P:78', 'P:44', 'D#:13', 'A:minmaj7', 'A#:sus2', 'C:11', 'ts_7x4', 'position_6x66', 'C:maj7', 'D:9', 'D#:min', 'P:40', 'P:92', 'C:min7', 'P:83', 'P:85', 'position_5x00', 'A#:5', 'position_0x83', 'C:minmaj7', 'ts_13x8', 'C#:dim', 'position_6x66', 'F:maj', 'position_6x16', 'A:7(b13)', 'P:46', 'P:92', 'A#:hdim7', 'P:89', 'P:52', 'position_3x66', 'G:maj9', 'C:minmaj7', 'position_6x16', 'A:', 'D:9', 'P:60', 'E:maj9', 'D:9', 'C:9', 'position_0x66', 'F#:sus4', 'P:92', 'D:7(#11)', 'position_3x66', 'D#:5', 'G#:13', 'G:maj', 'G#:7(#11)', 'D#:7', 'G#:7(#11)', '<pad>', 'G#:min11', 'P:30', 'P:22', 'P:86', 'D#:dim', 'P:108', 'G#:7(#9)', 'C:min9', 'G:9', 'D:maj7', 'P:100', 'C:11', 'G:minmaj7', 'ts_13x8', 'D:dim', 'E:min', 'C:5', 'C:minmaj7', 'F:9', 'P:25', 'D:hdim7', 'G#:min6', 'P:108', 'D#:13', 'position_9x00', 'A#:dim', 'position_6x66', '<emp>', 'position_2x25', 'P:90', 'G:9', 'C#:aug', 'A:7(#9)', 'D#:dim', 'G:5', 'position_2x00', 'G:13', 'G#:5', 'D:9', 'C:7(b9)', 'G:7(#9)', 'F:7', 'D:dim', 'ts_19x8', 'E:min6', 'G#:maj9', 'F#:dim7', 'P:93', 'ts_7x4', 'D:9', 'C#:7', 'position_3x66', 'position_2x25', 'P:107', 'D:9', 'C#:aug', 'P:27', 'P:29', 'P:93', 'P:108', 'A#:min6', 'D:min11', 'F#:7(b13)', 'C#:maj9', 'position_6x50', 'D:9', 'G:aug', 'F#:1', 'position_3x50', 'ts_13x8', 'C:11', 'F#:9', 'D:maj7', 'position_6x25', 'F:9', 'D:7(#11)', 'P:44', 'A#:7', 'D:9', 'A#:7', 'D:min', 'A:sus4', 'A#:min11', 'C:min', 'A:maj7', 'D:9', 'D:9', 'P:73', 'C:minmaj7', 'E:maj6', 'G:9', 'F:maj6', 'F:7', 'A:9', 'ts_7x4', 'G:5', 'position_0x00', 'C:7(b9)', '<emp>', 'C:5', 'P:87', 'C:7(b9)', 'D:7(#9)', 'C#:sus2', 'C#:dim', 'D:7(b13)', 'P:25', 'position_2x25', 'position_6x50', 'D:maj9', 'G:aug', 'D:9', 'D:11', 'P:45', 'P:77', 'D:9', 'P:92', 'P:46', 'E:7(#9)', 'P:22', '<h>', 'position_8x83', '<emp>', 'P:59', 'position_5x00', 'A#:hdim7', 'position_3x50', 'F:11', 'D:7', 'D:9', 'D#:sus2', 'C:maj7', 'C:7(#11)', 'position_3x66', 'position_0x00', 'E:7(#9)', 'E:11', 'P:85', 'G#:min', 'position_6x16', 'C:11', 'P:33', 'D:9', 'D:1', 'C:maj', 'C:5', 'D#:7(#9)', 'P:90', 'F:maj6', 'A:sus4', 'F:hdim7', 'position_2x25', 'P:25', 'D#:sus4', 'E:maj6', 'C:dim7', 'P:23', 'ts_17x8', 'A#:5', 'C:minmaj7', 'C:9', 'G#:maj9', 'A:7(b9)', 'G#:maj9', 'F#:maj6', 'position_2x25', 'G:13', 'position_2x66', 'C#:min13', 'G#:maj9', 'position_7x16', 'P:100', 'P:92', 'D:9', 'D:9', 'F#:sus4', 'P:66', 'A#:min11', 'C:maj7', 'P:100', 'D:9', 'P:52', 'position_0x66', 'E:11', 'P:92', 'G:aug', 'P:44', 'C:', '<h>', 'C:', 'position_2x66', 'F:aug', 'position_4x75', 'G#:maj9', 'P:22', 'P:52', 'P:47', 'D:7(#11)', 'F:7(b13)', 'C:minmaj7', 'A:min6', 'P:89', 'D#:sus2', '<emp>', 'D:9', 'position_3x66', 'position_5x83', 'position_0x00', 'position_5x25', 'G:min9', 'G:7(#9)', 'G:min', 'position_7x75', 'C:sus2', 'A#:maj', 'P:89', 'P:84', 'ts_8x4', 'F:hdim7', 'position_1x75', 'G:maj9', 'position_8x83', 'D:hdim7', 'D:9', 'D:9', 'P:92', 'P:85', 'ts_7x4', 'E:sus2', '<emp>', 'G:5', 'position_2x66', 'A:aug']\n"
     ]
    }
   ],
   "source": [
    "print(output_tokens)"
   ]
  },
  {
   "cell_type": "code",
   "execution_count": 18,
   "metadata": {},
   "outputs": [
    {
     "name": "stdout",
     "output_type": "stream",
     "text": [
      "['<h>', 'P:87', 'C#:7', 'E:minmaj7', 'position_0x50', 'E:maj13', 'D#:min13', 'A:dim', 'position_3x75', 'D:7(b13)', 'G#:7(#11)', 'P:92', 'P:103', 'P:57', 'position_0x25', 'position_8x83', 'D:13', 'position_9x83', 'D#:7(b13)', 'position_1x16', 'position_6x66', 'C:dim', 'ts_9x4', 'G:min9', 'A#:5', 'F:5', 'F#:maj7', 'ts_1x8', 'A#:maj', 'A#:minmaj7', 'D:11', 'C:dim', 'D:maj7', 'D#:7', 'C:sus2', 'position_9x83', 'D:min6', 'P:69', 'P:43', 'A#:5', 'C:', 'P:64', 'G#:7(b13)', 'P:77', 'A#:sus2', 'D#:min', 'position_2x66', 'position_0x75', 'D:13', 'F#:aug', 'F:hdim7', 'D#:maj6', 'position_9x66', 'F#:7(#9)', 'position_8x16', 'position_9x83', 'P:53', 'C#:min7', 'G:hdim7', 'P:38', 'P:108', 'position_2x66', 'position_3x33', 'C:sus2', 'D:aug', 'E:minmaj7', 'D:dim', 'C:minmaj7', 'F#:min', 'C#:hdim7', 'P:85', 'P:39', 'F:hdim7', 'P:59', 'D#:min7', 'E:maj9', 'E:7(#9)', 'P:72', 'position_6x66', 'F:hdim7', 'G#:7(#11)', 'P:87', 'C#:maj6', 'D:aug', 'D#:aug', 'G:hdim7', 'A#:5', 'position_9x83', 'G#:maj9', 'P:25', 'A:aug', '<unk>', 'A:7(#9)', 'position_0x33', 'ts_19x8', 'G#:7(#9)', 'F:dim', 'P:105', 'G#:min9', 'G#:7(#11)', 'position_9x83', 'ts_19x8', 'P:85', 'C:dim7', 'E:7(#9)', 'D#:9', 'A:maj7', 'A#:maj7', 'G#:7(#11)', 'C:sus2', 'D:aug', 'D:1', 'D#:7', 'F:hdim7', 'P:80', 'ts_19x8', 'F:min13', 'C#:7(b13)', 'position_2x25', 'G:9', 'C#:hdim7', 'F#:min7', 'position_6x66', 'ts_9x8', 'A:min6', 'C:min', 'A#:dim', 'position_9x83', 'A#:', 'D:1', 'position_5x00', 'G#:7(#9)', 'C#:hdim7', 'C#:aug', 'P:51', 'G#:maj', 'A:maj7', 'ts_15x8', 'P:83', 'G#:7(b9)', 'G#:sus2', 'E:7(#9)', 'D#:min11', 'position_6x00', 'P:85', 'ts_13x8', 'G:maj', 'D:dim7', 'position_5x16', 'G#:maj9', 'P:49', 'G#:min9', 'A#:maj', 'F:11', 'P:46', 'P:82', 'F#:min7', 'D#:7(b13)', 'F:min9', 'D:7(#9)', 'P:107', 'A:', 'A#:13', 'F:maj', 'position_3x16', 'D#:aug', 'ts_13x8', 'position_9x83', 'P:22', 'F#:min7', 'position_8x75', 'D#:9', 'D#:9', 'E:maj9', 'C:dim', 'G:dim7', 'F#:min7', 'F#:sus4', 'position_5x83', 'P:42', 'P:22', 'position_1x25', 'position_3x50', 'C:min9', 'C:7(b13)', 'E:7(#9)', 'F:maj13', 'P:64', 'C:min7', 'P:35', 'position_6x66', 'D#:aug', 'D:9', 'position_0x75', 'A#:5', 'P:25', 'E:7(#11)', 'C#:dim', 'F:aug', 'E:maj9', 'position_9x83', 'position_8x75', 'A#:7', 'A:min7', 'P:23', 'ts_9x8', 'C:dim7', 'P:25', 'G:maj', 'D:1', 'F:min7', 'E:13', 'G#:maj', 'position_6x16', 'A#:min11', 'G#:7', 'F#:min6', 'F:11', 'position_2x00', 'ts_9x8', 'ts_2x4', 'P:67', 'C#:7(#9)', 'position_6x66', 'position_8x83', 'G#:7(#9)', 'G:maj6', 'E:maj13', 'P:59', 'A:dim7', 'A:maj13', 'A:dim7', 'P:55', 'E:sus4', 'D#:7(b13)', 'C:maj6', 'position_9x83', 'G#:7(b13)', 'position_0x00', 'G#:aug', 'E:min9', 'D#:7(b13)', 'C#:min6', 'G#:7(b13)', 'position_2x25', 'G#:minmaj7', 'position_6x16', 'position_4x33', 'F:min6', 'P:33', 'C:9', 'G#:maj13', 'P:85', 'A:dim7', 'D:7(#11)', 'D#:9', 'P:85', 'G:7(#11)', 'position_3x33', 'P:45', 'E:min9', 'position_2x25', 'position_6x50', 'position_9x83', 'ts_19x8', 'F#:7(#9)', 'P:68', 'P:60', 'position_5x25', 'E:maj6', 'C:dim7', 'P:85', 'F:9', 'P:71', 'P:26', 'G#:7(b13)', 'position_5x25', 'position_3x33', 'position_0x00', 'position_1x16', 'D#:hdim7', 'C:dim7', 'ts_4x4', 'position_4x00', 'C:min9', 'A:7(b9)', 'D:9', 'P:85', 'P:60', 'C#:dim', 'P:58', 'P:55', 'D:7(b13)', 'C:dim', 'P:36', 'D#:aug', 'F#:minmaj7', 'A#:min11', 'P:104', 'P:37', 'C#:13', 'F:hdim7', 'P:81', 'ts_19x8', 'A:maj7', 'P:34', 'P:43', 'position_9x83', 'P:52', 'G:hdim7', 'D:min11', 'D:9', 'position_8x75', 'position_9x00', 'G#:aug', 'C:dim7', 'D:9', 'C:7(b9)', 'G:hdim7', 'P:84', 'A#:min6', 'F:7(#11)', 'position_9x83', 'position_5x16', 'position_7x83', 'position_3x66', 'F#:maj', 'E:maj6', 'A:', 'C:dim', 'F#:9', 'C#:maj6', '<rest>', 'C:dim7', 'G#:maj9', 'position_9x00', 'D#:7', 'D:9', 'C#:5', 'C#:aug', 'C:9', 'D:7(#11)', 'position_4x50', 'position_7x50', 'C#:11', 'position_3x33', 'F:min7', 'F:hdim7', 'position_9x83', 'E:1', 'A#:sus2', 'P:71', 'A:minmaj7', 'D:maj13', 'position_2x66', 'G#:min7', 'C#:aug', 'position_9x83', 'A#:maj', 'D#:dim', 'C:dim7', 'C#:dim', 'E:1', 'F#:sus4', 'D:9', 'ts_19x8', 'D#:dim', 'P:56', '<emp>', 'position_2x25', 'C#:minmaj7', 'P:85', 'E:maj13', 'P:39', 'A:aug', 'G:min', 'C:minmaj7', 'A:7(b9)', 'position_6x66', 'position_6x66', 'P:85', 'C:min11', 'E:1', 'P:98', 'E:7(b13)', '<h>', 'A:7', 'D:maj7', 'P:33', 'P:46', 'A#:dim7', '<rest>', 'C#:13', 'G:maj9', 'C:dim7', 'position_6x66', 'P:58', 'C:7(b9)', '<rest>', 'F:maj', 'E:maj13', 'F#:min', 'C:dim7', 'ts_1x8', 'P:73', 'D:aug', 'position_6x25', 'position_6x66', 'G#:7(#11)', 'E:7(b9)', 'D:7(b13)', 'position_7x33', 'F#:sus4', 'C:7(b9)', 'P:60', 'D:', 'D#:dim', 'C#:maj13', 'C#:sus4', 'G#:7(b13)', 'P:46', 'G:sus4', 'P:89', 'P:88', 'G:maj6', 'position_5x83', 'P:85', 'P:98', 'C:min', '<mask>', 'P:85', 'position_8x75', 'A#:sus2', 'F#:min7', 'P:102', 'D#:7', 'C#:hdim7', 'position_9x66', 'F:sus2', 'C#:hdim7', 'E:7(#11)', 'D#:11', 'F#:sus4', 'ts_13x8', 'F#:min9', 'A:maj7', 'P:65', 'D#:min13', 'position_2x25', 'G#:7(#9)', 'E:7(#9)', 'A:maj7', 'D:9', 'P:102', 'P:83', 'A:maj7', 'C:maj9', 'position_3x66', 'E:7(#9)', 'G:hdim7', 'position_4x83', 'position_6x66', 'P:65', 'P:56', 'P:66', 'P:22', 'P:43', 'E:5', 'D#:13', 'position_9x83', 'position_7x00', 'A:maj13', 'F#:hdim7', 'position_9x83', 'P:90', 'ts_4x4', 'E:7(#9)', 'P:105', 'C#:minmaj7', 'D#:dim', 'position_9x83', 'position_6x66', 'position_6x66', 'F#:5', 'position_9x75', 'position_9x83', 'position_3x00', 'F#:min7', 'P:85', 'D:7(#11)', 'C:min11', 'position_5x16', 'position_7x75', 'A:dim7', 'position_1x00', 'A:7', 'ts_3x4', 'C#:5', 'C:7(b9)', 'A:aug', 'D:aug']\n"
     ]
    }
   ],
   "source": [
    "print(output_recon_tokens)"
   ]
  },
  {
   "cell_type": "code",
   "execution_count": 19,
   "metadata": {},
   "outputs": [
    {
     "name": "stdout",
     "output_type": "stream",
     "text": [
      "tensor([[  2,   6, 180,  95,  46, 103,   4, 119,  46, 123,  48,   6,  95,  48,\n",
      "          99,  45, 111,   4, 119,  41, 123,  41,   6,  95,  46,  99,  46, 103,\n",
      "          46, 107,  46, 111,  46, 115,  46, 119,  41, 123,  43,   6,  95,  43,\n",
      "         103,   4, 111,  46, 115,  46, 119,  48, 123,  46,   6,  95,  46, 107,\n",
      "           4, 119,  46, 123,  48,   6,  95,  48,  99,  45, 111,   4, 119,  41,\n",
      "         123,  41,   6,  95,  46,  99,  46, 103,  46, 107,  46, 111,  46, 115,\n",
      "          46, 119,  41, 123,  43,   6,  95,  43, 103,   4, 111,  46, 115,  46,\n",
      "         119,  46, 123,  46,   6,  95,  46, 103,  41, 107,  41, 119,  48, 123,\n",
      "          48,   6,  95,  48, 103,  41, 107,  41, 119,  50, 123,  50,   6,  95,\n",
      "          50,  99,  48, 101,  46, 103,  46, 107,  46, 119,  51, 123,  51,   6,\n",
      "          95,  51, 103,   4, 111,  50, 115,  48, 119,  46, 123,  46,   6,  95,\n",
      "          46, 107,   4, 119,  46, 123,  48,   6,  95,  48,  99,  45, 111,   4,\n",
      "         119,  41, 123,  41,   6,  95,  50,  99,  50, 103,  50, 107,  50, 111,\n",
      "          50, 115,  50, 119,  48, 123,  46,   6,  95,  46, 111,   4]],\n",
      "       device='cuda:0')\n",
      "['<s>', '<bar>', 'ts_4x4', 'position_0x00', 'P:60', 'position_1x00', '<rest>', 'position_3x00', 'P:60', 'position_3x50', 'P:62', '<bar>', 'position_0x00', 'P:62', 'position_0x50', 'P:59', 'position_2x00', '<rest>', 'position_3x00', 'P:55', 'position_3x50', 'P:55', '<bar>', 'position_0x00', 'P:60', 'position_0x50', 'P:60', 'position_1x00', 'P:60', 'position_1x50', 'P:60', 'position_2x00', 'P:60', 'position_2x50', 'P:60', 'position_3x00', 'P:55', 'position_3x50', 'P:57', '<bar>', 'position_0x00', 'P:57', 'position_1x00', '<rest>', 'position_2x00', 'P:60', 'position_2x50', 'P:60', 'position_3x00', 'P:62', 'position_3x50', 'P:60', '<bar>', 'position_0x00', 'P:60', 'position_1x50', '<rest>', 'position_3x00', 'P:60', 'position_3x50', 'P:62', '<bar>', 'position_0x00', 'P:62', 'position_0x50', 'P:59', 'position_2x00', '<rest>', 'position_3x00', 'P:55', 'position_3x50', 'P:55', '<bar>', 'position_0x00', 'P:60', 'position_0x50', 'P:60', 'position_1x00', 'P:60', 'position_1x50', 'P:60', 'position_2x00', 'P:60', 'position_2x50', 'P:60', 'position_3x00', 'P:55', 'position_3x50', 'P:57', '<bar>', 'position_0x00', 'P:57', 'position_1x00', '<rest>', 'position_2x00', 'P:60', 'position_2x50', 'P:60', 'position_3x00', 'P:60', 'position_3x50', 'P:60', '<bar>', 'position_0x00', 'P:60', 'position_1x00', 'P:55', 'position_1x50', 'P:55', 'position_3x00', 'P:62', 'position_3x50', 'P:62', '<bar>', 'position_0x00', 'P:62', 'position_1x00', 'P:55', 'position_1x50', 'P:55', 'position_3x00', 'P:64', 'position_3x50', 'P:64', '<bar>', 'position_0x00', 'P:64', 'position_0x50', 'P:62', 'position_0x75', 'P:60', 'position_1x00', 'P:60', 'position_1x50', 'P:60', 'position_3x00', 'P:65', 'position_3x50', 'P:65', '<bar>', 'position_0x00', 'P:65', 'position_1x00', '<rest>', 'position_2x00', 'P:64', 'position_2x50', 'P:62', 'position_3x00', 'P:60', 'position_3x50', 'P:60', '<bar>', 'position_0x00', 'P:60', 'position_1x50', '<rest>', 'position_3x00', 'P:60', 'position_3x50', 'P:62', '<bar>', 'position_0x00', 'P:62', 'position_0x50', 'P:59', 'position_2x00', '<rest>', 'position_3x00', 'P:55', 'position_3x50', 'P:55', '<bar>', 'position_0x00', 'P:64', 'position_0x50', 'P:64', 'position_1x00', 'P:64', 'position_1x50', 'P:64', 'position_2x00', 'P:64', 'position_2x50', 'P:64', 'position_3x00', 'P:62', 'position_3x50', 'P:60', '<bar>', 'position_0x00', 'P:60', 'position_2x00', '<rest>']\n"
     ]
    }
   ],
   "source": [
    "input_ids = batch['input_ids'].to(device)\n",
    "print(input_ids)\n",
    "input_tokens = []\n",
    "for i in input_ids[0]:\n",
    "    input_tokens.append( tokenizer.ids_to_tokens[ int(i) ].replace(' ','x') )\n",
    "print(input_tokens)"
   ]
  },
  {
   "cell_type": "code",
   "execution_count": 20,
   "metadata": {},
   "outputs": [],
   "source": [
    "outputs = bart.generate(\n",
    "    input_ids=input_ids,\n",
    "    # attention_mask=batch['attention_mask'][bi],\n",
    "    bos_token_id=tokenizer.vocab[tokenizer.harmony_tokenizer.start_harmony_token],\n",
    "    eos_token_id=tokenizer.eos_token_id,\n",
    "    max_new_tokens=500,\n",
    "    do_sample=True,\n",
    "    temperature=1.0\n",
    ")"
   ]
  },
  {
   "cell_type": "code",
   "execution_count": 21,
   "metadata": {},
   "outputs": [
    {
     "name": "stdout",
     "output_type": "stream",
     "text": [
      "tensor([[  2, 196,   6,  95, 197,   6,  95, 342,   6,  95, 197,   6,  95, 400,\n",
      "           6,  95, 197,   6,  95, 349,   6,  95, 197,   6,  95, 342,   6,  95,\n",
      "         197,   6,  95, 342,   6,  95, 197,   6,  95, 400,   6,  95, 197,   6,\n",
      "          95, 349,   6,  95, 197,   6,  95, 342, 111, 400,   3]],\n",
      "       device='cuda:0')\n",
      "['<s>', '<h>', '<bar>', 'position_0x00', 'C:maj', '<bar>', 'position_0x00', 'F:maj', '<bar>', 'position_0x00', 'C:maj', '<bar>', 'position_0x00', 'G:maj', '<bar>', 'position_0x00', 'C:maj', '<bar>', 'position_0x00', 'F:maj7', '<bar>', 'position_0x00', 'C:maj', '<bar>', 'position_0x00', 'F:maj', '<bar>', 'position_0x00', 'C:maj', '<bar>', 'position_0x00', 'F:maj', '<bar>', 'position_0x00', 'C:maj', '<bar>', 'position_0x00', 'G:maj', '<bar>', 'position_0x00', 'C:maj', '<bar>', 'position_0x00', 'F:maj7', '<bar>', 'position_0x00', 'C:maj', '<bar>', 'position_0x00', 'F:maj', 'position_2x00', 'G:maj', '</s>']\n"
     ]
    }
   ],
   "source": [
    "print(outputs)\n",
    "bart_only_outputs = []\n",
    "for i in outputs[0]:\n",
    "    bart_only_outputs.append( tokenizer.ids_to_tokens[ int(i) ].replace(' ','x') )\n",
    "print(bart_only_outputs)"
   ]
  },
  {
   "cell_type": "code",
   "execution_count": null,
   "metadata": {},
   "outputs": [],
   "source": []
  }
 ],
 "metadata": {
  "kernelspec": {
   "display_name": "torch",
   "language": "python",
   "name": "python3"
  },
  "language_info": {
   "codemirror_mode": {
    "name": "ipython",
    "version": 3
   },
   "file_extension": ".py",
   "mimetype": "text/x-python",
   "name": "python",
   "nbconvert_exporter": "python",
   "pygments_lexer": "ipython3",
   "version": "3.11.5"
  }
 },
 "nbformat": 4,
 "nbformat_minor": 2
}
