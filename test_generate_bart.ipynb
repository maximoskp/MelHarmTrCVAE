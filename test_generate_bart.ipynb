{
 "cells": [
  {
   "cell_type": "code",
   "execution_count": 1,
   "metadata": {},
   "outputs": [],
   "source": [
    "# USER OPTIONS\n",
    "# define tokenizer name - should be one among the keys in the cell below\n",
    "tokenizer_name = 'ChordSymbolTokenizer' # or any other name from the keys in tokenizers dictionary\n",
    "# tokenizer_name = 'RootTypeTokenizer'\n",
    "# tokenizer_name = 'PitchClassTokenizer'\n",
    "# folder to xmls\n",
    "val_dir = '/media/maindisk/maximos/data/hooktheory_test'\n",
    "# val_dir = '/media/maindisk/maximos/data/gjt_melodies/Library_melodies'\n",
    "# val_dir = '/media/datadisk/datasets/gjt_melodies/Library_melodies'\n",
    "# val_dir = '/media/maximos/9C33-6BBD/data/gjt_melodies/Library_melodies'\n",
    "\n",
    "# define batch size depending on GPU availability / status\n",
    "batchsize = 16\n",
    "# select device name - could be 'cpu', 'cuda', 'coda:0', 'cuda:1'...\n",
    "device_name = 'cuda'"
   ]
  },
  {
   "cell_type": "code",
   "execution_count": 2,
   "metadata": {},
   "outputs": [],
   "source": [
    "import pickle\n",
    "with open('data/idioms_mir_quick_reference.pickle', 'rb') as f:\n",
    "    idioms = pickle.load(f)\n",
    "with open('data/idioms_mir_full_info.pickle', 'rb') as f:\n",
    "    info_idioms = pickle.load(f)"
   ]
  },
  {
   "cell_type": "code",
   "execution_count": 3,
   "metadata": {},
   "outputs": [],
   "source": [
    "bc_major = idioms['BachChorales_[0 2 4 5 7 9 11]']\n",
    "bc_minor = idioms['BachChorales_[0 2 3 5 7 8 10]']\n",
    "jazz_maj = idioms['Jazz_[0 2 4 5 7 9 11]']\n",
    "jazz_min = idioms['Jazz_[0 2 3 5 7 9 10]']\n",
    "organum = idioms['organum_[0 2 3 5 7 8 10]']"
   ]
  },
  {
   "cell_type": "code",
   "execution_count": 4,
   "metadata": {},
   "outputs": [
    {
     "name": "stdout",
     "output_type": "stream",
     "text": [
      "A:5\n",
      "C:5\n",
      "D:5\n",
      "E:5\n",
      "D#:aug\n",
      "A:1\n",
      "G:1\n",
      "F:5\n",
      "D:1\n",
      "C:1\n",
      "D:1\n",
      "E:1\n",
      "G:5\n",
      "B:1\n",
      "D:min\n",
      "B:5\n",
      "C:maj\n"
     ]
    }
   ],
   "source": [
    "for c in info_idioms['organum']['[0 2 3 5 7 8 10]']['chords'].values():\n",
    "    print(c['match_symbol'])"
   ]
  },
  {
   "cell_type": "code",
   "execution_count": 5,
   "metadata": {},
   "outputs": [
    {
     "name": "stderr",
     "output_type": "stream",
     "text": [
      "/home/maximos/.local/lib/python3.11/site-packages/tqdm/auto.py:21: TqdmWarning: IProgress not found. Please update jupyter and ipywidgets. See https://ipywidgets.readthedocs.io/en/stable/user_install.html\n",
      "  from .autonotebook import tqdm as notebook_tqdm\n"
     ]
    }
   ],
   "source": [
    "from data_utils import SeparatedMelHarmMarkovDataset\n",
    "import os\n",
    "import numpy as np\n",
    "from harmony_tokenizers_m21 import ChordSymbolTokenizer, RootTypeTokenizer, \\\n",
    "    PitchClassTokenizer, RootPCTokenizer, GCTRootPCTokenizer, \\\n",
    "    GCTSymbolTokenizer, GCTRootTypeTokenizer, MelodyPitchTokenizer, \\\n",
    "    MergedMelHarmTokenizer\n",
    "import torch\n",
    "from torch.optim import AdamW\n",
    "from torch.utils.data import DataLoader\n",
    "from transformers import BartForConditionalGeneration, BartConfig, DataCollatorForSeq2Seq\n",
    "from tqdm import tqdm\n",
    "from models import TransGraphVAE\n",
    "import csv\n",
    "from transformers import LogitsProcessor, StoppingCriteria, StoppingCriteriaList"
   ]
  },
  {
   "cell_type": "code",
   "execution_count": 6,
   "metadata": {},
   "outputs": [],
   "source": [
    "tokenizers = {\n",
    "    'ChordSymbolTokenizer': ChordSymbolTokenizer,\n",
    "    'RootTypeTokenizer': RootTypeTokenizer,\n",
    "    'PitchClassTokenizer': PitchClassTokenizer,\n",
    "    'RootPCTokenizer': RootPCTokenizer,\n",
    "    'GCTRootPCTokenizer': GCTRootPCTokenizer,\n",
    "    'GCTSymbolTokenizer': GCTSymbolTokenizer,\n",
    "    'GCTRootTypeTokenizer': GCTRootTypeTokenizer\n",
    "}"
   ]
  },
  {
   "cell_type": "code",
   "execution_count": 7,
   "metadata": {},
   "outputs": [],
   "source": [
    "melody_tokenizer = MelodyPitchTokenizer.from_pretrained('saved_tokenizers/MelodyPitchTokenizer')\n",
    "harmony_tokenizer = tokenizers[tokenizer_name].from_pretrained('saved_tokenizers/' + tokenizer_name)\n",
    "\n",
    "tokenizer = MergedMelHarmTokenizer(melody_tokenizer, harmony_tokenizer)\n",
    "\n",
    "bart_path = 'saved_models/bart/' + tokenizer_name + '/' + tokenizer_name + '.pt'"
   ]
  },
  {
   "cell_type": "code",
   "execution_count": 8,
   "metadata": {},
   "outputs": [],
   "source": [
    "device = torch.device(\"cuda\" if torch.cuda.is_available() else \"cpu\")"
   ]
  },
  {
   "cell_type": "code",
   "execution_count": 9,
   "metadata": {},
   "outputs": [
    {
     "name": "stderr",
     "output_type": "stream",
     "text": [
      "/home/maximos/.local/lib/python3.11/site-packages/torch/_utils.py:831: UserWarning: TypedStorage is deprecated. It will be removed in the future and UntypedStorage will be the only storage class. This should only matter to you if you are using storages directly.  To access UntypedStorage directly, use tensor.untyped_storage() instead of tensor.storage()\n",
      "  return self.fget.__get__(instance, owner)()\n"
     ]
    },
    {
     "data": {
      "text/plain": [
       "<All keys matched successfully>"
      ]
     },
     "execution_count": 9,
     "metadata": {},
     "output_type": "execute_result"
    }
   ],
   "source": [
    "bart_config = BartConfig(\n",
    "    vocab_size=len(tokenizer.vocab),\n",
    "    pad_token_id=tokenizer.pad_token_id,\n",
    "    bos_token_id=tokenizer.bos_token_id,\n",
    "    eos_token_id=tokenizer.eos_token_id,\n",
    "    decoder_start_token_id=tokenizer.bos_token_id,\n",
    "    forced_eos_token_id=tokenizer.eos_token_id,\n",
    "    max_position_embeddings=512,\n",
    "    encoder_layers=8,\n",
    "    encoder_attention_heads=8,\n",
    "    encoder_ffn_dim=512,\n",
    "    decoder_layers=8,\n",
    "    decoder_attention_heads=8,\n",
    "    decoder_ffn_dim=512,\n",
    "    d_model=512,\n",
    "    encoder_layerdrop=0.3,\n",
    "    decoder_layerdrop=0.3,\n",
    "    dropout=0.3\n",
    ")\n",
    "\n",
    "bart = BartForConditionalGeneration(bart_config)\n",
    "\n",
    "if torch.cuda.is_available():\n",
    "    checkpoint = torch.load(bart_path, weights_only=True)\n",
    "else:\n",
    "    checkpoint = torch.load(bart_path, map_location=\"cpu\", weights_only=True)\n",
    "bart.load_state_dict(checkpoint)"
   ]
  },
  {
   "cell_type": "code",
   "execution_count": 10,
   "metadata": {},
   "outputs": [],
   "source": [
    "enc1 = bart.model.encoder\n",
    "enc2 = bart.get_encoder()\n",
    "dec1 = bart.model.decoder\n",
    "dec2 = bart.get_decoder()"
   ]
  },
  {
   "cell_type": "code",
   "execution_count": 11,
   "metadata": {},
   "outputs": [
    {
     "data": {
      "text/plain": [
       "True"
      ]
     },
     "execution_count": 11,
     "metadata": {},
     "output_type": "execute_result"
    }
   ],
   "source": [
    "dec1 == dec2"
   ]
  },
  {
   "cell_type": "code",
   "execution_count": 12,
   "metadata": {},
   "outputs": [],
   "source": [
    "test_dir = '/mnt/ssd2/maximos/data/hooktheory_test'\n",
    "test_dataset = SeparatedMelHarmMarkovDataset(test_dir, tokenizer, max_length=512, num_bars=64)\n",
    "\n",
    "# Data collator for BART\n",
    "def create_data_collator(tokenizer, model):\n",
    "    return DataCollatorForSeq2Seq(tokenizer=tokenizer, model=model, padding=True)\n",
    "# end create_data_collator"
   ]
  },
  {
   "cell_type": "code",
   "execution_count": 13,
   "metadata": {},
   "outputs": [],
   "source": [
    "collator = create_data_collator(tokenizer, model=bart)\n",
    "valloader = DataLoader(test_dataset, batch_size=1, shuffle=True, collate_fn=collator)"
   ]
  },
  {
   "cell_type": "code",
   "execution_count": 14,
   "metadata": {},
   "outputs": [
    {
     "data": {
      "text/plain": [
       "TransGraphVAE(\n",
       "  (transformer): BartForConditionalGeneration(\n",
       "    (model): BartModel(\n",
       "      (shared): BartScaledWordEmbedding(545, 512, padding_idx=1)\n",
       "      (encoder): BartEncoder(\n",
       "        (embed_tokens): BartScaledWordEmbedding(545, 512, padding_idx=1)\n",
       "        (embed_positions): BartLearnedPositionalEmbedding(514, 512)\n",
       "        (layers): ModuleList(\n",
       "          (0-7): 8 x BartEncoderLayer(\n",
       "            (self_attn): BartSdpaAttention(\n",
       "              (k_proj): Linear(in_features=512, out_features=512, bias=True)\n",
       "              (v_proj): Linear(in_features=512, out_features=512, bias=True)\n",
       "              (q_proj): Linear(in_features=512, out_features=512, bias=True)\n",
       "              (out_proj): Linear(in_features=512, out_features=512, bias=True)\n",
       "            )\n",
       "            (self_attn_layer_norm): LayerNorm((512,), eps=1e-05, elementwise_affine=True)\n",
       "            (activation_fn): GELUActivation()\n",
       "            (fc1): Linear(in_features=512, out_features=512, bias=True)\n",
       "            (fc2): Linear(in_features=512, out_features=512, bias=True)\n",
       "            (final_layer_norm): LayerNorm((512,), eps=1e-05, elementwise_affine=True)\n",
       "          )\n",
       "        )\n",
       "        (layernorm_embedding): LayerNorm((512,), eps=1e-05, elementwise_affine=True)\n",
       "      )\n",
       "      (decoder): BartDecoder(\n",
       "        (embed_tokens): BartScaledWordEmbedding(545, 512, padding_idx=1)\n",
       "        (embed_positions): BartLearnedPositionalEmbedding(514, 512)\n",
       "        (layers): ModuleList(\n",
       "          (0-7): 8 x BartDecoderLayer(\n",
       "            (self_attn): BartSdpaAttention(\n",
       "              (k_proj): Linear(in_features=512, out_features=512, bias=True)\n",
       "              (v_proj): Linear(in_features=512, out_features=512, bias=True)\n",
       "              (q_proj): Linear(in_features=512, out_features=512, bias=True)\n",
       "              (out_proj): Linear(in_features=512, out_features=512, bias=True)\n",
       "            )\n",
       "            (activation_fn): GELUActivation()\n",
       "            (self_attn_layer_norm): LayerNorm((512,), eps=1e-05, elementwise_affine=True)\n",
       "            (encoder_attn): BartSdpaAttention(\n",
       "              (k_proj): Linear(in_features=512, out_features=512, bias=True)\n",
       "              (v_proj): Linear(in_features=512, out_features=512, bias=True)\n",
       "              (q_proj): Linear(in_features=512, out_features=512, bias=True)\n",
       "              (out_proj): Linear(in_features=512, out_features=512, bias=True)\n",
       "            )\n",
       "            (encoder_attn_layer_norm): LayerNorm((512,), eps=1e-05, elementwise_affine=True)\n",
       "            (fc1): Linear(in_features=512, out_features=512, bias=True)\n",
       "            (fc2): Linear(in_features=512, out_features=512, bias=True)\n",
       "            (final_layer_norm): LayerNorm((512,), eps=1e-05, elementwise_affine=True)\n",
       "          )\n",
       "        )\n",
       "        (layernorm_embedding): LayerNorm((512,), eps=1e-05, elementwise_affine=True)\n",
       "      )\n",
       "    )\n",
       "    (lm_head): Linear(in_features=512, out_features=545, bias=False)\n",
       "  )\n",
       "  (t_encoder): BartEncoder(\n",
       "    (embed_tokens): BartScaledWordEmbedding(545, 512, padding_idx=1)\n",
       "    (embed_positions): BartLearnedPositionalEmbedding(514, 512)\n",
       "    (layers): ModuleList(\n",
       "      (0-7): 8 x BartEncoderLayer(\n",
       "        (self_attn): BartSdpaAttention(\n",
       "          (k_proj): Linear(in_features=512, out_features=512, bias=True)\n",
       "          (v_proj): Linear(in_features=512, out_features=512, bias=True)\n",
       "          (q_proj): Linear(in_features=512, out_features=512, bias=True)\n",
       "          (out_proj): Linear(in_features=512, out_features=512, bias=True)\n",
       "        )\n",
       "        (self_attn_layer_norm): LayerNorm((512,), eps=1e-05, elementwise_affine=True)\n",
       "        (activation_fn): GELUActivation()\n",
       "        (fc1): Linear(in_features=512, out_features=512, bias=True)\n",
       "        (fc2): Linear(in_features=512, out_features=512, bias=True)\n",
       "        (final_layer_norm): LayerNorm((512,), eps=1e-05, elementwise_affine=True)\n",
       "      )\n",
       "    )\n",
       "    (layernorm_embedding): LayerNorm((512,), eps=1e-05, elementwise_affine=True)\n",
       "  )\n",
       "  (t_decoder): BartDecoder(\n",
       "    (embed_tokens): BartScaledWordEmbedding(545, 512, padding_idx=1)\n",
       "    (embed_positions): BartLearnedPositionalEmbedding(514, 512)\n",
       "    (layers): ModuleList(\n",
       "      (0-7): 8 x BartDecoderLayer(\n",
       "        (self_attn): BartSdpaAttention(\n",
       "          (k_proj): Linear(in_features=512, out_features=512, bias=True)\n",
       "          (v_proj): Linear(in_features=512, out_features=512, bias=True)\n",
       "          (q_proj): Linear(in_features=512, out_features=512, bias=True)\n",
       "          (out_proj): Linear(in_features=512, out_features=512, bias=True)\n",
       "        )\n",
       "        (activation_fn): GELUActivation()\n",
       "        (self_attn_layer_norm): LayerNorm((512,), eps=1e-05, elementwise_affine=True)\n",
       "        (encoder_attn): BartSdpaAttention(\n",
       "          (k_proj): Linear(in_features=512, out_features=512, bias=True)\n",
       "          (v_proj): Linear(in_features=512, out_features=512, bias=True)\n",
       "          (q_proj): Linear(in_features=512, out_features=512, bias=True)\n",
       "          (out_proj): Linear(in_features=512, out_features=512, bias=True)\n",
       "        )\n",
       "        (encoder_attn_layer_norm): LayerNorm((512,), eps=1e-05, elementwise_affine=True)\n",
       "        (fc1): Linear(in_features=512, out_features=512, bias=True)\n",
       "        (fc2): Linear(in_features=512, out_features=512, bias=True)\n",
       "        (final_layer_norm): LayerNorm((512,), eps=1e-05, elementwise_affine=True)\n",
       "      )\n",
       "    )\n",
       "    (layernorm_embedding): LayerNorm((512,), eps=1e-05, elementwise_affine=True)\n",
       "  )\n",
       "  (cvae): CVAE(\n",
       "    (lstm_encoder): BiLSTMEncoder(\n",
       "      (lstm): LSTM(512, 1024, batch_first=True, bidirectional=True)\n",
       "      (fc): Linear(in_features=2048, out_features=1024, bias=True)\n",
       "    )\n",
       "    (lstm_decoder): BiLSTMDecoder(\n",
       "      (lstm): LSTM(1024, 1024, batch_first=True)\n",
       "      (fc): Linear(in_features=1024, out_features=512, bias=True)\n",
       "    )\n",
       "    (graph_conditioning): GraphConditioningModule(\n",
       "      (gnn1): GCNConv(12, 1024)\n",
       "      (gnn2): GCNConv(1024, 1024)\n",
       "    )\n",
       "    (fc_mu): Linear(in_features=2048, out_features=1024, bias=True)\n",
       "    (fc_logvar): Linear(in_features=2048, out_features=1024, bias=True)\n",
       "    (fc_z): Linear(in_features=2048, out_features=1024, bias=True)\n",
       "  )\n",
       ")"
      ]
     },
     "execution_count": 14,
     "metadata": {},
     "output_type": "execute_result"
    }
   ],
   "source": [
    "model_path = 'saved_models/bart_cvae/' + tokenizer_name + '/' + tokenizer_name + '.pt'\n",
    "\n",
    "config = {\n",
    "    'hidden_dim_LSTM': 1024,\n",
    "    'hidden_dim_GNN': 1024,\n",
    "    'latent_dim': 1024,\n",
    "    'condition_dim': 1024,\n",
    "    'use_attention': False\n",
    "}\n",
    "\n",
    "model = TransGraphVAE(transformer=bart, device=device, tokenizer=tokenizer, **config)\n",
    "\n",
    "if torch.cuda.is_available():\n",
    "    checkpoint = torch.load(model_path, weights_only=True)\n",
    "else:\n",
    "    checkpoint = torch.load(model_path, map_location=\"cpu\", weights_only=True)\n",
    "model.load_state_dict(checkpoint)\n",
    "\n",
    "model.to(device)\n",
    "model.eval()"
   ]
  },
  {
   "cell_type": "code",
   "execution_count": 15,
   "metadata": {},
   "outputs": [
    {
     "name": "stderr",
     "output_type": "stream",
     "text": [
      "/home/maximos/.local/lib/python3.11/site-packages/music21/stream/base.py:3694: Music21DeprecationWarning: .flat is deprecated.  Call .flatten() instead\n",
      "  return self.iter().getElementsByClass(classFilterList)\n",
      "/home/maximos/.local/lib/python3.11/site-packages/transformers/data/data_collator.py:656: UserWarning: Creating a tensor from a list of numpy.ndarrays is extremely slow. Please consider converting the list to a single numpy.ndarray with numpy.array() before converting to a tensor. (Triggered internally at ../torch/csrc/utils/tensor_new.cpp:261.)\n",
      "  batch[\"labels\"] = torch.tensor(batch[\"labels\"], dtype=torch.int64)\n"
     ]
    }
   ],
   "source": [
    "batch = next(iter(valloader))"
   ]
  },
  {
   "cell_type": "code",
   "execution_count": 16,
   "metadata": {},
   "outputs": [
    {
     "name": "stdout",
     "output_type": "stream",
     "text": [
      "tensor([[  2,   6, 180,  95,  55, 103,  62, 107,  60, 115,  58, 123,  57,   6,\n",
      "          95,  57,  99,  58, 103,  57, 107,  55, 111,  55, 115,  53, 119,   4,\n",
      "         123,  58,   6,  95,  58,  99,  57, 103,  53, 107,  55, 115,  53, 119,\n",
      "          51, 123,  50,   6,  95,  50,  99,  51, 103,  53, 107,  60, 115,  58,\n",
      "         119,   4,   6,  95,  55, 103,  62, 107,  60, 115,  58, 123,  63,   6,\n",
      "          95,  63,  99,  62, 103,  60, 107,  58, 111,  57, 115,  58, 119,  60,\n",
      "         123,  62,   6,  95,  62,   6,  95,   4, 103,  62, 111,  60, 119,  58,\n",
      "           6,  95,  55, 103,  62, 107,  60, 115,  58, 123,  57,   6,  95,  57,\n",
      "          99,  58, 103,  57, 107,  55, 111,  55, 115,  53, 119,   4, 123,  58,\n",
      "           6,  95,  58,  99,  57, 103,  53, 107,  55, 115,  53, 119,  51, 123,\n",
      "          50,   6,  95,  50,  99,  51, 103,  53, 107,  60, 115,  58, 119,   4,\n",
      "           6,  95,  55, 103,  62, 107,  60, 115,  58, 123,  63,   6,  95,  63,\n",
      "          99,  62, 103,  60, 107,  58, 111,  57, 115,  55, 119,  57, 123,  58,\n",
      "           6,  95,  58,   6,  95,   4, 119,  58, 123,  57,   6,  95,  55, 103,\n",
      "          58, 107,  57, 115,  58, 119,  60, 123,  60,   6,  95,  60, 103,  62,\n",
      "         107,  58, 119,  58, 123,  57,   6,  95,  58, 103,  54, 107,  56, 115,\n",
      "          63, 123,  62,   6,  95,  62,  99,  58, 111,   4]], device='cuda:0')\n",
      "tensor([[[0., 0., 0.,  ..., 0., 0., 0.],\n",
      "         [0., 0., 0.,  ..., 0., 0., 0.],\n",
      "         [0., 0., 0.,  ..., 0., 0., 0.],\n",
      "         ...,\n",
      "         [0., 0., 0.,  ..., 0., 0., 0.],\n",
      "         [0., 0., 0.,  ..., 0., 0., 0.],\n",
      "         [0., 0., 0.,  ..., 0., 0., 0.]]], device='cuda:0')\n",
      "torch.Size([1, 1])\n",
      "recon generation\n",
      "bars_left: tensor([[20]], device='cuda:0')\n",
      "bars_left: tensor([[20]], device='cuda:0')\n",
      "bars_left: tensor([[19]], device='cuda:0')\n",
      "bars_left: tensor([[19]], device='cuda:0')\n",
      "bars_left: tensor([[19]], device='cuda:0')\n",
      "bars_left: tensor([[18]], device='cuda:0')\n",
      "bars_left: tensor([[18]], device='cuda:0')\n",
      "bars_left: tensor([[18]], device='cuda:0')\n",
      "bars_left: tensor([[17]], device='cuda:0')\n",
      "bars_left: tensor([[17]], device='cuda:0')\n",
      "bars_left: tensor([[17]], device='cuda:0')\n",
      "bars_left: tensor([[16]], device='cuda:0')\n",
      "bars_left: tensor([[16]], device='cuda:0')\n",
      "bars_left: tensor([[16]], device='cuda:0')\n",
      "bars_left: tensor([[15]], device='cuda:0')\n",
      "bars_left: tensor([[15]], device='cuda:0')\n",
      "bars_left: tensor([[15]], device='cuda:0')\n",
      "bars_left: tensor([[14]], device='cuda:0')\n",
      "bars_left: tensor([[14]], device='cuda:0')\n",
      "bars_left: tensor([[14]], device='cuda:0')\n",
      "bars_left: tensor([[13]], device='cuda:0')\n",
      "bars_left: tensor([[13]], device='cuda:0')\n",
      "bars_left: tensor([[13]], device='cuda:0')\n",
      "bars_left: tensor([[12]], device='cuda:0')\n",
      "bars_left: tensor([[12]], device='cuda:0')\n",
      "bars_left: tensor([[12]], device='cuda:0')\n",
      "bars_left: tensor([[11]], device='cuda:0')\n",
      "bars_left: tensor([[11]], device='cuda:0')\n",
      "bars_left: tensor([[11]], device='cuda:0')\n",
      "bars_left: tensor([[10]], device='cuda:0')\n",
      "bars_left: tensor([[10]], device='cuda:0')\n",
      "bars_left: tensor([[10]], device='cuda:0')\n",
      "bars_left: tensor([[9]], device='cuda:0')\n",
      "bars_left: tensor([[9]], device='cuda:0')\n",
      "bars_left: tensor([[9]], device='cuda:0')\n",
      "bars_left: tensor([[8]], device='cuda:0')\n",
      "bars_left: tensor([[8]], device='cuda:0')\n",
      "bars_left: tensor([[8]], device='cuda:0')\n",
      "bars_left: tensor([[7]], device='cuda:0')\n",
      "bars_left: tensor([[7]], device='cuda:0')\n",
      "bars_left: tensor([[7]], device='cuda:0')\n",
      "bars_left: tensor([[6]], device='cuda:0')\n",
      "bars_left: tensor([[6]], device='cuda:0')\n",
      "bars_left: tensor([[6]], device='cuda:0')\n",
      "bars_left: tensor([[5]], device='cuda:0')\n",
      "bars_left: tensor([[5]], device='cuda:0')\n",
      "bars_left: tensor([[5]], device='cuda:0')\n",
      "bars_left: tensor([[4]], device='cuda:0')\n",
      "bars_left: tensor([[4]], device='cuda:0')\n",
      "bars_left: tensor([[4]], device='cuda:0')\n",
      "bars_left: tensor([[4]], device='cuda:0')\n",
      "bars_left: tensor([[4]], device='cuda:0')\n",
      "bars_left: tensor([[4]], device='cuda:0')\n",
      "bars_left: tensor([[4]], device='cuda:0')\n",
      "bars_left: tensor([[4]], device='cuda:0')\n",
      "bars_left: tensor([[4]], device='cuda:0')\n",
      "bars_left: tensor([[4]], device='cuda:0')\n",
      "bars_left: tensor([[3]], device='cuda:0')\n",
      "bars_left: tensor([[3]], device='cuda:0')\n",
      "bars_left: tensor([[3]], device='cuda:0')\n",
      "bars_left: tensor([[3]], device='cuda:0')\n",
      "bars_left: tensor([[3]], device='cuda:0')\n",
      "bars_left: tensor([[3]], device='cuda:0')\n",
      "bars_left: tensor([[3]], device='cuda:0')\n",
      "bars_left: tensor([[3]], device='cuda:0')\n",
      "bars_left: tensor([[3]], device='cuda:0')\n",
      "bars_left: tensor([[2]], device='cuda:0')\n",
      "bars_left: tensor([[2]], device='cuda:0')\n",
      "bars_left: tensor([[2]], device='cuda:0')\n",
      "bars_left: tensor([[1]], device='cuda:0')\n",
      "bars_left: tensor([[1]], device='cuda:0')\n",
      "bars_left: tensor([[1]], device='cuda:0')\n",
      "bars_left: tensor([[1]], device='cuda:0')\n",
      "bars_left: tensor([[1]], device='cuda:0')\n",
      "bars_left: tensor([[1]], device='cuda:0')\n",
      "bars_left: tensor([[1]], device='cuda:0')\n",
      "bars_left: tensor([[1]], device='cuda:0')\n",
      "bars_left: tensor([[1]], device='cuda:0')\n",
      "bars_left: tensor([[1]], device='cuda:0')\n",
      "bars_left: tensor([[1]], device='cuda:0')\n",
      "bars_left: tensor([[1]], device='cuda:0')\n",
      "bars_left: tensor([[1]], device='cuda:0')\n",
      "bars_left: tensor([[0]], device='cuda:0')\n",
      "bars_left: tensor([[0]], device='cuda:0')\n",
      "bars_left: tensor([[0]], device='cuda:0')\n",
      "bars_left: tensor([[0]], device='cuda:0')\n",
      "bars_left: tensor([[0]], device='cuda:0')\n",
      "bars_left: tensor([[0]], device='cuda:0')\n",
      "bars_left: tensor([[0]], device='cuda:0')\n",
      "bars_left: tensor([[0]], device='cuda:0')\n",
      "bars_left: tensor([[0]], device='cuda:0')\n",
      "bars_left: tensor([[0]], device='cuda:0')\n",
      "bars_left: tensor([[0]], device='cuda:0')\n",
      "bars_left: tensor([[0]], device='cuda:0')\n",
      "bars_left: tensor([[0]], device='cuda:0')\n",
      "normal generation\n",
      "bars_left: tensor([[20]], device='cuda:0')\n",
      "bars_left: tensor([[20]], device='cuda:0')\n",
      "bars_left: tensor([[19]], device='cuda:0')\n",
      "bars_left: tensor([[19]], device='cuda:0')\n",
      "bars_left: tensor([[19]], device='cuda:0')\n",
      "bars_left: tensor([[19]], device='cuda:0')\n",
      "bars_left: tensor([[19]], device='cuda:0')\n",
      "bars_left: tensor([[18]], device='cuda:0')\n",
      "bars_left: tensor([[18]], device='cuda:0')\n",
      "bars_left: tensor([[18]], device='cuda:0')\n",
      "bars_left: tensor([[17]], device='cuda:0')\n",
      "bars_left: tensor([[17]], device='cuda:0')\n",
      "bars_left: tensor([[17]], device='cuda:0')\n",
      "bars_left: tensor([[16]], device='cuda:0')\n",
      "bars_left: tensor([[16]], device='cuda:0')\n",
      "bars_left: tensor([[16]], device='cuda:0')\n",
      "bars_left: tensor([[16]], device='cuda:0')\n",
      "bars_left: tensor([[16]], device='cuda:0')\n",
      "bars_left: tensor([[16]], device='cuda:0')\n",
      "bars_left: tensor([[16]], device='cuda:0')\n",
      "bars_left: tensor([[15]], device='cuda:0')\n",
      "bars_left: tensor([[15]], device='cuda:0')\n",
      "bars_left: tensor([[15]], device='cuda:0')\n",
      "bars_left: tensor([[15]], device='cuda:0')\n",
      "bars_left: tensor([[15]], device='cuda:0')\n",
      "bars_left: tensor([[15]], device='cuda:0')\n",
      "bars_left: tensor([[15]], device='cuda:0')\n",
      "bars_left: tensor([[14]], device='cuda:0')\n",
      "bars_left: tensor([[14]], device='cuda:0')\n",
      "bars_left: tensor([[14]], device='cuda:0')\n",
      "bars_left: tensor([[14]], device='cuda:0')\n",
      "bars_left: tensor([[14]], device='cuda:0')\n",
      "bars_left: tensor([[14]], device='cuda:0')\n",
      "bars_left: tensor([[14]], device='cuda:0')\n",
      "bars_left: tensor([[13]], device='cuda:0')\n",
      "bars_left: tensor([[13]], device='cuda:0')\n",
      "bars_left: tensor([[13]], device='cuda:0')\n",
      "bars_left: tensor([[13]], device='cuda:0')\n",
      "bars_left: tensor([[13]], device='cuda:0')\n",
      "bars_left: tensor([[12]], device='cuda:0')\n",
      "bars_left: tensor([[12]], device='cuda:0')\n",
      "bars_left: tensor([[12]], device='cuda:0')\n",
      "bars_left: tensor([[11]], device='cuda:0')\n",
      "bars_left: tensor([[11]], device='cuda:0')\n",
      "bars_left: tensor([[11]], device='cuda:0')\n",
      "bars_left: tensor([[11]], device='cuda:0')\n",
      "bars_left: tensor([[11]], device='cuda:0')\n",
      "bars_left: tensor([[10]], device='cuda:0')\n",
      "bars_left: tensor([[10]], device='cuda:0')\n",
      "bars_left: tensor([[10]], device='cuda:0')\n",
      "bars_left: tensor([[10]], device='cuda:0')\n",
      "bars_left: tensor([[10]], device='cuda:0')\n",
      "bars_left: tensor([[9]], device='cuda:0')\n",
      "bars_left: tensor([[9]], device='cuda:0')\n",
      "bars_left: tensor([[9]], device='cuda:0')\n",
      "bars_left: tensor([[9]], device='cuda:0')\n",
      "bars_left: tensor([[9]], device='cuda:0')\n",
      "bars_left: tensor([[8]], device='cuda:0')\n",
      "bars_left: tensor([[8]], device='cuda:0')\n",
      "bars_left: tensor([[8]], device='cuda:0')\n",
      "bars_left: tensor([[8]], device='cuda:0')\n",
      "bars_left: tensor([[8]], device='cuda:0')\n",
      "bars_left: tensor([[7]], device='cuda:0')\n",
      "bars_left: tensor([[7]], device='cuda:0')\n",
      "bars_left: tensor([[7]], device='cuda:0')\n",
      "bars_left: tensor([[7]], device='cuda:0')\n",
      "bars_left: tensor([[7]], device='cuda:0')\n",
      "bars_left: tensor([[7]], device='cuda:0')\n",
      "bars_left: tensor([[7]], device='cuda:0')\n",
      "bars_left: tensor([[6]], device='cuda:0')\n",
      "bars_left: tensor([[6]], device='cuda:0')\n",
      "bars_left: tensor([[6]], device='cuda:0')\n",
      "bars_left: tensor([[6]], device='cuda:0')\n",
      "bars_left: tensor([[6]], device='cuda:0')\n",
      "bars_left: tensor([[5]], device='cuda:0')\n",
      "bars_left: tensor([[5]], device='cuda:0')\n",
      "bars_left: tensor([[5]], device='cuda:0')\n",
      "bars_left: tensor([[5]], device='cuda:0')\n",
      "bars_left: tensor([[5]], device='cuda:0')\n",
      "bars_left: tensor([[4]], device='cuda:0')\n",
      "bars_left: tensor([[4]], device='cuda:0')\n",
      "bars_left: tensor([[4]], device='cuda:0')\n",
      "bars_left: tensor([[4]], device='cuda:0')\n",
      "bars_left: tensor([[4]], device='cuda:0')\n",
      "bars_left: tensor([[3]], device='cuda:0')\n",
      "bars_left: tensor([[3]], device='cuda:0')\n",
      "bars_left: tensor([[3]], device='cuda:0')\n",
      "bars_left: tensor([[3]], device='cuda:0')\n",
      "bars_left: tensor([[3]], device='cuda:0')\n",
      "bars_left: tensor([[2]], device='cuda:0')\n",
      "bars_left: tensor([[2]], device='cuda:0')\n",
      "bars_left: tensor([[2]], device='cuda:0')\n",
      "bars_left: tensor([[2]], device='cuda:0')\n",
      "bars_left: tensor([[2]], device='cuda:0')\n",
      "bars_left: tensor([[1]], device='cuda:0')\n",
      "bars_left: tensor([[1]], device='cuda:0')\n",
      "bars_left: tensor([[1]], device='cuda:0')\n",
      "bars_left: tensor([[0]], device='cuda:0')\n",
      "bars_left: tensor([[0]], device='cuda:0')\n",
      "bars_left: tensor([[0]], device='cuda:0')\n",
      "bars_left: tensor([[0]], device='cuda:0')\n",
      "bars_left: tensor([[0]], device='cuda:0')\n",
      "bars_left: tensor([[0]], device='cuda:0')\n",
      "bars_left: tensor([[0]], device='cuda:0')\n",
      "bars_left: tensor([[0]], device='cuda:0')\n",
      "bars_left: tensor([[0]], device='cuda:0')\n"
     ]
    }
   ],
   "source": [
    "with torch.no_grad():\n",
    "    input_ids = batch['input_ids'].to(device)\n",
    "    # transitions = batch['transitions'].to(device)\n",
    "    # transitions = torch.FloatTensor(bc_major).reshape(1,bc_major.shape[0], bc_major.shape[1]).to(device)\n",
    "    # transitions = torch.FloatTensor(bc_minor).reshape(1,bc_minor.shape[0], bc_minor.shape[1]).to(device)\n",
    "    transitions = torch.FloatTensor(organum).reshape(1,organum.shape[0], organum.shape[1]).to(device)\n",
    "    # transitions = torch.FloatTensor(jazz_maj).reshape(1,jazz_maj.shape[0], jazz_maj.shape[1]).to(device)\n",
    "    # transitions = torch.FloatTensor(jazz_min).reshape(1,jazz_min.shape[0], jazz_min.shape[1]).to(device)\n",
    "    # attention_mask = batch['attention_mask'].to(device)\n",
    "    attention_mask = None\n",
    "    output_tokens = []\n",
    "    output_recon_tokens = []\n",
    "    num_bars = (input_ids == tokenizer.vocab['<bar>']).sum(dim=1).reshape(input_ids.shape[0],-1)\n",
    "    print(input_ids)\n",
    "    print(transitions)\n",
    "    print(num_bars.shape)\n",
    "    outputs = model(input_ids, transitions, encoder_attention=attention_mask, generate_max_tokens=500, num_bars=num_bars, temperature=1.0)\n",
    "    for i in outputs['generated_ids'][0]:\n",
    "        output_tokens.append( tokenizer.ids_to_tokens[ int(i) ].replace(' ','x') )\n",
    "    for i in outputs['generated_recon_ids'][0]:\n",
    "        output_recon_tokens.append( tokenizer.ids_to_tokens[ int(i) ].replace(' ','x') )"
   ]
  },
  {
   "cell_type": "code",
   "execution_count": 17,
   "metadata": {},
   "outputs": [
    {
     "name": "stdout",
     "output_type": "stream",
     "text": [
      "torch.Size([1, 348, 348])\n"
     ]
    }
   ],
   "source": [
    "print(transitions.shape)"
   ]
  },
  {
   "cell_type": "code",
   "execution_count": 18,
   "metadata": {},
   "outputs": [
    {
     "name": "stdout",
     "output_type": "stream",
     "text": [
      "['<s>', '<h>', '<bar>', 'position_0x00', 'A:min', 'position_3x00', 'G:7', '<bar>', 'position_0x00', 'G:7', '<bar>', 'position_0x00', 'C:maj', '<bar>', 'position_0x00', 'F:maj7', 'position_2x00', 'C:maj', 'position_3x00', 'D:min', '<bar>', 'position_0x00', 'E:7', 'position_1x50', 'A:min', 'position_3x50', 'C:maj', '<bar>', 'position_0x00', 'C:maj', 'position_1x50', 'G:maj', 'position_1x50', 'F:maj', '<bar>', 'position_0x00', 'C:maj', 'position_1x50', 'F:maj', '<bar>', 'position_0x00', 'G:sus4', '<bar>', 'position_0x00', 'G:maj', 'position_1x50', 'E:maj', '<bar>', 'position_0x00', 'C:maj', 'position_1x50', 'G:maj', '<bar>', 'position_0x00', 'A:min', 'position_1x50', 'E:maj', '<bar>', 'position_0x00', 'C:maj', 'position_1x50', 'F:maj', '<bar>', 'position_0x00', 'C:maj', 'position_1x50', 'G:maj', 'position_3x50', 'A:min', '<bar>', 'position_0x00', 'A:min', 'position_1x50', 'C:maj', '<bar>', 'position_0x00', 'F:maj', 'position_1x50', 'E:min', '<bar>', 'position_0x00', 'D:min', 'position_1x50', 'D:min', '<bar>', 'position_0x00', 'C:maj', 'position_2x00', 'E:min7', '<bar>', 'position_0x00', 'G#:maj7', 'position_2x00', 'F:maj', '<bar>', 'position_0x00', 'C:maj', '<bar>', 'position_0x00', 'C:maj', 'position_1x50', 'B:dim', 'position_3x00', 'E:maj', 'position_3x50', 'A:min', '</s>']\n"
     ]
    }
   ],
   "source": [
    "print(output_tokens)"
   ]
  },
  {
   "cell_type": "code",
   "execution_count": 19,
   "metadata": {},
   "outputs": [
    {
     "name": "stdout",
     "output_type": "stream",
     "text": [
      "['<s>', '<h>', '<bar>', 'position_0x00', 'F:maj', '<bar>', 'position_0x00', 'F:maj', '<bar>', 'position_0x00', 'G:maj', '<bar>', 'position_0x00', 'G:maj', '<bar>', 'position_0x00', 'F:maj', '<bar>', 'position_0x00', 'F:maj', '<bar>', 'position_0x00', 'G:maj', '<bar>', 'position_0x00', 'G:maj', '<bar>', 'position_0x00', 'F:maj', '<bar>', 'position_0x00', 'F:maj', '<bar>', 'position_0x00', 'G:maj', '<bar>', 'position_0x00', 'G:maj', '<bar>', 'position_0x00', 'A:min', '<bar>', 'position_0x00', 'A:min', '<bar>', 'position_0x00', 'C:maj', '<bar>', 'position_0x00', 'C:maj', 'position_2x00', 'C:maj', 'position_3x00', 'C:maj', 'position_3x50', 'C:maj', 'G#:hdim7', '<bar>', 'position_0x00', 'F#:sus4', 'position_1x50', 'E:min', 'position_2x00', 'E:min', 'position_3x50', 'F#:sus4', '<bar>', 'position_0x00', 'G:maj', '<bar>', 'position_0x00', 'E:min7', 'position_2x00', 'E:min', 'position_3x00', 'G:sus2', 'position_3x50', 'G:maj', 'position_3x75', 'G:7', 'position_3x75', 'F:maj', '<bar>', 'position_0x00', 'G:maj', 'position_1x50', 'G:maj', 'position_2x00', 'G:maj', 'position_2x75', 'G:maj', 'position_4x50', 'G:maj', 'position_3x75', 'A:min', '</s>']\n"
     ]
    }
   ],
   "source": [
    "print(output_recon_tokens)"
   ]
  },
  {
   "cell_type": "code",
   "execution_count": 20,
   "metadata": {},
   "outputs": [
    {
     "name": "stdout",
     "output_type": "stream",
     "text": [
      "tensor([[  2,   6, 180,  95,  55, 103,  62, 107,  60, 115,  58, 123,  57,   6,\n",
      "          95,  57,  99,  58, 103,  57, 107,  55, 111,  55, 115,  53, 119,   4,\n",
      "         123,  58,   6,  95,  58,  99,  57, 103,  53, 107,  55, 115,  53, 119,\n",
      "          51, 123,  50,   6,  95,  50,  99,  51, 103,  53, 107,  60, 115,  58,\n",
      "         119,   4,   6,  95,  55, 103,  62, 107,  60, 115,  58, 123,  63,   6,\n",
      "          95,  63,  99,  62, 103,  60, 107,  58, 111,  57, 115,  58, 119,  60,\n",
      "         123,  62,   6,  95,  62,   6,  95,   4, 103,  62, 111,  60, 119,  58,\n",
      "           6,  95,  55, 103,  62, 107,  60, 115,  58, 123,  57,   6,  95,  57,\n",
      "          99,  58, 103,  57, 107,  55, 111,  55, 115,  53, 119,   4, 123,  58,\n",
      "           6,  95,  58,  99,  57, 103,  53, 107,  55, 115,  53, 119,  51, 123,\n",
      "          50,   6,  95,  50,  99,  51, 103,  53, 107,  60, 115,  58, 119,   4,\n",
      "           6,  95,  55, 103,  62, 107,  60, 115,  58, 123,  63,   6,  95,  63,\n",
      "          99,  62, 103,  60, 107,  58, 111,  57, 115,  55, 119,  57, 123,  58,\n",
      "           6,  95,  58,   6,  95,   4, 119,  58, 123,  57,   6,  95,  55, 103,\n",
      "          58, 107,  57, 115,  58, 119,  60, 123,  60,   6,  95,  60, 103,  62,\n",
      "         107,  58, 119,  58, 123,  57,   6,  95,  58, 103,  54, 107,  56, 115,\n",
      "          63, 123,  62,   6,  95,  62,  99,  58, 111,   4]], device='cuda:0')\n",
      "['<s>', '<bar>', 'ts_4x4', 'position_0x00', 'P:69', 'position_1x00', 'P:76', 'position_1x50', 'P:74', 'position_2x50', 'P:72', 'position_3x50', 'P:71', '<bar>', 'position_0x00', 'P:71', 'position_0x50', 'P:72', 'position_1x00', 'P:71', 'position_1x50', 'P:69', 'position_2x00', 'P:69', 'position_2x50', 'P:67', 'position_3x00', '<rest>', 'position_3x50', 'P:72', '<bar>', 'position_0x00', 'P:72', 'position_0x50', 'P:71', 'position_1x00', 'P:67', 'position_1x50', 'P:69', 'position_2x50', 'P:67', 'position_3x00', 'P:65', 'position_3x50', 'P:64', '<bar>', 'position_0x00', 'P:64', 'position_0x50', 'P:65', 'position_1x00', 'P:67', 'position_1x50', 'P:74', 'position_2x50', 'P:72', 'position_3x00', '<rest>', '<bar>', 'position_0x00', 'P:69', 'position_1x00', 'P:76', 'position_1x50', 'P:74', 'position_2x50', 'P:72', 'position_3x50', 'P:77', '<bar>', 'position_0x00', 'P:77', 'position_0x50', 'P:76', 'position_1x00', 'P:74', 'position_1x50', 'P:72', 'position_2x00', 'P:71', 'position_2x50', 'P:72', 'position_3x00', 'P:74', 'position_3x50', 'P:76', '<bar>', 'position_0x00', 'P:76', '<bar>', 'position_0x00', '<rest>', 'position_1x00', 'P:76', 'position_2x00', 'P:74', 'position_3x00', 'P:72', '<bar>', 'position_0x00', 'P:69', 'position_1x00', 'P:76', 'position_1x50', 'P:74', 'position_2x50', 'P:72', 'position_3x50', 'P:71', '<bar>', 'position_0x00', 'P:71', 'position_0x50', 'P:72', 'position_1x00', 'P:71', 'position_1x50', 'P:69', 'position_2x00', 'P:69', 'position_2x50', 'P:67', 'position_3x00', '<rest>', 'position_3x50', 'P:72', '<bar>', 'position_0x00', 'P:72', 'position_0x50', 'P:71', 'position_1x00', 'P:67', 'position_1x50', 'P:69', 'position_2x50', 'P:67', 'position_3x00', 'P:65', 'position_3x50', 'P:64', '<bar>', 'position_0x00', 'P:64', 'position_0x50', 'P:65', 'position_1x00', 'P:67', 'position_1x50', 'P:74', 'position_2x50', 'P:72', 'position_3x00', '<rest>', '<bar>', 'position_0x00', 'P:69', 'position_1x00', 'P:76', 'position_1x50', 'P:74', 'position_2x50', 'P:72', 'position_3x50', 'P:77', '<bar>', 'position_0x00', 'P:77', 'position_0x50', 'P:76', 'position_1x00', 'P:74', 'position_1x50', 'P:72', 'position_2x00', 'P:71', 'position_2x50', 'P:69', 'position_3x00', 'P:71', 'position_3x50', 'P:72', '<bar>', 'position_0x00', 'P:72', '<bar>', 'position_0x00', '<rest>', 'position_3x00', 'P:72', 'position_3x50', 'P:71', '<bar>', 'position_0x00', 'P:69', 'position_1x00', 'P:72', 'position_1x50', 'P:71', 'position_2x50', 'P:72', 'position_3x00', 'P:74', 'position_3x50', 'P:74', '<bar>', 'position_0x00', 'P:74', 'position_1x00', 'P:76', 'position_1x50', 'P:72', 'position_3x00', 'P:72', 'position_3x50', 'P:71', '<bar>', 'position_0x00', 'P:72', 'position_1x00', 'P:68', 'position_1x50', 'P:70', 'position_2x50', 'P:77', 'position_3x50', 'P:76', '<bar>', 'position_0x00', 'P:76', 'position_0x50', 'P:72', 'position_2x00', '<rest>']\n"
     ]
    }
   ],
   "source": [
    "input_ids = batch['input_ids'].to(device)\n",
    "print(input_ids)\n",
    "input_tokens = []\n",
    "for i in input_ids[0]:\n",
    "    input_tokens.append( tokenizer.ids_to_tokens[ int(i) ].replace(' ','x') )\n",
    "print(input_tokens)"
   ]
  },
  {
   "cell_type": "code",
   "execution_count": 21,
   "metadata": {},
   "outputs": [],
   "source": [
    "class ExactTokenCountLogitsProcessor(LogitsProcessor):\n",
    "    def __init__(self, token_id, max_count):\n",
    "        self.token_id = token_id\n",
    "        self.max_count = max_count\n",
    "\n",
    "    def __call__(self, input_ids, scores):\n",
    "        token_count = (input_ids == self.token_id).sum().item()\n",
    "        if token_count >= self.max_count:\n",
    "            scores[:, self.token_id] = -float(\"inf\")  # Mask the token\n",
    "        return scores\n",
    "\n",
    "class ExactTokenCountStoppingCriteria(StoppingCriteria):\n",
    "    def __init__(self, token_id, max_count):\n",
    "        self.token_id = token_id\n",
    "        self.max_count = max_count\n",
    "\n",
    "    def __call__(self, input_ids, scores, **kwargs):\n",
    "        token_count = (input_ids == self.token_id).sum().item()\n",
    "        return token_count >= self.max_count  # Stop when the count is reached\n"
   ]
  },
  {
   "cell_type": "code",
   "execution_count": 22,
   "metadata": {},
   "outputs": [],
   "source": [
    "# Define the token ID and the exact count you want\n",
    "token_id = 200\n",
    "exact_count = 10\n",
    "\n",
    "bart_outputs = bart.generate(\n",
    "    input_ids=input_ids,\n",
    "    # attention_mask=batch['attention_mask'][bi],\n",
    "    bos_token_id=tokenizer.vocab[tokenizer.harmony_tokenizer.start_harmony_token],\n",
    "    eos_token_id=tokenizer.eos_token_id,\n",
    "    max_new_tokens=500,\n",
    "    do_sample=True,\n",
    "    temperature=1.0,\n",
    "    # logits_processor=[ExactTokenCountLogitsProcessor(token_id, exact_count)],\n",
    "    # stopping_criteria=StoppingCriteriaList([ExactTokenCountStoppingCriteria(token_id, exact_count)])\n",
    ")"
   ]
  },
  {
   "cell_type": "code",
   "execution_count": 23,
   "metadata": {},
   "outputs": [
    {
     "name": "stdout",
     "output_type": "stream",
     "text": [
      "tensor([[  2, 196,   6,  95, 459, 107, 431, 107, 197, 107, 256, 115, 314,   6,\n",
      "          95, 459,   6,  95, 197, 107, 400,   6,  95, 197, 107, 349,   6,  95,\n",
      "         342, 107, 197,   6,  95, 400, 107, 197,   6,  95, 197, 107, 400,   6,\n",
      "          95, 459, 107, 197,   6,  95, 342,   6,  95, 197, 107, 197,   6,  95,\n",
      "         459, 107, 314,   6,  95, 400,   6,  95, 256,   6,  95, 314, 111, 197,\n",
      "           6,  95, 342,   6,  95, 400, 111, 314,   6,  95, 314,   6,  95, 342,\n",
      "         111, 197,   6,  95, 256,   6,  95, 256, 111, 313,   6,  95, 342,   6,\n",
      "          95, 400,   6,  95, 197,   6,  95, 256, 111, 313,   6,  95, 404,   6,\n",
      "          95, 404,   6,  95, 404,   6,  95, 404, 111, 400,   3]],\n",
      "       device='cuda:0')\n",
      "['<s>', '<h>', '<bar>', 'position_0x00', 'A:min', 'position_1x50', 'G#:aug', 'position_1x50', 'C:maj', 'position_1x50', 'D:min', 'position_2x50', 'E:min', '<bar>', 'position_0x00', 'A:min', '<bar>', 'position_0x00', 'C:maj', 'position_1x50', 'G:maj', '<bar>', 'position_0x00', 'C:maj', 'position_1x50', 'F:maj7', '<bar>', 'position_0x00', 'F:maj', 'position_1x50', 'C:maj', '<bar>', 'position_0x00', 'G:maj', 'position_1x50', 'C:maj', '<bar>', 'position_0x00', 'C:maj', 'position_1x50', 'G:maj', '<bar>', 'position_0x00', 'A:min', 'position_1x50', 'C:maj', '<bar>', 'position_0x00', 'F:maj', '<bar>', 'position_0x00', 'C:maj', 'position_1x50', 'C:maj', '<bar>', 'position_0x00', 'A:min', 'position_1x50', 'E:min', '<bar>', 'position_0x00', 'G:maj', '<bar>', 'position_0x00', 'D:min', '<bar>', 'position_0x00', 'E:min', 'position_2x00', 'C:maj', '<bar>', 'position_0x00', 'F:maj', '<bar>', 'position_0x00', 'G:maj', 'position_2x00', 'E:min', '<bar>', 'position_0x00', 'E:min', '<bar>', 'position_0x00', 'F:maj', 'position_2x00', 'C:maj', '<bar>', 'position_0x00', 'D:min', '<bar>', 'position_0x00', 'D:min', 'position_2x00', 'E:maj', '<bar>', 'position_0x00', 'F:maj', '<bar>', 'position_0x00', 'G:maj', '<bar>', 'position_0x00', 'C:maj', '<bar>', 'position_0x00', 'D:min', 'position_2x00', 'E:maj', '<bar>', 'position_0x00', 'G:sus4', '<bar>', 'position_0x00', 'G:sus4', '<bar>', 'position_0x00', 'G:sus4', '<bar>', 'position_0x00', 'G:sus4', 'position_2x00', 'G:maj', '</s>']\n"
     ]
    }
   ],
   "source": [
    "print(bart_outputs)\n",
    "bart_only_outputs = []\n",
    "for i in bart_outputs[0]:\n",
    "    bart_only_outputs.append( tokenizer.ids_to_tokens[ int(i) ].replace(' ','x') )\n",
    "print(bart_only_outputs)"
   ]
  },
  {
   "cell_type": "code",
   "execution_count": 24,
   "metadata": {},
   "outputs": [
    {
     "name": "stdout",
     "output_type": "stream",
     "text": [
      "['<s>', '<h>', '<bar>', 'position_0x00', 'A:min', 'position_1x50', 'G#:aug', 'position_1x50', 'C:maj', 'position_1x50', 'D:min', 'position_2x50', 'E:min', '<bar>', 'position_0x00', 'A:min', '<bar>', 'position_0x00', 'C:maj', 'position_1x50', 'G:maj', '<bar>', 'position_0x00', 'C:maj', 'position_1x50', 'F:maj7', '<bar>', 'position_0x00', 'F:maj', 'position_1x50', 'C:maj', '<bar>', 'position_0x00', 'G:maj', 'position_1x50', 'C:maj', '<bar>', 'position_0x00', 'C:maj', 'position_1x50', 'G:maj', '<bar>', 'position_0x00', 'A:min', 'position_1x50', 'C:maj', '<bar>', 'position_0x00', 'F:maj', '<bar>', 'position_0x00', 'C:maj', 'position_1x50', 'C:maj', '<bar>', 'position_0x00', 'A:min', 'position_1x50', 'E:min', '<bar>', 'position_0x00', 'G:maj', '<bar>', 'position_0x00', 'D:min', '<bar>', 'position_0x00', 'E:min', 'position_2x00', 'C:maj', '<bar>', 'position_0x00', 'F:maj', '<bar>', 'position_0x00', 'G:maj', 'position_2x00', 'E:min', '<bar>', 'position_0x00', 'E:min', '<bar>', 'position_0x00', 'F:maj', 'position_2x00', 'C:maj', '<bar>', 'position_0x00', 'D:min', '<bar>', 'position_0x00', 'D:min', 'position_2x00', 'E:maj', '<bar>', 'position_0x00', 'F:maj', '<bar>', 'position_0x00', 'G:maj', '<bar>', 'position_0x00', 'C:maj', '<bar>', 'position_0x00', 'D:min', 'position_2x00', 'E:maj', '<bar>', 'position_0x00', 'G:sus4', '<bar>', 'position_0x00', 'G:sus4', '<bar>', 'position_0x00', 'G:sus4', '<bar>', 'position_0x00', 'G:sus4', 'position_2x00', 'G:maj', '</s>']\n",
      "['<s>', '<h>', '<bar>', 'position_0x00', 'A:min', 'position_3x00', 'G:7', '<bar>', 'position_0x00', 'G:7', '<bar>', 'position_0x00', 'C:maj', '<bar>', 'position_0x00', 'F:maj7', 'position_2x00', 'C:maj', 'position_3x00', 'D:min', '<bar>', 'position_0x00', 'E:7', 'position_1x50', 'A:min', 'position_3x50', 'C:maj', '<bar>', 'position_0x00', 'C:maj', 'position_1x50', 'G:maj', 'position_1x50', 'F:maj', '<bar>', 'position_0x00', 'C:maj', 'position_1x50', 'F:maj', '<bar>', 'position_0x00', 'G:sus4', '<bar>', 'position_0x00', 'G:maj', 'position_1x50', 'E:maj', '<bar>', 'position_0x00', 'C:maj', 'position_1x50', 'G:maj', '<bar>', 'position_0x00', 'A:min', 'position_1x50', 'E:maj', '<bar>', 'position_0x00', 'C:maj', 'position_1x50', 'F:maj', '<bar>', 'position_0x00', 'C:maj', 'position_1x50', 'G:maj', 'position_3x50', 'A:min', '<bar>', 'position_0x00', 'A:min', 'position_1x50', 'C:maj', '<bar>', 'position_0x00', 'F:maj', 'position_1x50', 'E:min', '<bar>', 'position_0x00', 'D:min', 'position_1x50', 'D:min', '<bar>', 'position_0x00', 'C:maj', 'position_2x00', 'E:min7', '<bar>', 'position_0x00', 'G#:maj7', 'position_2x00', 'F:maj', '<bar>', 'position_0x00', 'C:maj', '<bar>', 'position_0x00', 'C:maj', 'position_1x50', 'B:dim', 'position_3x00', 'E:maj', 'position_3x50', 'A:min', '</s>']\n",
      "['<s>', '<h>', '<bar>', 'position_0x00', 'F:maj', '<bar>', 'position_0x00', 'F:maj', '<bar>', 'position_0x00', 'G:maj', '<bar>', 'position_0x00', 'G:maj', '<bar>', 'position_0x00', 'F:maj', '<bar>', 'position_0x00', 'F:maj', '<bar>', 'position_0x00', 'G:maj', '<bar>', 'position_0x00', 'G:maj', '<bar>', 'position_0x00', 'F:maj', '<bar>', 'position_0x00', 'F:maj', '<bar>', 'position_0x00', 'G:maj', '<bar>', 'position_0x00', 'G:maj', '<bar>', 'position_0x00', 'A:min', '<bar>', 'position_0x00', 'A:min', '<bar>', 'position_0x00', 'C:maj', '<bar>', 'position_0x00', 'C:maj', 'position_2x00', 'C:maj', 'position_3x00', 'C:maj', 'position_3x50', 'C:maj', 'G#:hdim7', '<bar>', 'position_0x00', 'F#:sus4', 'position_1x50', 'E:min', 'position_2x00', 'E:min', 'position_3x50', 'F#:sus4', '<bar>', 'position_0x00', 'G:maj', '<bar>', 'position_0x00', 'E:min7', 'position_2x00', 'E:min', 'position_3x00', 'G:sus2', 'position_3x50', 'G:maj', 'position_3x75', 'G:7', 'position_3x75', 'F:maj', '<bar>', 'position_0x00', 'G:maj', 'position_1x50', 'G:maj', 'position_2x00', 'G:maj', 'position_2x75', 'G:maj', 'position_4x50', 'G:maj', 'position_3x75', 'A:min', '</s>']\n"
     ]
    }
   ],
   "source": [
    "print(bart_only_outputs)\n",
    "print(output_tokens)\n",
    "print(output_recon_tokens)"
   ]
  },
  {
   "cell_type": "code",
   "execution_count": 25,
   "metadata": {},
   "outputs": [
    {
     "name": "stdout",
     "output_type": "stream",
     "text": [
      "Warning: Exceeded measure count when processing token '<bar>'.\n",
      "Warning: Exceeded measure count when processing token '<bar>'.\n",
      "Warning: Exceeded measure count when processing token '<bar>'.\n",
      "Warning: Exceeded measure count when processing token '<bar>'.\n",
      "Warning: Exceeded measure count when processing token '<bar>'.\n",
      "Warning: Exceeded measure count when processing token '<bar>'.\n",
      "Warning: Exceeded measure count when processing token '<bar>'.\n",
      "Warning: Exceeded measure count when processing token '<bar>'.\n",
      "Saved as examples/bart.mxl\n",
      "Saved as examples/encdec.mxl\n",
      "Saved as examples/recon.mxl\n"
     ]
    }
   ],
   "source": [
    "tokenizer.decode( input_tokens + bart_only_outputs[1:], output_format='file', output_path='examples/bart.mxl' )\n",
    "tokenizer.decode( input_tokens + output_tokens[1:], output_format='file', output_path='examples/encdec.mxl' )\n",
    "tokenizer.decode( input_tokens + output_recon_tokens[1:], output_format='file', output_path='examples/recon.mxl' )"
   ]
  },
  {
   "cell_type": "code",
   "execution_count": 26,
   "metadata": {},
   "outputs": [
    {
     "name": "stdout",
     "output_type": "stream",
     "text": [
      "tensor(37.9221, dtype=torch.float64)\n",
      "tensor(31.6931, dtype=torch.float64)\n"
     ]
    }
   ],
   "source": [
    "print( (outputs['generated_markov']-transitions.to('cpu')).pow(2).sum().sqrt() )\n",
    "print( (outputs['recon_markov']-transitions.to('cpu')).pow(2).sum().sqrt() )"
   ]
  }
 ],
 "metadata": {
  "kernelspec": {
   "display_name": "torch",
   "language": "python",
   "name": "python3"
  },
  "language_info": {
   "codemirror_mode": {
    "name": "ipython",
    "version": 3
   },
   "file_extension": ".py",
   "mimetype": "text/x-python",
   "name": "python",
   "nbconvert_exporter": "python",
   "pygments_lexer": "ipython3",
   "version": "3.11.5"
  }
 },
 "nbformat": 4,
 "nbformat_minor": 2
}
