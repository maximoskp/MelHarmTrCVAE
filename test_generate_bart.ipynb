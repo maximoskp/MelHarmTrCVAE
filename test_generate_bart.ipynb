{
 "cells": [
  {
   "cell_type": "code",
   "execution_count": 50,
   "metadata": {},
   "outputs": [],
   "source": [
    "# USER OPTIONS\n",
    "# define tokenizer name - should be one among the keys in the cell below\n",
    "tokenizer_name = 'ChordSymbolTokenizer' # or any other name from the keys in tokenizers dictionary\n",
    "# tokenizer_name = 'RootTypeTokenizer'\n",
    "# tokenizer_name = 'PitchClassTokenizer'\n",
    "# folder to xmls\n",
    "val_dir = '/media/maindisk/maximos/data/hooktheory_test'\n",
    "# val_dir = '/media/maindisk/maximos/data/gjt_melodies/Library_melodies'\n",
    "# val_dir = '/media/datadisk/datasets/gjt_melodies/Library_melodies'\n",
    "# val_dir = '/media/maximos/9C33-6BBD/data/gjt_melodies/Library_melodies'\n",
    "\n",
    "# define batch size depending on GPU availability / status\n",
    "batchsize = 16\n",
    "# select device name - could be 'cpu', 'cuda', 'coda:0', 'cuda:1'...\n",
    "device_name = 'cuda'"
   ]
  },
  {
   "cell_type": "code",
   "execution_count": 51,
   "metadata": {},
   "outputs": [],
   "source": [
    "import pickle\n",
    "with open('data/idioms_mir_quick_reference.pickle', 'rb') as f:\n",
    "    idioms = pickle.load(f)"
   ]
  },
  {
   "cell_type": "code",
   "execution_count": 52,
   "metadata": {},
   "outputs": [],
   "source": [
    "bc_major = idioms['BachChorales_[0 2 4 5 7 9 11]']\n",
    "bc_minor = idioms['BachChorales_[0 2 3 5 7 8 10]']\n",
    "jazz_maj = idioms['Jazz_[0 2 4 5 7 9 11]']\n",
    "jazz_min = idioms['Jazz_[0 2 3 5 7 9 10]']\n",
    "organum = idioms['organum_[0 2 3 5 7 8 10]']"
   ]
  },
  {
   "cell_type": "code",
   "execution_count": 53,
   "metadata": {},
   "outputs": [],
   "source": [
    "from data_utils import SeparatedMelHarmMarkovDataset\n",
    "import os\n",
    "import numpy as np\n",
    "from harmony_tokenizers_m21 import ChordSymbolTokenizer, RootTypeTokenizer, \\\n",
    "    PitchClassTokenizer, RootPCTokenizer, GCTRootPCTokenizer, \\\n",
    "    GCTSymbolTokenizer, GCTRootTypeTokenizer, MelodyPitchTokenizer, \\\n",
    "    MergedMelHarmTokenizer\n",
    "import torch\n",
    "from torch.optim import AdamW\n",
    "from torch.utils.data import DataLoader\n",
    "from transformers import BartForConditionalGeneration, BartConfig, DataCollatorForSeq2Seq\n",
    "from tqdm import tqdm\n",
    "from models import TransGraphVAE\n",
    "import csv\n",
    "from transformers import LogitsProcessor, StoppingCriteria, StoppingCriteriaList"
   ]
  },
  {
   "cell_type": "code",
   "execution_count": 54,
   "metadata": {},
   "outputs": [],
   "source": [
    "tokenizers = {\n",
    "    'ChordSymbolTokenizer': ChordSymbolTokenizer,\n",
    "    'RootTypeTokenizer': RootTypeTokenizer,\n",
    "    'PitchClassTokenizer': PitchClassTokenizer,\n",
    "    'RootPCTokenizer': RootPCTokenizer,\n",
    "    'GCTRootPCTokenizer': GCTRootPCTokenizer,\n",
    "    'GCTSymbolTokenizer': GCTSymbolTokenizer,\n",
    "    'GCTRootTypeTokenizer': GCTRootTypeTokenizer\n",
    "}"
   ]
  },
  {
   "cell_type": "code",
   "execution_count": 55,
   "metadata": {},
   "outputs": [],
   "source": [
    "melody_tokenizer = MelodyPitchTokenizer.from_pretrained('saved_tokenizers/MelodyPitchTokenizer')\n",
    "harmony_tokenizer = tokenizers[tokenizer_name].from_pretrained('saved_tokenizers/' + tokenizer_name)\n",
    "\n",
    "tokenizer = MergedMelHarmTokenizer(melody_tokenizer, harmony_tokenizer)\n",
    "\n",
    "bart_path = 'saved_models/bart/' + tokenizer_name + '/' + tokenizer_name + '.pt'"
   ]
  },
  {
   "cell_type": "code",
   "execution_count": 56,
   "metadata": {},
   "outputs": [],
   "source": [
    "device = torch.device(\"cuda\" if torch.cuda.is_available() else \"cpu\")"
   ]
  },
  {
   "cell_type": "code",
   "execution_count": 57,
   "metadata": {},
   "outputs": [
    {
     "data": {
      "text/plain": [
       "<All keys matched successfully>"
      ]
     },
     "execution_count": 57,
     "metadata": {},
     "output_type": "execute_result"
    }
   ],
   "source": [
    "bart_config = BartConfig(\n",
    "    vocab_size=len(tokenizer.vocab),\n",
    "    pad_token_id=tokenizer.pad_token_id,\n",
    "    bos_token_id=tokenizer.bos_token_id,\n",
    "    eos_token_id=tokenizer.eos_token_id,\n",
    "    decoder_start_token_id=tokenizer.bos_token_id,\n",
    "    forced_eos_token_id=tokenizer.eos_token_id,\n",
    "    max_position_embeddings=512,\n",
    "    encoder_layers=8,\n",
    "    encoder_attention_heads=8,\n",
    "    encoder_ffn_dim=512,\n",
    "    decoder_layers=8,\n",
    "    decoder_attention_heads=8,\n",
    "    decoder_ffn_dim=512,\n",
    "    d_model=512,\n",
    "    encoder_layerdrop=0.3,\n",
    "    decoder_layerdrop=0.3,\n",
    "    dropout=0.3\n",
    ")\n",
    "\n",
    "bart = BartForConditionalGeneration(bart_config)\n",
    "\n",
    "if torch.cuda.is_available():\n",
    "    checkpoint = torch.load(bart_path, weights_only=True)\n",
    "else:\n",
    "    checkpoint = torch.load(bart_path, map_location=\"cpu\", weights_only=True)\n",
    "bart.load_state_dict(checkpoint)"
   ]
  },
  {
   "cell_type": "code",
   "execution_count": 58,
   "metadata": {},
   "outputs": [],
   "source": [
    "enc1 = bart.model.encoder\n",
    "enc2 = bart.get_encoder()\n",
    "dec1 = bart.model.decoder\n",
    "dec2 = bart.get_decoder()"
   ]
  },
  {
   "cell_type": "code",
   "execution_count": 59,
   "metadata": {},
   "outputs": [
    {
     "data": {
      "text/plain": [
       "True"
      ]
     },
     "execution_count": 59,
     "metadata": {},
     "output_type": "execute_result"
    }
   ],
   "source": [
    "dec1 == dec2"
   ]
  },
  {
   "cell_type": "code",
   "execution_count": 60,
   "metadata": {},
   "outputs": [],
   "source": [
    "test_dir = '/mnt/ssd2/maximos/data/hooktheory_test'\n",
    "test_dataset = SeparatedMelHarmMarkovDataset(test_dir, tokenizer, max_length=512, num_bars=64)\n",
    "\n",
    "# Data collator for BART\n",
    "def create_data_collator(tokenizer, model):\n",
    "    return DataCollatorForSeq2Seq(tokenizer=tokenizer, model=model, padding=True)\n",
    "# end create_data_collator"
   ]
  },
  {
   "cell_type": "code",
   "execution_count": 61,
   "metadata": {},
   "outputs": [],
   "source": [
    "collator = create_data_collator(tokenizer, model=bart)\n",
    "valloader = DataLoader(test_dataset, batch_size=1, shuffle=True, collate_fn=collator)"
   ]
  },
  {
   "cell_type": "code",
   "execution_count": 62,
   "metadata": {},
   "outputs": [
    {
     "data": {
      "text/plain": [
       "TransGraphVAE(\n",
       "  (transformer): BartForConditionalGeneration(\n",
       "    (model): BartModel(\n",
       "      (shared): BartScaledWordEmbedding(545, 512, padding_idx=1)\n",
       "      (encoder): BartEncoder(\n",
       "        (embed_tokens): BartScaledWordEmbedding(545, 512, padding_idx=1)\n",
       "        (embed_positions): BartLearnedPositionalEmbedding(514, 512)\n",
       "        (layers): ModuleList(\n",
       "          (0-7): 8 x BartEncoderLayer(\n",
       "            (self_attn): BartSdpaAttention(\n",
       "              (k_proj): Linear(in_features=512, out_features=512, bias=True)\n",
       "              (v_proj): Linear(in_features=512, out_features=512, bias=True)\n",
       "              (q_proj): Linear(in_features=512, out_features=512, bias=True)\n",
       "              (out_proj): Linear(in_features=512, out_features=512, bias=True)\n",
       "            )\n",
       "            (self_attn_layer_norm): LayerNorm((512,), eps=1e-05, elementwise_affine=True)\n",
       "            (activation_fn): GELUActivation()\n",
       "            (fc1): Linear(in_features=512, out_features=512, bias=True)\n",
       "            (fc2): Linear(in_features=512, out_features=512, bias=True)\n",
       "            (final_layer_norm): LayerNorm((512,), eps=1e-05, elementwise_affine=True)\n",
       "          )\n",
       "        )\n",
       "        (layernorm_embedding): LayerNorm((512,), eps=1e-05, elementwise_affine=True)\n",
       "      )\n",
       "      (decoder): BartDecoder(\n",
       "        (embed_tokens): BartScaledWordEmbedding(545, 512, padding_idx=1)\n",
       "        (embed_positions): BartLearnedPositionalEmbedding(514, 512)\n",
       "        (layers): ModuleList(\n",
       "          (0-7): 8 x BartDecoderLayer(\n",
       "            (self_attn): BartSdpaAttention(\n",
       "              (k_proj): Linear(in_features=512, out_features=512, bias=True)\n",
       "              (v_proj): Linear(in_features=512, out_features=512, bias=True)\n",
       "              (q_proj): Linear(in_features=512, out_features=512, bias=True)\n",
       "              (out_proj): Linear(in_features=512, out_features=512, bias=True)\n",
       "            )\n",
       "            (activation_fn): GELUActivation()\n",
       "            (self_attn_layer_norm): LayerNorm((512,), eps=1e-05, elementwise_affine=True)\n",
       "            (encoder_attn): BartSdpaAttention(\n",
       "              (k_proj): Linear(in_features=512, out_features=512, bias=True)\n",
       "              (v_proj): Linear(in_features=512, out_features=512, bias=True)\n",
       "              (q_proj): Linear(in_features=512, out_features=512, bias=True)\n",
       "              (out_proj): Linear(in_features=512, out_features=512, bias=True)\n",
       "            )\n",
       "            (encoder_attn_layer_norm): LayerNorm((512,), eps=1e-05, elementwise_affine=True)\n",
       "            (fc1): Linear(in_features=512, out_features=512, bias=True)\n",
       "            (fc2): Linear(in_features=512, out_features=512, bias=True)\n",
       "            (final_layer_norm): LayerNorm((512,), eps=1e-05, elementwise_affine=True)\n",
       "          )\n",
       "        )\n",
       "        (layernorm_embedding): LayerNorm((512,), eps=1e-05, elementwise_affine=True)\n",
       "      )\n",
       "    )\n",
       "    (lm_head): Linear(in_features=512, out_features=545, bias=False)\n",
       "  )\n",
       "  (t_encoder): BartEncoder(\n",
       "    (embed_tokens): BartScaledWordEmbedding(545, 512, padding_idx=1)\n",
       "    (embed_positions): BartLearnedPositionalEmbedding(514, 512)\n",
       "    (layers): ModuleList(\n",
       "      (0-7): 8 x BartEncoderLayer(\n",
       "        (self_attn): BartSdpaAttention(\n",
       "          (k_proj): Linear(in_features=512, out_features=512, bias=True)\n",
       "          (v_proj): Linear(in_features=512, out_features=512, bias=True)\n",
       "          (q_proj): Linear(in_features=512, out_features=512, bias=True)\n",
       "          (out_proj): Linear(in_features=512, out_features=512, bias=True)\n",
       "        )\n",
       "        (self_attn_layer_norm): LayerNorm((512,), eps=1e-05, elementwise_affine=True)\n",
       "        (activation_fn): GELUActivation()\n",
       "        (fc1): Linear(in_features=512, out_features=512, bias=True)\n",
       "        (fc2): Linear(in_features=512, out_features=512, bias=True)\n",
       "        (final_layer_norm): LayerNorm((512,), eps=1e-05, elementwise_affine=True)\n",
       "      )\n",
       "    )\n",
       "    (layernorm_embedding): LayerNorm((512,), eps=1e-05, elementwise_affine=True)\n",
       "  )\n",
       "  (t_decoder): BartDecoder(\n",
       "    (embed_tokens): BartScaledWordEmbedding(545, 512, padding_idx=1)\n",
       "    (embed_positions): BartLearnedPositionalEmbedding(514, 512)\n",
       "    (layers): ModuleList(\n",
       "      (0-7): 8 x BartDecoderLayer(\n",
       "        (self_attn): BartSdpaAttention(\n",
       "          (k_proj): Linear(in_features=512, out_features=512, bias=True)\n",
       "          (v_proj): Linear(in_features=512, out_features=512, bias=True)\n",
       "          (q_proj): Linear(in_features=512, out_features=512, bias=True)\n",
       "          (out_proj): Linear(in_features=512, out_features=512, bias=True)\n",
       "        )\n",
       "        (activation_fn): GELUActivation()\n",
       "        (self_attn_layer_norm): LayerNorm((512,), eps=1e-05, elementwise_affine=True)\n",
       "        (encoder_attn): BartSdpaAttention(\n",
       "          (k_proj): Linear(in_features=512, out_features=512, bias=True)\n",
       "          (v_proj): Linear(in_features=512, out_features=512, bias=True)\n",
       "          (q_proj): Linear(in_features=512, out_features=512, bias=True)\n",
       "          (out_proj): Linear(in_features=512, out_features=512, bias=True)\n",
       "        )\n",
       "        (encoder_attn_layer_norm): LayerNorm((512,), eps=1e-05, elementwise_affine=True)\n",
       "        (fc1): Linear(in_features=512, out_features=512, bias=True)\n",
       "        (fc2): Linear(in_features=512, out_features=512, bias=True)\n",
       "        (final_layer_norm): LayerNorm((512,), eps=1e-05, elementwise_affine=True)\n",
       "      )\n",
       "    )\n",
       "    (layernorm_embedding): LayerNorm((512,), eps=1e-05, elementwise_affine=True)\n",
       "  )\n",
       "  (cvae): CVAE(\n",
       "    (lstm_encoder): BiLSTMEncoder(\n",
       "      (lstm): LSTM(512, 1024, batch_first=True, bidirectional=True)\n",
       "      (fc): Linear(in_features=2048, out_features=1024, bias=True)\n",
       "    )\n",
       "    (lstm_decoder): BiLSTMDecoder(\n",
       "      (lstm): LSTM(1024, 1024, batch_first=True)\n",
       "      (fc): Linear(in_features=1024, out_features=512, bias=True)\n",
       "    )\n",
       "    (graph_conditioning): GraphConditioningModule(\n",
       "      (gnn1): GCNConv(1, 1024)\n",
       "      (gnn2): GCNConv(1024, 1024)\n",
       "      (fc): Linear(in_features=1024, out_features=1024, bias=True)\n",
       "    )\n",
       "    (fc_mu): Linear(in_features=2048, out_features=1024, bias=True)\n",
       "    (fc_logvar): Linear(in_features=2048, out_features=1024, bias=True)\n",
       "    (fc_z): Linear(in_features=2048, out_features=1024, bias=True)\n",
       "  )\n",
       ")"
      ]
     },
     "execution_count": 62,
     "metadata": {},
     "output_type": "execute_result"
    }
   ],
   "source": [
    "model_path = 'saved_models/bart_cvae/' + tokenizer_name + '/' + tokenizer_name + '.pt'\n",
    "\n",
    "config = {\n",
    "    'hidden_dim_LSTM': 1024,\n",
    "    'hidden_dim_GNN': 1024,\n",
    "    'latent_dim': 1024,\n",
    "    'condition_dim': 1024,\n",
    "    'use_attention': False\n",
    "}\n",
    "\n",
    "model = TransGraphVAE(transformer=bart, device=device, tokenizer=tokenizer, **config)\n",
    "\n",
    "if torch.cuda.is_available():\n",
    "    checkpoint = torch.load(model_path, weights_only=True)\n",
    "else:\n",
    "    checkpoint = torch.load(model_path, map_location=\"cpu\", weights_only=True)\n",
    "model.load_state_dict(checkpoint)\n",
    "\n",
    "model.to(device)\n",
    "model.eval()"
   ]
  },
  {
   "cell_type": "code",
   "execution_count": 63,
   "metadata": {},
   "outputs": [],
   "source": [
    "batch = next(iter(valloader))"
   ]
  },
  {
   "cell_type": "code",
   "execution_count": 64,
   "metadata": {},
   "outputs": [
    {
     "name": "stdout",
     "output_type": "stream",
     "text": [
      "tensor([[  2,   6, 180,  95,  50,  99,  51, 103,  58, 107,  50, 109,  51, 111,\n",
      "          50, 115,  51, 119,  58, 123,  50, 125,  51,   6,  95,  50,  99,  51,\n",
      "         103,  58, 107,  50, 109,  51, 111,  50, 115,  51, 119,  58, 123,  50,\n",
      "         125,  51,   6,  95,  49,  99,  50, 103,  57, 107,  49, 109,  50, 111,\n",
      "          49, 115,  50, 119,  57, 123,  49, 125,  50,   6,  95,  49,  99,  50,\n",
      "         103,  57, 107,  49, 109,  50, 111,  49, 115,  50, 119,  57, 123,  49,\n",
      "         125,  50]], device='cuda:0')\n",
      "tensor([[[0., 0., 0.,  ..., 0., 0., 0.],\n",
      "         [0., 0., 0.,  ..., 0., 0., 0.],\n",
      "         [0., 0., 0.,  ..., 0., 0., 0.],\n",
      "         ...,\n",
      "         [0., 0., 0.,  ..., 0., 0., 0.],\n",
      "         [0., 0., 0.,  ..., 0., 0., 0.],\n",
      "         [0., 0., 0.,  ..., 0., 0., 0.]]], device='cuda:0',\n",
      "       dtype=torch.float64)\n",
      "torch.Size([1, 1])\n",
      "recon generation\n",
      "bars_left: tensor([[4]], device='cuda:0')\n",
      "bars_left: tensor([[4]], device='cuda:0')\n",
      "bars_left: tensor([[3]], device='cuda:0')\n",
      "bars_left: tensor([[3]], device='cuda:0')\n",
      "bars_left: tensor([[3]], device='cuda:0')\n",
      "bars_left: tensor([[3]], device='cuda:0')\n",
      "bars_left: tensor([[3]], device='cuda:0')\n",
      "bars_left: tensor([[2]], device='cuda:0')\n",
      "bars_left: tensor([[2]], device='cuda:0')\n",
      "bars_left: tensor([[2]], device='cuda:0')\n",
      "bars_left: tensor([[2]], device='cuda:0')\n",
      "bars_left: tensor([[2]], device='cuda:0')\n",
      "bars_left: tensor([[1]], device='cuda:0')\n",
      "bars_left: tensor([[1]], device='cuda:0')\n",
      "bars_left: tensor([[1]], device='cuda:0')\n",
      "bars_left: tensor([[1]], device='cuda:0')\n",
      "bars_left: tensor([[1]], device='cuda:0')\n",
      "bars_left: tensor([[0]], device='cuda:0')\n",
      "bars_left: tensor([[0]], device='cuda:0')\n",
      "bars_left: tensor([[0]], device='cuda:0')\n",
      "bars_left: tensor([[0]], device='cuda:0')\n",
      "bars_left: tensor([[0]], device='cuda:0')\n",
      "normal generation\n",
      "bars_left: tensor([[4]], device='cuda:0')\n",
      "bars_left: tensor([[4]], device='cuda:0')\n",
      "bars_left: tensor([[3]], device='cuda:0')\n",
      "bars_left: tensor([[3]], device='cuda:0')\n",
      "bars_left: tensor([[3]], device='cuda:0')\n",
      "bars_left: tensor([[3]], device='cuda:0')\n",
      "bars_left: tensor([[3]], device='cuda:0')\n",
      "bars_left: tensor([[3]], device='cuda:0')\n",
      "bars_left: tensor([[3]], device='cuda:0')\n",
      "bars_left: tensor([[3]], device='cuda:0')\n",
      "bars_left: tensor([[3]], device='cuda:0')\n",
      "bars_left: tensor([[2]], device='cuda:0')\n",
      "bars_left: tensor([[2]], device='cuda:0')\n",
      "bars_left: tensor([[2]], device='cuda:0')\n",
      "bars_left: tensor([[2]], device='cuda:0')\n",
      "bars_left: tensor([[2]], device='cuda:0')\n",
      "bars_left: tensor([[2]], device='cuda:0')\n",
      "bars_left: tensor([[2]], device='cuda:0')\n",
      "bars_left: tensor([[2]], device='cuda:0')\n",
      "bars_left: tensor([[2]], device='cuda:0')\n",
      "bars_left: tensor([[1]], device='cuda:0')\n",
      "bars_left: tensor([[1]], device='cuda:0')\n",
      "bars_left: tensor([[1]], device='cuda:0')\n",
      "bars_left: tensor([[1]], device='cuda:0')\n",
      "bars_left: tensor([[1]], device='cuda:0')\n",
      "bars_left: tensor([[1]], device='cuda:0')\n",
      "bars_left: tensor([[1]], device='cuda:0')\n",
      "bars_left: tensor([[1]], device='cuda:0')\n",
      "bars_left: tensor([[1]], device='cuda:0')\n",
      "bars_left: tensor([[0]], device='cuda:0')\n",
      "bars_left: tensor([[0]], device='cuda:0')\n",
      "bars_left: tensor([[0]], device='cuda:0')\n",
      "bars_left: tensor([[0]], device='cuda:0')\n",
      "bars_left: tensor([[0]], device='cuda:0')\n",
      "bars_left: tensor([[0]], device='cuda:0')\n",
      "bars_left: tensor([[0]], device='cuda:0')\n",
      "bars_left: tensor([[0]], device='cuda:0')\n",
      "bars_left: tensor([[0]], device='cuda:0')\n",
      "bars_left: tensor([[0]], device='cuda:0')\n",
      "bars_left: tensor([[0]], device='cuda:0')\n",
      "bars_left: tensor([[0]], device='cuda:0')\n",
      "bars_left: tensor([[0]], device='cuda:0')\n",
      "bars_left: tensor([[0]], device='cuda:0')\n",
      "bars_left: tensor([[0]], device='cuda:0')\n",
      "bars_left: tensor([[0]], device='cuda:0')\n",
      "bars_left: tensor([[0]], device='cuda:0')\n",
      "bars_left: tensor([[0]], device='cuda:0')\n",
      "bars_left: tensor([[0]], device='cuda:0')\n",
      "bars_left: tensor([[0]], device='cuda:0')\n"
     ]
    }
   ],
   "source": [
    "with torch.no_grad():\n",
    "    input_ids = batch['input_ids'].to(device)\n",
    "    # transitions = batch['transitions'].to(device)\n",
    "    # transitions = torch.tensor(bc_major).reshape(1,bc_major.shape[0], bc_major.shape[1]).to(device)\n",
    "    # transitions = torch.tensor(bc_minor).reshape(1,bc_minor.shape[0], bc_minor.shape[1]).to(device)\n",
    "    # transitions = torch.tensor(organum).reshape(1,organum.shape[0], organum.shape[1]).to(device)\n",
    "    # transitions = torch.tensor(jazz_maj).reshape(1,jazz_maj.shape[0], jazz_maj.shape[1]).to(device)\n",
    "    transitions = torch.tensor(jazz_min).reshape(1,jazz_min.shape[0], jazz_min.shape[1]).to(device)\n",
    "    # attention_mask = batch['attention_mask'].to(device)\n",
    "    attention_mask = None\n",
    "    output_tokens = []\n",
    "    output_recon_tokens = []\n",
    "    num_bars = (input_ids == tokenizer.vocab['<bar>']).sum(dim=1).reshape(input_ids.shape[0],-1)\n",
    "    print(input_ids)\n",
    "    print(transitions)\n",
    "    print(num_bars.shape)\n",
    "    outputs = model(input_ids, transitions, encoder_attention=attention_mask, generate_max_tokens=500, num_bars=num_bars, temperature=1.0)\n",
    "    for i in outputs['generated_ids'][0]:\n",
    "        output_tokens.append( tokenizer.ids_to_tokens[ int(i) ].replace(' ','x') )\n",
    "    for i in outputs['generated_recon_ids'][0]:\n",
    "        output_recon_tokens.append( tokenizer.ids_to_tokens[ int(i) ].replace(' ','x') )"
   ]
  },
  {
   "cell_type": "code",
   "execution_count": 65,
   "metadata": {},
   "outputs": [
    {
     "name": "stdout",
     "output_type": "stream",
     "text": [
      "['<s>', '<h>', '<bar>', 'position_0x00', 'A:min7', 'position_1x50', 'G:maj', '<bar>', 'position_0x00', 'F:maj7', 'position_1x50', 'C:maj', '<bar>', 'position_0x00', 'A:min7', 'position_1x50', 'G:maj', '<bar>', 'position_0x00', 'F:maj7', 'position_1x50', 'C:maj', '</s>']\n"
     ]
    }
   ],
   "source": [
    "print(output_tokens)"
   ]
  },
  {
   "cell_type": "code",
   "execution_count": 66,
   "metadata": {},
   "outputs": [
    {
     "name": "stdout",
     "output_type": "stream",
     "text": [
      "['<s>', '<h>', '<bar>', 'position_0x00', 'A:min', 'position_1x00', 'A:min', 'position_2x00', 'A:min', 'position_3x00', 'A:min', '<bar>', 'position_0x00', 'A:min', 'position_1x00', 'A:min', 'position_2x00', 'A:min', 'position_3x00', 'A:min', '<bar>', 'position_0x00', 'G#:min', 'position_1x00', 'G#:min', 'position_2x00', 'G#:min', 'position_3x00', 'G#:min', '<bar>', 'A:dim', 'position_1x00', 'G#:min', 'position_2x00', 'G#:min', 'position_3x00', 'G#:min', 'position_1x00', 'G#:min', 'position_2x00', 'G#:min', 'position_3x00', 'G#:min', 'position_1x00', 'G#:min', 'position_2x00', 'G#:min', 'position_3x00', 'G#:min', '</s>']\n"
     ]
    }
   ],
   "source": [
    "print(output_recon_tokens)"
   ]
  },
  {
   "cell_type": "code",
   "execution_count": 67,
   "metadata": {},
   "outputs": [
    {
     "name": "stdout",
     "output_type": "stream",
     "text": [
      "tensor([[  2,   6, 180,  95,  50,  99,  51, 103,  58, 107,  50, 109,  51, 111,\n",
      "          50, 115,  51, 119,  58, 123,  50, 125,  51,   6,  95,  50,  99,  51,\n",
      "         103,  58, 107,  50, 109,  51, 111,  50, 115,  51, 119,  58, 123,  50,\n",
      "         125,  51,   6,  95,  49,  99,  50, 103,  57, 107,  49, 109,  50, 111,\n",
      "          49, 115,  50, 119,  57, 123,  49, 125,  50,   6,  95,  49,  99,  50,\n",
      "         103,  57, 107,  49, 109,  50, 111,  49, 115,  50, 119,  57, 123,  49,\n",
      "         125,  50]], device='cuda:0')\n",
      "['<s>', '<bar>', 'ts_4x4', 'position_0x00', 'P:64', 'position_0x50', 'P:65', 'position_1x00', 'P:72', 'position_1x50', 'P:64', 'position_1x75', 'P:65', 'position_2x00', 'P:64', 'position_2x50', 'P:65', 'position_3x00', 'P:72', 'position_3x50', 'P:64', 'position_3x75', 'P:65', '<bar>', 'position_0x00', 'P:64', 'position_0x50', 'P:65', 'position_1x00', 'P:72', 'position_1x50', 'P:64', 'position_1x75', 'P:65', 'position_2x00', 'P:64', 'position_2x50', 'P:65', 'position_3x00', 'P:72', 'position_3x50', 'P:64', 'position_3x75', 'P:65', '<bar>', 'position_0x00', 'P:63', 'position_0x50', 'P:64', 'position_1x00', 'P:71', 'position_1x50', 'P:63', 'position_1x75', 'P:64', 'position_2x00', 'P:63', 'position_2x50', 'P:64', 'position_3x00', 'P:71', 'position_3x50', 'P:63', 'position_3x75', 'P:64', '<bar>', 'position_0x00', 'P:63', 'position_0x50', 'P:64', 'position_1x00', 'P:71', 'position_1x50', 'P:63', 'position_1x75', 'P:64', 'position_2x00', 'P:63', 'position_2x50', 'P:64', 'position_3x00', 'P:71', 'position_3x50', 'P:63', 'position_3x75', 'P:64']\n"
     ]
    }
   ],
   "source": [
    "input_ids = batch['input_ids'].to(device)\n",
    "print(input_ids)\n",
    "input_tokens = []\n",
    "for i in input_ids[0]:\n",
    "    input_tokens.append( tokenizer.ids_to_tokens[ int(i) ].replace(' ','x') )\n",
    "print(input_tokens)"
   ]
  },
  {
   "cell_type": "code",
   "execution_count": 68,
   "metadata": {},
   "outputs": [],
   "source": [
    "class ExactTokenCountLogitsProcessor(LogitsProcessor):\n",
    "    def __init__(self, token_id, max_count):\n",
    "        self.token_id = token_id\n",
    "        self.max_count = max_count\n",
    "\n",
    "    def __call__(self, input_ids, scores):\n",
    "        token_count = (input_ids == self.token_id).sum().item()\n",
    "        if token_count >= self.max_count:\n",
    "            scores[:, self.token_id] = -float(\"inf\")  # Mask the token\n",
    "        return scores\n",
    "\n",
    "class ExactTokenCountStoppingCriteria(StoppingCriteria):\n",
    "    def __init__(self, token_id, max_count):\n",
    "        self.token_id = token_id\n",
    "        self.max_count = max_count\n",
    "\n",
    "    def __call__(self, input_ids, scores, **kwargs):\n",
    "        token_count = (input_ids == self.token_id).sum().item()\n",
    "        return token_count >= self.max_count  # Stop when the count is reached\n"
   ]
  },
  {
   "cell_type": "code",
   "execution_count": 69,
   "metadata": {},
   "outputs": [],
   "source": [
    "# Define the token ID and the exact count you want\n",
    "token_id = 200\n",
    "exact_count = 10\n",
    "\n",
    "bart_outputs = bart.generate(\n",
    "    input_ids=input_ids,\n",
    "    # attention_mask=batch['attention_mask'][bi],\n",
    "    bos_token_id=tokenizer.vocab[tokenizer.harmony_tokenizer.start_harmony_token],\n",
    "    eos_token_id=tokenizer.eos_token_id,\n",
    "    max_new_tokens=500,\n",
    "    do_sample=True,\n",
    "    temperature=1.0,\n",
    "    # logits_processor=[ExactTokenCountLogitsProcessor(token_id, exact_count)],\n",
    "    # stopping_criteria=StoppingCriteriaList([ExactTokenCountStoppingCriteria(token_id, exact_count)])\n",
    ")"
   ]
  },
  {
   "cell_type": "code",
   "execution_count": 70,
   "metadata": {},
   "outputs": [
    {
     "name": "stdout",
     "output_type": "stream",
     "text": [
      "tensor([[  2, 196,   6,  95, 459, 103, 459, 109, 459, 111, 459, 115, 459, 119,\n",
      "         459,   6, 103, 459, 109, 459, 111, 459, 115, 459, 119, 459, 125, 459,\n",
      "           6,  95, 430, 103, 430, 109, 313, 109, 319, 111, 313, 115, 430, 119,\n",
      "         313, 125, 430,   6, 103, 430, 109, 430, 111, 256, 113, 342,   3]],\n",
      "       device='cuda:0')\n",
      "['<s>', '<h>', '<bar>', 'position_0x00', 'A:min', 'position_1x00', 'A:min', 'position_1x75', 'A:min', 'position_2x00', 'A:min', 'position_2x50', 'A:min', 'position_3x00', 'A:min', '<bar>', 'position_1x00', 'A:min', 'position_1x75', 'A:min', 'position_2x00', 'A:min', 'position_2x50', 'A:min', 'position_3x00', 'A:min', 'position_3x75', 'A:min', '<bar>', 'position_0x00', 'G#:min', 'position_1x00', 'G#:min', 'position_1x75', 'E:maj', 'position_1x75', 'E:7', 'position_2x00', 'E:maj', 'position_2x50', 'G#:min', 'position_3x00', 'E:maj', 'position_3x75', 'G#:min', '<bar>', 'position_1x00', 'G#:min', 'position_1x75', 'G#:min', 'position_2x00', 'D:min', 'position_2x25', 'F:maj', '</s>']\n"
     ]
    }
   ],
   "source": [
    "print(bart_outputs)\n",
    "bart_only_outputs = []\n",
    "for i in bart_outputs[0]:\n",
    "    bart_only_outputs.append( tokenizer.ids_to_tokens[ int(i) ].replace(' ','x') )\n",
    "print(bart_only_outputs)"
   ]
  },
  {
   "cell_type": "code",
   "execution_count": 71,
   "metadata": {},
   "outputs": [
    {
     "name": "stdout",
     "output_type": "stream",
     "text": [
      "['<s>', '<h>', '<bar>', 'position_0x00', 'A:min', 'position_1x00', 'A:min', 'position_1x75', 'A:min', 'position_2x00', 'A:min', 'position_2x50', 'A:min', 'position_3x00', 'A:min', '<bar>', 'position_1x00', 'A:min', 'position_1x75', 'A:min', 'position_2x00', 'A:min', 'position_2x50', 'A:min', 'position_3x00', 'A:min', 'position_3x75', 'A:min', '<bar>', 'position_0x00', 'G#:min', 'position_1x00', 'G#:min', 'position_1x75', 'E:maj', 'position_1x75', 'E:7', 'position_2x00', 'E:maj', 'position_2x50', 'G#:min', 'position_3x00', 'E:maj', 'position_3x75', 'G#:min', '<bar>', 'position_1x00', 'G#:min', 'position_1x75', 'G#:min', 'position_2x00', 'D:min', 'position_2x25', 'F:maj', '</s>']\n",
      "['<s>', '<h>', '<bar>', 'position_0x00', 'A:min7', 'position_1x50', 'G:maj', '<bar>', 'position_0x00', 'F:maj7', 'position_1x50', 'C:maj', '<bar>', 'position_0x00', 'A:min7', 'position_1x50', 'G:maj', '<bar>', 'position_0x00', 'F:maj7', 'position_1x50', 'C:maj', '</s>']\n",
      "['<s>', '<h>', '<bar>', 'position_0x00', 'A:min', 'position_1x00', 'A:min', 'position_2x00', 'A:min', 'position_3x00', 'A:min', '<bar>', 'position_0x00', 'A:min', 'position_1x00', 'A:min', 'position_2x00', 'A:min', 'position_3x00', 'A:min', '<bar>', 'position_0x00', 'G#:min', 'position_1x00', 'G#:min', 'position_2x00', 'G#:min', 'position_3x00', 'G#:min', '<bar>', 'A:dim', 'position_1x00', 'G#:min', 'position_2x00', 'G#:min', 'position_3x00', 'G#:min', 'position_1x00', 'G#:min', 'position_2x00', 'G#:min', 'position_3x00', 'G#:min', 'position_1x00', 'G#:min', 'position_2x00', 'G#:min', 'position_3x00', 'G#:min', '</s>']\n"
     ]
    }
   ],
   "source": [
    "print(bart_only_outputs)\n",
    "print(output_tokens)\n",
    "print(output_recon_tokens)"
   ]
  },
  {
   "cell_type": "code",
   "execution_count": 72,
   "metadata": {},
   "outputs": [
    {
     "name": "stdout",
     "output_type": "stream",
     "text": [
      "Saved as examples/bart.mxl\n",
      "Saved as examples/encdec.mxl\n",
      "Saved as examples/recon.mxl\n"
     ]
    }
   ],
   "source": [
    "tokenizer.decode( input_tokens + bart_only_outputs[1:], output_format='file', output_path='examples/bart.mxl' )\n",
    "tokenizer.decode( input_tokens + output_tokens[1:], output_format='file', output_path='examples/encdec.mxl' )\n",
    "tokenizer.decode( input_tokens + output_recon_tokens[1:], output_format='file', output_path='examples/recon.mxl' )"
   ]
  },
  {
   "cell_type": "code",
   "execution_count": 73,
   "metadata": {},
   "outputs": [
    {
     "name": "stdout",
     "output_type": "stream",
     "text": [
      "tensor(15.6729, dtype=torch.float64)\n",
      "tensor(11.3859, dtype=torch.float64)\n"
     ]
    }
   ],
   "source": [
    "print( (outputs['generated_markov']-transitions.to('cpu')).pow(2).sum().sqrt() )\n",
    "print( (outputs['recon_markov']-transitions.to('cpu')).pow(2).sum().sqrt() )"
   ]
  }
 ],
 "metadata": {
  "kernelspec": {
   "display_name": "torch",
   "language": "python",
   "name": "python3"
  },
  "language_info": {
   "codemirror_mode": {
    "name": "ipython",
    "version": 3
   },
   "file_extension": ".py",
   "mimetype": "text/x-python",
   "name": "python",
   "nbconvert_exporter": "python",
   "pygments_lexer": "ipython3",
   "version": "3.11.5"
  }
 },
 "nbformat": 4,
 "nbformat_minor": 2
}
