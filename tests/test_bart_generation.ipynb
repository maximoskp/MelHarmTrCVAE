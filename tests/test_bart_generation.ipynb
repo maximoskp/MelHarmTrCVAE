{
 "cells": [
  {
   "cell_type": "code",
   "execution_count": 1,
   "metadata": {},
   "outputs": [],
   "source": [
    "# USER OPTIONS\n",
    "# define tokenizer name - should be one among the keys in the cell below\n",
    "tokenizer_name = 'ChordSymbolTokenizer' # or any other name from the keys in tokenizers dictionary\n",
    "# tokenizer_name = 'RootTypeTokenizer'\n",
    "# tokenizer_name = 'PitchClassTokenizer'\n",
    "# folder to xmls\n",
    "val_dir = '/media/maindisk/maximos/data/hooktheory_test'\n",
    "# val_dir = '/media/maindisk/maximos/data/gjt_melodies/Library_melodies'\n",
    "# val_dir = '/media/datadisk/datasets/gjt_melodies/Library_melodies'\n",
    "# val_dir = '/media/maximos/9C33-6BBD/data/gjt_melodies/Library_melodies'\n",
    "\n",
    "# define batch size depending on GPU availability / status\n",
    "batchsize = 16\n",
    "# select device name - could be 'cpu', 'cuda', 'coda:0', 'cuda:1'...\n",
    "device_name = 'cuda'"
   ]
  },
  {
   "cell_type": "code",
   "execution_count": 2,
   "metadata": {},
   "outputs": [
    {
     "name": "stderr",
     "output_type": "stream",
     "text": [
      "/home/maximos/.local/lib/python3.11/site-packages/tqdm/auto.py:21: TqdmWarning: IProgress not found. Please update jupyter and ipywidgets. See https://ipywidgets.readthedocs.io/en/stable/user_install.html\n",
      "  from .autonotebook import tqdm as notebook_tqdm\n"
     ]
    }
   ],
   "source": [
    "from data_utils import SeparatedMelHarmMarkovDataset\n",
    "import os\n",
    "import numpy as np\n",
    "from harmony_tokenizers_m21 import ChordSymbolTokenizer, RootTypeTokenizer, \\\n",
    "    PitchClassTokenizer, RootPCTokenizer, GCTRootPCTokenizer, \\\n",
    "    GCTSymbolTokenizer, GCTRootTypeTokenizer, MelodyPitchTokenizer, \\\n",
    "    MergedMelHarmTokenizer\n",
    "import torch\n",
    "from torch.optim import AdamW\n",
    "from torch.utils.data import DataLoader\n",
    "import torch.nn.functional as F\n",
    "from transformers import BartForConditionalGeneration, BartConfig, DataCollatorForSeq2Seq\n",
    "from tqdm import tqdm\n",
    "from models import TransGraphVAE\n",
    "import csv"
   ]
  },
  {
   "cell_type": "code",
   "execution_count": 3,
   "metadata": {},
   "outputs": [],
   "source": [
    "tokenizers = {\n",
    "    'ChordSymbolTokenizer': ChordSymbolTokenizer,\n",
    "    'RootTypeTokenizer': RootTypeTokenizer,\n",
    "    'PitchClassTokenizer': PitchClassTokenizer,\n",
    "    'RootPCTokenizer': RootPCTokenizer,\n",
    "    'GCTRootPCTokenizer': GCTRootPCTokenizer,\n",
    "    'GCTSymbolTokenizer': GCTSymbolTokenizer,\n",
    "    'GCTRootTypeTokenizer': GCTRootTypeTokenizer\n",
    "}"
   ]
  },
  {
   "cell_type": "code",
   "execution_count": 4,
   "metadata": {},
   "outputs": [],
   "source": [
    "melody_tokenizer = MelodyPitchTokenizer.from_pretrained('saved_tokenizers/MelodyPitchTokenizer')\n",
    "harmony_tokenizer = tokenizers[tokenizer_name].from_pretrained('saved_tokenizers/' + tokenizer_name)\n",
    "\n",
    "tokenizer = MergedMelHarmTokenizer(melody_tokenizer, harmony_tokenizer)\n",
    "\n",
    "bart_path = 'saved_models/bart/' + tokenizer_name + '/' + tokenizer_name + '.pt'"
   ]
  },
  {
   "cell_type": "code",
   "execution_count": 5,
   "metadata": {},
   "outputs": [],
   "source": [
    "device = torch.device(\"cuda\" if torch.cuda.is_available() else \"cpu\")"
   ]
  },
  {
   "cell_type": "code",
   "execution_count": 6,
   "metadata": {},
   "outputs": [
    {
     "name": "stderr",
     "output_type": "stream",
     "text": [
      "/home/maximos/.local/lib/python3.11/site-packages/torch/_utils.py:831: UserWarning: TypedStorage is deprecated. It will be removed in the future and UntypedStorage will be the only storage class. This should only matter to you if you are using storages directly.  To access UntypedStorage directly, use tensor.untyped_storage() instead of tensor.storage()\n",
      "  return self.fget.__get__(instance, owner)()\n"
     ]
    },
    {
     "data": {
      "text/plain": [
       "BartForConditionalGeneration(\n",
       "  (model): BartModel(\n",
       "    (shared): BartScaledWordEmbedding(545, 512, padding_idx=1)\n",
       "    (encoder): BartEncoder(\n",
       "      (embed_tokens): BartScaledWordEmbedding(545, 512, padding_idx=1)\n",
       "      (embed_positions): BartLearnedPositionalEmbedding(514, 512)\n",
       "      (layers): ModuleList(\n",
       "        (0-7): 8 x BartEncoderLayer(\n",
       "          (self_attn): BartSdpaAttention(\n",
       "            (k_proj): Linear(in_features=512, out_features=512, bias=True)\n",
       "            (v_proj): Linear(in_features=512, out_features=512, bias=True)\n",
       "            (q_proj): Linear(in_features=512, out_features=512, bias=True)\n",
       "            (out_proj): Linear(in_features=512, out_features=512, bias=True)\n",
       "          )\n",
       "          (self_attn_layer_norm): LayerNorm((512,), eps=1e-05, elementwise_affine=True)\n",
       "          (activation_fn): GELUActivation()\n",
       "          (fc1): Linear(in_features=512, out_features=512, bias=True)\n",
       "          (fc2): Linear(in_features=512, out_features=512, bias=True)\n",
       "          (final_layer_norm): LayerNorm((512,), eps=1e-05, elementwise_affine=True)\n",
       "        )\n",
       "      )\n",
       "      (layernorm_embedding): LayerNorm((512,), eps=1e-05, elementwise_affine=True)\n",
       "    )\n",
       "    (decoder): BartDecoder(\n",
       "      (embed_tokens): BartScaledWordEmbedding(545, 512, padding_idx=1)\n",
       "      (embed_positions): BartLearnedPositionalEmbedding(514, 512)\n",
       "      (layers): ModuleList(\n",
       "        (0-7): 8 x BartDecoderLayer(\n",
       "          (self_attn): BartSdpaAttention(\n",
       "            (k_proj): Linear(in_features=512, out_features=512, bias=True)\n",
       "            (v_proj): Linear(in_features=512, out_features=512, bias=True)\n",
       "            (q_proj): Linear(in_features=512, out_features=512, bias=True)\n",
       "            (out_proj): Linear(in_features=512, out_features=512, bias=True)\n",
       "          )\n",
       "          (activation_fn): GELUActivation()\n",
       "          (self_attn_layer_norm): LayerNorm((512,), eps=1e-05, elementwise_affine=True)\n",
       "          (encoder_attn): BartSdpaAttention(\n",
       "            (k_proj): Linear(in_features=512, out_features=512, bias=True)\n",
       "            (v_proj): Linear(in_features=512, out_features=512, bias=True)\n",
       "            (q_proj): Linear(in_features=512, out_features=512, bias=True)\n",
       "            (out_proj): Linear(in_features=512, out_features=512, bias=True)\n",
       "          )\n",
       "          (encoder_attn_layer_norm): LayerNorm((512,), eps=1e-05, elementwise_affine=True)\n",
       "          (fc1): Linear(in_features=512, out_features=512, bias=True)\n",
       "          (fc2): Linear(in_features=512, out_features=512, bias=True)\n",
       "          (final_layer_norm): LayerNorm((512,), eps=1e-05, elementwise_affine=True)\n",
       "        )\n",
       "      )\n",
       "      (layernorm_embedding): LayerNorm((512,), eps=1e-05, elementwise_affine=True)\n",
       "    )\n",
       "  )\n",
       "  (lm_head): Linear(in_features=512, out_features=545, bias=False)\n",
       ")"
      ]
     },
     "execution_count": 6,
     "metadata": {},
     "output_type": "execute_result"
    }
   ],
   "source": [
    "bart_config = BartConfig(\n",
    "    vocab_size=len(tokenizer.vocab),\n",
    "    pad_token_id=tokenizer.pad_token_id,\n",
    "    bos_token_id=tokenizer.bos_token_id,\n",
    "    eos_token_id=tokenizer.eos_token_id,\n",
    "    decoder_start_token_id=tokenizer.bos_token_id,\n",
    "    forced_eos_token_id=tokenizer.eos_token_id,\n",
    "    max_position_embeddings=512,\n",
    "    encoder_layers=8,\n",
    "    encoder_attention_heads=8,\n",
    "    encoder_ffn_dim=512,\n",
    "    decoder_layers=8,\n",
    "    decoder_attention_heads=8,\n",
    "    decoder_ffn_dim=512,\n",
    "    d_model=512,\n",
    "    encoder_layerdrop=0.3,\n",
    "    decoder_layerdrop=0.3,\n",
    "    dropout=0.3\n",
    ")\n",
    "\n",
    "bart = BartForConditionalGeneration(bart_config)\n",
    "\n",
    "if torch.cuda.is_available():\n",
    "    checkpoint = torch.load(bart_path, weights_only=True)\n",
    "else:\n",
    "    checkpoint = torch.load(bart_path, map_location=\"cpu\", weights_only=True)\n",
    "bart.load_state_dict(checkpoint)\n",
    "\n",
    "bart.eval()\n",
    "bart.to(device)"
   ]
  },
  {
   "cell_type": "code",
   "execution_count": 7,
   "metadata": {},
   "outputs": [],
   "source": [
    "# enc1 = bart.model.encoder\n",
    "# enc2 = bart.get_encoder()\n",
    "# dec1 = bart.model.decoder\n",
    "# dec2 = bart.get_decoder()"
   ]
  },
  {
   "cell_type": "code",
   "execution_count": 8,
   "metadata": {},
   "outputs": [],
   "source": [
    "test_dir = '/mnt/ssd2/maximos/data/hooktheory_test'\n",
    "test_dataset = SeparatedMelHarmMarkovDataset(test_dir, tokenizer, max_length=512, num_bars=64)\n",
    "\n",
    "# Data collator for BART\n",
    "def create_data_collator(tokenizer, model):\n",
    "    return DataCollatorForSeq2Seq(tokenizer=tokenizer, model=model, padding=True)\n",
    "# end create_data_collator"
   ]
  },
  {
   "cell_type": "code",
   "execution_count": 9,
   "metadata": {},
   "outputs": [],
   "source": [
    "collator = create_data_collator(tokenizer, model=bart)\n",
    "valloader = DataLoader(test_dataset, batch_size=1, shuffle=True, collate_fn=collator)"
   ]
  },
  {
   "cell_type": "code",
   "execution_count": 10,
   "metadata": {},
   "outputs": [],
   "source": [
    "def sample_with_temperature(logits, temperature=1.0):\n",
    "    # Scale logits by temperature\n",
    "    logits = logits / temperature\n",
    "    # Apply softmax to get probabilities\n",
    "    probs = F.softmax(logits, dim=-1)\n",
    "\n",
    "    # Flatten the logits if necessary\n",
    "    batch_size, seq_len, vocab_size = probs.shape\n",
    "    probs = probs.view(-1, vocab_size)  # Merge batch_size and seq_len dimensions\n",
    "    \n",
    "    # Sample from the probability distribution\n",
    "    sampled_tokens = torch.multinomial(probs, num_samples=1)\n",
    "    \n",
    "    # Reshape back to [batch_size, seq_len, 1]\n",
    "    sampled_tokens = sampled_tokens.view(batch_size, seq_len, 1)\n",
    "\n",
    "    # # Sample from the probability distribution\n",
    "    # sampled_token = torch.multinomial(probs, num_samples=1)\n",
    "    return sampled_tokens"
   ]
  },
  {
   "cell_type": "code",
   "execution_count": 11,
   "metadata": {},
   "outputs": [
    {
     "name": "stderr",
     "output_type": "stream",
     "text": [
      "/home/maximos/.local/lib/python3.11/site-packages/music21/stream/base.py:3694: Music21DeprecationWarning: .flat is deprecated.  Call .flatten() instead\n",
      "  return self.iter().getElementsByClass(classFilterList)\n",
      "/home/maximos/.local/lib/python3.11/site-packages/transformers/data/data_collator.py:656: UserWarning: Creating a tensor from a list of numpy.ndarrays is extremely slow. Please consider converting the list to a single numpy.ndarray with numpy.array() before converting to a tensor. (Triggered internally at ../torch/csrc/utils/tensor_new.cpp:261.)\n",
      "  batch[\"labels\"] = torch.tensor(batch[\"labels\"], dtype=torch.int64)\n"
     ]
    }
   ],
   "source": [
    "b = next(iter(valloader))"
   ]
  },
  {
   "cell_type": "code",
   "execution_count": 12,
   "metadata": {},
   "outputs": [
    {
     "name": "stdout",
     "output_type": "stream",
     "text": [
      "tensor([[  2,   6, 180,  95,  50,  99,  57, 103,  62, 109,  57, 111,  50, 115,\n",
      "          58, 119,  62, 125,  58,   6,  95,  48,  99,  55, 103,  62, 109,  55,\n",
      "         111,  50, 115,  57, 119,  62, 125,  57,   6,  95,  50,  99,  58, 103,\n",
      "          62, 109,  58, 111,  50, 115,  57, 119,  62, 125,  57,   6,  95,  48,\n",
      "          99,  55, 103,  62, 109,  55, 111,  50, 115,  55, 119,  62, 125,  55,\n",
      "           6,  95,  50,  99,  57, 103,  62, 109,  57, 111,  50, 115,  58, 119,\n",
      "          62, 125,  58,   6,  95,  48,  99,  55, 103,  62, 109,  55, 111,  50,\n",
      "         115,  57, 119,  62, 125,  57,   6,  95,  50,  99,  58, 103,  62, 109,\n",
      "          57, 111,  50, 115,  57, 119,  62, 125,  57,   6,  95,  48,  99,  55,\n",
      "         103,  62, 109,  55, 111,  50]], device='cuda:0')\n"
     ]
    }
   ],
   "source": [
    "input_ids = b['input_ids'].to(device)\n",
    "print(input_ids)"
   ]
  },
  {
   "cell_type": "code",
   "execution_count": 13,
   "metadata": {},
   "outputs": [],
   "source": [
    "outs = bart(input_ids)"
   ]
  },
  {
   "cell_type": "code",
   "execution_count": 14,
   "metadata": {},
   "outputs": [
    {
     "name": "stdout",
     "output_type": "stream",
     "text": [
      "torch.Size([1, 132, 545])\n"
     ]
    }
   ],
   "source": [
    "print(outs.logits.shape)"
   ]
  },
  {
   "cell_type": "code",
   "execution_count": 15,
   "metadata": {},
   "outputs": [
    {
     "name": "stdout",
     "output_type": "stream",
     "text": [
      "<class 'transformers.models.bart.modeling_bart.BartForConditionalGeneration'>\n",
      "{'input_ids': None, 'encoder_outputs': None, 'past_key_values': None, 'decoder_input_ids': tensor([[  2,   6, 180,  95,  50,  99,  57, 103,  62, 109,  57, 111,  50, 115,\n",
      "          58, 119,  62, 125,  58,   6,  95,  48,  99,  55, 103,  62, 109,  55,\n",
      "         111,  50, 115,  57, 119,  62, 125,  57,   6,  95,  50,  99,  58, 103,\n",
      "          62, 109,  58, 111,  50, 115,  57, 119,  62, 125,  57,   6,  95,  48,\n",
      "          99,  55, 103,  62, 109,  55, 111,  50, 115,  55, 119,  62, 125,  55,\n",
      "           6,  95,  50,  99,  57, 103,  62, 109,  57, 111,  50, 115,  58, 119,\n",
      "          62, 125,  58,   6,  95,  48,  99,  55, 103,  62, 109,  55, 111,  50,\n",
      "         115,  57, 119,  62, 125,  57,   6,  95,  50,  99,  58, 103,  62, 109,\n",
      "          57, 111,  50, 115,  57, 119,  62, 125,  57,   6,  95,  48,  99,  55,\n",
      "         103,  62, 109,  55, 111,  50]], device='cuda:0'), 'attention_mask': None, 'decoder_attention_mask': None, 'head_mask': None, 'decoder_head_mask': None, 'cross_attn_head_mask': None, 'use_cache': None}\n"
     ]
    }
   ],
   "source": [
    "print(type(bart))\n",
    "inputs = bart.prepare_inputs_for_generation(input_ids)\n",
    "print(inputs)"
   ]
  },
  {
   "cell_type": "code",
   "execution_count": 28,
   "metadata": {},
   "outputs": [],
   "source": [
    "max_length = 500\n",
    "temperature = 1.0\n",
    "top_k = 50"
   ]
  },
  {
   "cell_type": "code",
   "execution_count": null,
   "metadata": {},
   "outputs": [],
   "source": [
    "output_generate = bart.generate(\n",
    "    input_ids,\n",
    "    max_length=max_length,\n",
    "    do_sample=True,\n",
    "    temperature=temperature,\n",
    "    top_k=top_k,\n",
    "    return_dict_in_generate=True,\n",
    "    output_scores=True\n",
    ")"
   ]
  },
  {
   "cell_type": "code",
   "execution_count": 33,
   "metadata": {},
   "outputs": [
    {
     "name": "stdout",
     "output_type": "stream",
     "text": [
      "tensor([[  2, 196,   6,  95, 314, 109, 314, 111, 314, 119, 314, 125, 314,   6,\n",
      "          95, 459, 109, 207, 111, 524, 119, 517, 125, 314,   6,  95, 314, 109,\n",
      "         314, 111, 314, 119, 314, 125, 314,   6,  95, 459, 109, 207, 111, 524,\n",
      "         125, 314,   6,  95, 314, 109, 314, 111, 314, 119, 314, 125, 314,   6,\n",
      "          95, 459, 109, 207, 111, 524, 119, 517, 125, 314,   6,  95, 314, 109,\n",
      "         314, 111, 314, 119, 314, 125, 314,   6,  95, 459, 109, 207, 111, 524,\n",
      "         119, 517, 125, 314,   3]], device='cuda:0')\n"
     ]
    }
   ],
   "source": [
    "print(output_generate['sequences'])"
   ]
  },
  {
   "cell_type": "code",
   "execution_count": 22,
   "metadata": {},
   "outputs": [
    {
     "name": "stdout",
     "output_type": "stream",
     "text": [
      "['<s>', '<h>', '<bar>', 'position_0x00', 'E:min', 'position_1x75', 'E:min', 'position_2x00', 'E:min', 'position_3x00', 'E:min', 'position_3x75', 'E:min', '<bar>', 'position_0x00', 'A:min', 'position_1x75', 'C:maj6', 'position_2x00', 'B:min7', 'position_3x00', 'B:min', 'position_3x75', 'E:min', '<bar>', 'position_0x00', 'E:min', 'position_1x75', 'E:min', 'position_2x00', 'E:min', 'position_3x00', 'E:min', 'position_3x75', 'E:min', '<bar>', 'position_0x00', 'A:min', 'position_1x75', 'C:maj6', 'position_2x00', 'B:min7', 'position_3x75', 'E:min', '<bar>', 'position_0x00', 'E:min', 'position_1x75', 'E:min', 'position_2x00', 'E:min', 'position_3x00', 'E:min', 'position_3x75', 'E:min', '<bar>', 'position_0x00', 'A:min', 'position_1x75', 'C:maj6', 'position_2x00', 'B:min7', 'position_3x00', 'B:min', 'position_3x75', 'E:min', '<bar>', 'position_0x00', 'E:min', 'position_1x75', 'E:min', 'position_2x00', 'E:min', 'position_3x00', 'E:min', 'position_3x75', 'E:min', '<bar>', 'position_0x00', 'A:min', 'position_1x75', 'C:maj6', 'position_2x00', 'B:min7', 'position_3x00', 'B:min', 'position_3x75', 'E:min', '</s>']\n"
     ]
    }
   ],
   "source": [
    "generate_tokens = []\n",
    "for i in output_generate['sequences'][0]:\n",
    "    generate_tokens.append( tokenizer.ids_to_tokens[ int(i) ].replace(' ','x') )\n",
    "print(generate_tokens)"
   ]
  },
  {
   "cell_type": "code",
   "execution_count": 24,
   "metadata": {},
   "outputs": [],
   "source": [
    "encoder = bart.model.encoder\n",
    "decoder = bart.model.decoder"
   ]
  },
  {
   "cell_type": "code",
   "execution_count": 26,
   "metadata": {},
   "outputs": [],
   "source": [
    "with torch.no_grad():\n",
    "    encoder_outputs = encoder(input_ids)\n",
    "    encoder_hidden_states = encoder_outputs.last_hidden_state\n",
    "\n",
    "decoder_input_ids = torch.tensor([[tokenizer.bos_token_id]], device=device)"
   ]
  },
  {
   "cell_type": "code",
   "execution_count": 29,
   "metadata": {},
   "outputs": [],
   "source": [
    "for _ in range(max_length):\n",
    "    with torch.no_grad():\n",
    "        decoder_outputs = decoder(\n",
    "            input_ids=decoder_input_ids,\n",
    "            encoder_hidden_states=encoder_hidden_states\n",
    "        )\n",
    "        logits = bart.lm_head(decoder_outputs.last_hidden_state[:, -1, :])  # Get logits for last token\n",
    "\n",
    "        # Apply temperature scaling\n",
    "        logits = logits / temperature\n",
    "\n",
    "        # Apply top-k sampling\n",
    "        if top_k > 0:\n",
    "            top_k_values, top_k_indices = torch.topk(logits, top_k)\n",
    "            logits = torch.full_like(logits, float('-inf'))\n",
    "            logits.scatter_(1, top_k_indices, top_k_values)\n",
    "\n",
    "        # Convert logits to probabilities and sample\n",
    "        probabilities = torch.nn.functional.softmax(logits, dim=-1)\n",
    "        next_token = torch.multinomial(probabilities, num_samples=1)\n",
    "\n",
    "        # Append to decoder input\n",
    "        decoder_input_ids = torch.cat((decoder_input_ids, next_token), dim=1)\n",
    "\n",
    "        # Stop if EOS token is generated\n",
    "        if next_token.item() == tokenizer.eos_token_id:\n",
    "            break"
   ]
  },
  {
   "cell_type": "code",
   "execution_count": 30,
   "metadata": {},
   "outputs": [
    {
     "name": "stdout",
     "output_type": "stream",
     "text": [
      "tensor([[  2, 196,   6,  95, 342,   6,  95, 400,   6,  95, 459,   6,  95, 314,\n",
      "           6,  95, 342,   6,  95, 400,   6,  95, 459,   6,  95, 314,   3]],\n",
      "       device='cuda:0')\n"
     ]
    }
   ],
   "source": [
    "print(decoder_input_ids)"
   ]
  },
  {
   "cell_type": "code",
   "execution_count": 32,
   "metadata": {},
   "outputs": [
    {
     "name": "stdout",
     "output_type": "stream",
     "text": [
      "['<s>', '<h>', '<bar>', 'position_0x00', 'E:min', 'position_1x75', 'E:min', 'position_2x00', 'E:min', 'position_3x00', 'E:min', 'position_3x75', 'E:min', '<bar>', 'position_0x00', 'A:min', 'position_1x75', 'C:maj6', 'position_2x00', 'B:min7', 'position_3x00', 'B:min', 'position_3x75', 'E:min', '<bar>', 'position_0x00', 'E:min', 'position_1x75', 'E:min', 'position_2x00', 'E:min', 'position_3x00', 'E:min', 'position_3x75', 'E:min', '<bar>', 'position_0x00', 'A:min', 'position_1x75', 'C:maj6', 'position_2x00', 'B:min7', 'position_3x75', 'E:min', '<bar>', 'position_0x00', 'E:min', 'position_1x75', 'E:min', 'position_2x00', 'E:min', 'position_3x00', 'E:min', 'position_3x75', 'E:min', '<bar>', 'position_0x00', 'A:min', 'position_1x75', 'C:maj6', 'position_2x00', 'B:min7', 'position_3x00', 'B:min', 'position_3x75', 'E:min', '<bar>', 'position_0x00', 'E:min', 'position_1x75', 'E:min', 'position_2x00', 'E:min', 'position_3x00', 'E:min', 'position_3x75', 'E:min', '<bar>', 'position_0x00', 'A:min', 'position_1x75', 'C:maj6', 'position_2x00', 'B:min7', 'position_3x00', 'B:min', 'position_3x75', 'E:min', '</s>']\n"
     ]
    }
   ],
   "source": [
    "ar_tokens = []\n",
    "for i in decoder_input_ids[0]:\n",
    "    ar_tokens.append( tokenizer.ids_to_tokens[ int(i) ].replace(' ','x') )\n",
    "print(generate_tokens)"
   ]
  },
  {
   "cell_type": "code",
   "execution_count": null,
   "metadata": {},
   "outputs": [],
   "source": [
    "# def custom_autoregressive_sampling(model, input_ids, max_length, temperature, top_k):\n",
    "#     generated = input_ids\n",
    "#     for _ in range(max_length - input_ids.shape[1]):\n",
    "#         outputs = model(generated)\n",
    "#         logits = outputs.logits[:, -1, :]  # Take last token logits\n",
    "        \n",
    "#         # Apply temperature scaling\n",
    "#         logits = logits / temperature\n",
    "\n",
    "#         # Apply top-k sampling\n",
    "#         if top_k > 0:\n",
    "#             top_k_values, top_k_indices = torch.topk(logits, top_k)\n",
    "#             logits = torch.full_like(logits, float('-inf'))\n",
    "#             logits.scatter_(1, top_k_indices, top_k_values)\n",
    "\n",
    "#         # Convert logits to probabilities and sample\n",
    "#         probabilities = torch.nn.functional.softmax(logits, dim=-1)\n",
    "#         next_token = torch.multinomial(probabilities, num_samples=1)\n",
    "\n",
    "#         # Append to generated sequence\n",
    "#         generated = torch.cat((generated, next_token), dim=1)\n",
    "\n",
    "#         # Stop if EOS token is generated\n",
    "#         if next_token.item() == tokenizer.eos_token_id:\n",
    "#             break\n",
    "\n",
    "#     return generated\n",
    "# # end custom_autoregressive_sampling"
   ]
  },
  {
   "cell_type": "code",
   "execution_count": null,
   "metadata": {},
   "outputs": [],
   "source": []
  }
 ],
 "metadata": {
  "kernelspec": {
   "display_name": "torch",
   "language": "python",
   "name": "python3"
  },
  "language_info": {
   "codemirror_mode": {
    "name": "ipython",
    "version": 3
   },
   "file_extension": ".py",
   "mimetype": "text/x-python",
   "name": "python",
   "nbconvert_exporter": "python",
   "pygments_lexer": "ipython3",
   "version": "3.11.5"
  }
 },
 "nbformat": 4,
 "nbformat_minor": 2
}
