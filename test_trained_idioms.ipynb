{
 "cells": [
  {
   "cell_type": "code",
   "execution_count": 23,
   "metadata": {},
   "outputs": [],
   "source": [
    "import pickle\n",
    "import sys\n",
    "# Add the folder containing the Python files to the Python path\n",
    "sys.path.append('CM_train')\n",
    "sys.path.append('CM_auxiliary')\n",
    "sys.path.append('CM_logging')\n",
    "import mir_eval\n",
    "from copy import deepcopy\n",
    "import numpy as np"
   ]
  },
  {
   "cell_type": "code",
   "execution_count": 24,
   "metadata": {},
   "outputs": [],
   "source": [
    "with open('trained_idioms/BachChorales.pickle', 'rb') as f:\n",
    "    bc = pickle.load(f)"
   ]
  },
  {
   "cell_type": "code",
   "execution_count": 25,
   "metadata": {},
   "outputs": [
    {
     "name": "stdout",
     "output_type": "stream",
     "text": [
      "{'name': 'BachChorales', 'modes': {'[0 2 3 5 7 8 10]': <CM_TR_TrainingIdiom_class.TrainingMode object at 0x790894dfa1d0>, '[0 2 4 5 7 9 11]': <CM_TR_TrainingIdiom_class.TrainingMode object at 0x79085472bb10>}}\n"
     ]
    }
   ],
   "source": [
    "print(bc.__dict__)"
   ]
  },
  {
   "cell_type": "code",
   "execution_count": 26,
   "metadata": {},
   "outputs": [
    {
     "name": "stdout",
     "output_type": "stream",
     "text": [
      "{'[0 2 3 5 7 8 10]': <CM_TR_TrainingIdiom_class.TrainingMode object at 0x790894dfa1d0>, '[0 2 4 5 7 9 11]': <CM_TR_TrainingIdiom_class.TrainingMode object at 0x79085472bb10>}\n"
     ]
    }
   ],
   "source": [
    "modes = bc.modes\n",
    "print(modes)"
   ]
  },
  {
   "cell_type": "code",
   "execution_count": 27,
   "metadata": {},
   "outputs": [
    {
     "name": "stdout",
     "output_type": "stream",
     "text": [
      "{'mode': array([ 0,  2,  3,  5,  7,  8, 10]), 'mode_pcp': array([1, 0, 1, 1, 0, 1, 0, 1, 1, 0, 1, 0]), 'mode_name': '[0 2 3 5 7 8 10]', 'idiom_name': 'BachChorales', 'gct_info': <CM_TR_TrainingIdiom_class.GCT_info object at 0x790894cea910>, 'gct_group_info': <CM_TR_TrainingIdiom_class.GCT_info object at 0x7908547aef10>, 'cadences': {'intermediate': <CM_TR_TrainingIdiom_class.TrainingCadences object at 0x790894b3fc90>, 'final': <CM_TR_TrainingIdiom_class.TrainingCadences object at 0x7908547dedd0>}}\n"
     ]
    }
   ],
   "source": [
    "mode_0 = modes[list(modes.keys())[0]]\n",
    "print(mode_0.__dict__)"
   ]
  },
  {
   "cell_type": "code",
   "execution_count": 28,
   "metadata": {},
   "outputs": [
    {
     "name": "stdout",
     "output_type": "stream",
     "text": [
      "dict_keys(['gcts_array', 'gcts_counter', 'gct_group_structures', 'gcts_membership_dictionary', 'gcts_labels', 'gcts_relative_pcs', 'gcts_occurances', 'gcts_probabilities', 'gcts_initial_array', 'gcts_initial_counter', 'gcts_initial_probabilities', 'gcts_transitions_sum', 'gcts_markov', 'gct_vl_phrases', 'gct_vl_dict', 'gct_vl'])\n"
     ]
    }
   ],
   "source": [
    "gct_info_0 = mode_0.gct_info\n",
    "print(gct_info_0.__dict__.keys())"
   ]
  },
  {
   "cell_type": "code",
   "execution_count": 29,
   "metadata": {},
   "outputs": [
    {
     "name": "stdout",
     "output_type": "stream",
     "text": [
      "['[0 0 3 7]', '[7 0 4 7]', '[10 0 4 7]', '[3 0 4 7]', '[2 0 3 9]', '[5 0 3 7 9]', '[0 0 4 7]', '[8 0 4 7]', '[5 0 3 7]', '[2 0 4 7 10]', '[7 0 4 7 10]', '[0 0 3]', '[5 0 3 6 9]', '[5 0 4 7 10]', '[5 0 4 7]', '[2 0 4 7]', '[7 0 3 7]', '[10 0 4 7 10]', '[7 0 4]', '[2 0 3 6]', '[8 0 4 7 9]', '[3 0 4 7 9]', '[0 0 4 7 10]', '[7 0 4 10]', '[0 0 3 7 8]', '[0 0 3 6 9]', '[10 0 7]', '[5 0 4 10]', '[3 0 4]', '[10 0 4 7 9]', '[9 0 3 9]', '[0 0 3 9]', '[0 0 7]', '[5 0 4 7 9]', '[11 0 3 9]', '[2 0 3 7]', '[7 0 4 8]', '[7 0 3 9]', '[7 0 3 6 9]']\n",
      "39\n",
      "(39, 39)\n"
     ]
    }
   ],
   "source": [
    "print(gct_info_0.gcts_labels)\n",
    "print(len(gct_info_0.gcts_relative_pcs))\n",
    "print(gct_info_0.gcts_markov.shape)"
   ]
  },
  {
   "cell_type": "code",
   "execution_count": 30,
   "metadata": {},
   "outputs": [],
   "source": [
    "MIR_QUALITIES = mir_eval.chord.QUALITIES\n",
    "EXT_MIR_QUALITIES = deepcopy( MIR_QUALITIES )\n",
    "for k in list(MIR_QUALITIES.keys()) + ['7(b9)', '7(#9)', '7(#11)', '7(b13)']:\n",
    "    _, semitone_bitmap, _ = mir_eval.chord.encode( 'C' + (len(k) > 0)*':' + k, reduce_extended_chords=True )\n",
    "    EXT_MIR_QUALITIES[k] = semitone_bitmap"
   ]
  },
  {
   "cell_type": "code",
   "execution_count": 31,
   "metadata": {},
   "outputs": [],
   "source": [
    "INT_TO_ROOT_SHARP = {\n",
    "    0: 'C',\n",
    "    1: 'C#',\n",
    "    2: 'D',\n",
    "    3: 'D#',\n",
    "    4: 'E',\n",
    "    5: 'F',\n",
    "    6: 'F#',\n",
    "    7: 'G',\n",
    "    8: 'G#',\n",
    "    9: 'A',\n",
    "    10: 'A#',\n",
    "    11: 'B',\n",
    "}\n",
    "ROOT_TO_INT_SHARP = {v:k for k, v in INT_TO_ROOT_SHARP.items()}"
   ]
  },
  {
   "cell_type": "code",
   "execution_count": 32,
   "metadata": {},
   "outputs": [
    {
     "name": "stdout",
     "output_type": "stream",
     "text": [
      "{'C': 0, 'C#': 1, 'D': 2, 'D#': 3, 'E': 4, 'F': 5, 'F#': 6, 'G': 7, 'G#': 8, 'A': 9, 'A#': 10, 'B': 11}\n"
     ]
    }
   ],
   "source": [
    "print(ROOT_TO_INT_SHARP)"
   ]
  },
  {
   "cell_type": "code",
   "execution_count": 33,
   "metadata": {},
   "outputs": [],
   "source": [
    "all_chords = {}"
   ]
  },
  {
   "cell_type": "code",
   "execution_count": 40,
   "metadata": {},
   "outputs": [],
   "source": [
    "for r_str, r_int in ROOT_TO_INT_SHARP.items():\n",
    "    for type_str, type_array in EXT_MIR_QUALITIES.items():\n",
    "        all_chords[ r_str + (len(type_str)>0)*':' + type_str] = np.roll( type_array, r_int )"
   ]
  },
  {
   "cell_type": "code",
   "execution_count": 44,
   "metadata": {},
   "outputs": [
    {
     "name": "stdout",
     "output_type": "stream",
     "text": [
      "[0 0 1 0 0 0 1 0 0 1 0 0]\n"
     ]
    }
   ],
   "source": [
    "print(all_chords['D:maj'])"
   ]
  },
  {
   "cell_type": "code",
   "execution_count": 45,
   "metadata": {},
   "outputs": [
    {
     "name": "stdout",
     "output_type": "stream",
     "text": [
      "348\n"
     ]
    }
   ],
   "source": [
    "print(len(all_chords))"
   ]
  }
 ],
 "metadata": {
  "kernelspec": {
   "display_name": "torch",
   "language": "python",
   "name": "python3"
  },
  "language_info": {
   "codemirror_mode": {
    "name": "ipython",
    "version": 3
   },
   "file_extension": ".py",
   "mimetype": "text/x-python",
   "name": "python",
   "nbconvert_exporter": "python",
   "pygments_lexer": "ipython3",
   "version": "3.11.5"
  }
 },
 "nbformat": 4,
 "nbformat_minor": 2
}
