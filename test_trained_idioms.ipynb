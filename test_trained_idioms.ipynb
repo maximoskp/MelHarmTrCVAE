{
 "cells": [
  {
   "cell_type": "code",
   "execution_count": 3,
   "metadata": {},
   "outputs": [],
   "source": [
    "import pickle\n",
    "import os\n",
    "import sys\n",
    "# Add the folder containing the Python files to the Python path\n",
    "sys.path.append('CM_train')\n",
    "sys.path.append('CM_auxiliary')\n",
    "sys.path.append('CM_logging')\n",
    "import mir_eval\n",
    "from copy import deepcopy\n",
    "import numpy as np"
   ]
  },
  {
   "cell_type": "code",
   "execution_count": 4,
   "metadata": {},
   "outputs": [],
   "source": [
    "with open('trained_idioms/BachChorales.pickle', 'rb') as f:\n",
    "    bc = pickle.load(f)"
   ]
  },
  {
   "cell_type": "code",
   "execution_count": 5,
   "metadata": {},
   "outputs": [
    {
     "name": "stdout",
     "output_type": "stream",
     "text": [
      "{'name': 'BachChorales', 'modes': {'[0 2 3 5 7 8 10]': <CM_TR_TrainingIdiom_class.TrainingMode object at 0x79a3549bc750>, '[0 2 4 5 7 9 11]': <CM_TR_TrainingIdiom_class.TrainingMode object at 0x79a313deaa10>}}\n"
     ]
    }
   ],
   "source": [
    "print(bc.__dict__)"
   ]
  },
  {
   "cell_type": "code",
   "execution_count": 6,
   "metadata": {},
   "outputs": [
    {
     "name": "stdout",
     "output_type": "stream",
     "text": [
      "{'[0 2 3 5 7 8 10]': <CM_TR_TrainingIdiom_class.TrainingMode object at 0x79a3549bc750>, '[0 2 4 5 7 9 11]': <CM_TR_TrainingIdiom_class.TrainingMode object at 0x79a313deaa10>}\n"
     ]
    }
   ],
   "source": [
    "modes = bc.modes\n",
    "print(modes)"
   ]
  },
  {
   "cell_type": "code",
   "execution_count": 7,
   "metadata": {},
   "outputs": [
    {
     "name": "stdout",
     "output_type": "stream",
     "text": [
      "{'mode': array([ 0,  2,  3,  5,  7,  8, 10]), 'mode_pcp': array([1, 0, 1, 1, 0, 1, 0, 1, 1, 0, 1, 0]), 'mode_name': '[0 2 3 5 7 8 10]', 'idiom_name': 'BachChorales', 'gct_info': <CM_TR_TrainingIdiom_class.GCT_info object at 0x79a35d724110>, 'gct_group_info': <CM_TR_TrainingIdiom_class.GCT_info object at 0x79a313d9ef10>, 'cadences': {'intermediate': <CM_TR_TrainingIdiom_class.TrainingCadences object at 0x79a313dbc210>, 'final': <CM_TR_TrainingIdiom_class.TrainingCadences object at 0x79a313de8650>}}\n"
     ]
    }
   ],
   "source": [
    "mode_0 = modes[list(modes.keys())[0]]\n",
    "print(mode_0.__dict__)"
   ]
  },
  {
   "cell_type": "code",
   "execution_count": 8,
   "metadata": {},
   "outputs": [
    {
     "name": "stdout",
     "output_type": "stream",
     "text": [
      "dict_keys(['gcts_array', 'gcts_counter', 'gct_group_structures', 'gcts_membership_dictionary', 'gcts_labels', 'gcts_relative_pcs', 'gcts_occurances', 'gcts_probabilities', 'gcts_initial_array', 'gcts_initial_counter', 'gcts_initial_probabilities', 'gcts_transitions_sum', 'gcts_markov', 'gct_vl_phrases', 'gct_vl_dict', 'gct_vl'])\n"
     ]
    }
   ],
   "source": [
    "gct_info_0 = mode_0.gct_info\n",
    "print(gct_info_0.__dict__.keys())"
   ]
  },
  {
   "cell_type": "code",
   "execution_count": 9,
   "metadata": {},
   "outputs": [
    {
     "name": "stdout",
     "output_type": "stream",
     "text": [
      "['[0 0 3 7]', '[7 0 4 7]', '[10 0 4 7]', '[3 0 4 7]', '[2 0 3 9]', '[5 0 3 7 9]', '[0 0 4 7]', '[8 0 4 7]', '[5 0 3 7]', '[2 0 4 7 10]', '[7 0 4 7 10]', '[0 0 3]', '[5 0 3 6 9]', '[5 0 4 7 10]', '[5 0 4 7]', '[2 0 4 7]', '[7 0 3 7]', '[10 0 4 7 10]', '[7 0 4]', '[2 0 3 6]', '[8 0 4 7 9]', '[3 0 4 7 9]', '[0 0 4 7 10]', '[7 0 4 10]', '[0 0 3 7 8]', '[0 0 3 6 9]', '[10 0 7]', '[5 0 4 10]', '[3 0 4]', '[10 0 4 7 9]', '[9 0 3 9]', '[0 0 3 9]', '[0 0 7]', '[5 0 4 7 9]', '[11 0 3 9]', '[2 0 3 7]', '[7 0 4 8]', '[7 0 3 9]', '[7 0 3 6 9]']\n",
      "39\n",
      "[1. 0. 0. 1. 0. 0. 0. 1. 0. 0. 0. 0.]\n",
      "(39, 39)\n",
      "[0.27967807 0.17102616 0.02615694 0.04828974 0.03018109 0.04024145\n",
      " 0.03420523 0.04828974 0.03822938 0.01006036 0.07042254 0.00804829\n",
      " 0.02012072 0.01207243 0.03219316 0.01006036 0.01810865 0.00402414\n",
      " 0.00402414 0.02615694 0.00603622 0.00402414 0.00603622 0.00603622\n",
      " 0.00201207 0.00804829 0.00402414 0.00201207 0.00402414 0.00201207\n",
      " 0.00402414 0.00201207 0.00402414 0.00201207 0.00201207 0.00402414\n",
      " 0.00201207 0.00201207 0.00201207]\n"
     ]
    }
   ],
   "source": [
    "print(gct_info_0.gcts_labels)\n",
    "print(len(gct_info_0.gcts_relative_pcs))\n",
    "print(gct_info_0.gcts_relative_pcs[0])\n",
    "print(gct_info_0.gcts_markov.shape)\n",
    "print(gct_info_0.gcts_probabilities)\n",
    "rpcs = gct_info_0.gcts_relative_pcs\n",
    "probs = gct_info_0.gcts_probabilities\n",
    "tr = gct_info_0.gcts_markov"
   ]
  },
  {
   "cell_type": "code",
   "execution_count": 10,
   "metadata": {},
   "outputs": [],
   "source": [
    "MIR_QUALITIES = mir_eval.chord.QUALITIES\n",
    "EXT_MIR_QUALITIES = deepcopy( MIR_QUALITIES )\n",
    "for k in list(MIR_QUALITIES.keys()) + ['7(b9)', '7(#9)', '7(#11)', '7(b13)']:\n",
    "    _, semitone_bitmap, _ = mir_eval.chord.encode( 'C' + (len(k) > 0)*':' + k, reduce_extended_chords=True )\n",
    "    EXT_MIR_QUALITIES[k] = semitone_bitmap"
   ]
  },
  {
   "cell_type": "code",
   "execution_count": 11,
   "metadata": {},
   "outputs": [],
   "source": [
    "INT_TO_ROOT_SHARP = {\n",
    "    0: 'C',\n",
    "    1: 'C#',\n",
    "    2: 'D',\n",
    "    3: 'D#',\n",
    "    4: 'E',\n",
    "    5: 'F',\n",
    "    6: 'F#',\n",
    "    7: 'G',\n",
    "    8: 'G#',\n",
    "    9: 'A',\n",
    "    10: 'A#',\n",
    "    11: 'B',\n",
    "}\n",
    "ROOT_TO_INT_SHARP = {v:k for k, v in INT_TO_ROOT_SHARP.items()}"
   ]
  },
  {
   "cell_type": "code",
   "execution_count": 12,
   "metadata": {},
   "outputs": [
    {
     "name": "stdout",
     "output_type": "stream",
     "text": [
      "{'C': 0, 'C#': 1, 'D': 2, 'D#': 3, 'E': 4, 'F': 5, 'F#': 6, 'G': 7, 'G#': 8, 'A': 9, 'A#': 10, 'B': 11}\n"
     ]
    }
   ],
   "source": [
    "print(ROOT_TO_INT_SHARP)"
   ]
  },
  {
   "cell_type": "code",
   "execution_count": 13,
   "metadata": {},
   "outputs": [],
   "source": [
    "all_chords = {}"
   ]
  },
  {
   "cell_type": "code",
   "execution_count": 14,
   "metadata": {},
   "outputs": [],
   "source": [
    "for r_str, r_int in ROOT_TO_INT_SHARP.items():\n",
    "    for type_str, type_array in EXT_MIR_QUALITIES.items():\n",
    "        all_chords[ r_str + (len(type_str)>0)*':' + type_str] = np.roll( type_array, r_int )"
   ]
  },
  {
   "cell_type": "code",
   "execution_count": 15,
   "metadata": {},
   "outputs": [
    {
     "name": "stdout",
     "output_type": "stream",
     "text": [
      "[0 0 1 0 0 0 1 0 0 1 0 0]\n"
     ]
    }
   ],
   "source": [
    "print(all_chords['D:maj'])"
   ]
  },
  {
   "cell_type": "code",
   "execution_count": 16,
   "metadata": {},
   "outputs": [
    {
     "name": "stdout",
     "output_type": "stream",
     "text": [
      "348\n"
     ]
    }
   ],
   "source": [
    "print(len(all_chords))"
   ]
  },
  {
   "cell_type": "code",
   "execution_count": 17,
   "metadata": {},
   "outputs": [],
   "source": [
    "mir_rpcs = tuple( all_chords.values() )\n",
    "mir_symbols = tuple( all_chords.keys() )"
   ]
  },
  {
   "cell_type": "code",
   "execution_count": 18,
   "metadata": {},
   "outputs": [
    {
     "name": "stdout",
     "output_type": "stream",
     "text": [
      "(array([1, 0, 0, 0, 1, 0, 0, 1, 0, 0, 0, 0]), array([1, 0, 0, 1, 0, 0, 0, 1, 0, 0, 0, 0]), array([1, 0, 0, 0, 1, 0, 0, 0, 1, 0, 0, 0]), array([1, 0, 0, 1, 0, 0, 1, 0, 0, 0, 0, 0]), array([1, 0, 0, 0, 0, 1, 0, 1, 0, 0, 0, 0]), array([1, 0, 1, 0, 0, 0, 0, 1, 0, 0, 0, 0]), array([1, 0, 0, 0, 1, 0, 0, 1, 0, 0, 1, 0]), array([1, 0, 0, 0, 1, 0, 0, 1, 0, 0, 0, 1]), array([1, 0, 0, 1, 0, 0, 0, 1, 0, 0, 1, 0]), array([1, 0, 0, 1, 0, 0, 0, 1, 0, 0, 0, 1]), array([1, 0, 0, 0, 1, 0, 0, 1, 0, 1, 0, 0]), array([1, 0, 0, 1, 0, 0, 0, 1, 0, 1, 0, 0]), array([1, 0, 0, 1, 0, 0, 1, 0, 0, 1, 0, 0]), array([1, 0, 0, 1, 0, 0, 1, 0, 0, 0, 1, 0]), array([1, 0, 1, 0, 1, 0, 0, 1, 0, 0, 0, 1]), array([1, 0, 1, 1, 0, 0, 0, 1, 0, 0, 1, 0]), array([1, 0, 1, 0, 1, 0, 0, 1, 0, 0, 1, 0]), array([1, 0, 1, 1, 0, 1, 0, 1, 0, 0, 1, 0]), array([1, 0, 1, 0, 1, 1, 0, 1, 0, 0, 1, 0]), array([1, 0, 1, 0, 1, 1, 0, 1, 0, 1, 0, 1]), array([1, 0, 1, 1, 0, 1, 0, 1, 0, 1, 1, 0]), array([1, 0, 1, 0, 1, 1, 0, 1, 0, 1, 1, 0]), array([1, 0, 0, 0, 0, 0, 0, 0, 0, 0, 0, 0]), array([1, 0, 0, 0, 0, 0, 0, 1, 0, 0, 0, 0]), array([1, 0, 0, 0, 1, 0, 0, 1, 0, 0, 0, 0]), array([1, 1, 0, 0, 1, 0, 0, 1, 0, 0, 1, 0]), array([1, 0, 0, 1, 1, 0, 0, 1, 0, 0, 1, 0]), array([1, 0, 0, 0, 1, 0, 1, 1, 0, 0, 1, 0]), array([1, 0, 0, 0, 1, 0, 0, 1, 1, 0, 1, 0]), array([0, 1, 0, 0, 0, 1, 0, 0, 1, 0, 0, 0]), array([0, 1, 0, 0, 1, 0, 0, 0, 1, 0, 0, 0]), array([0, 1, 0, 0, 0, 1, 0, 0, 0, 1, 0, 0]), array([0, 1, 0, 0, 1, 0, 0, 1, 0, 0, 0, 0]), array([0, 1, 0, 0, 0, 0, 1, 0, 1, 0, 0, 0]), array([0, 1, 0, 1, 0, 0, 0, 0, 1, 0, 0, 0]), array([0, 1, 0, 0, 0, 1, 0, 0, 1, 0, 0, 1]), array([1, 1, 0, 0, 0, 1, 0, 0, 1, 0, 0, 0]), array([0, 1, 0, 0, 1, 0, 0, 0, 1, 0, 0, 1]), array([1, 1, 0, 0, 1, 0, 0, 0, 1, 0, 0, 0]), array([0, 1, 0, 0, 0, 1, 0, 0, 1, 0, 1, 0]), array([0, 1, 0, 0, 1, 0, 0, 0, 1, 0, 1, 0]), array([0, 1, 0, 0, 1, 0, 0, 1, 0, 0, 1, 0]), array([0, 1, 0, 0, 1, 0, 0, 1, 0, 0, 0, 1]), array([1, 1, 0, 1, 0, 1, 0, 0, 1, 0, 0, 0]), array([0, 1, 0, 1, 1, 0, 0, 0, 1, 0, 0, 1]), array([0, 1, 0, 1, 0, 1, 0, 0, 1, 0, 0, 1]), array([0, 1, 0, 1, 1, 0, 1, 0, 1, 0, 0, 1]), array([0, 1, 0, 1, 0, 1, 1, 0, 1, 0, 0, 1]), array([1, 1, 0, 1, 0, 1, 1, 0, 1, 0, 1, 0]), array([0, 1, 0, 1, 1, 0, 1, 0, 1, 0, 1, 1]), array([0, 1, 0, 1, 0, 1, 1, 0, 1, 0, 1, 1]), array([0, 1, 0, 0, 0, 0, 0, 0, 0, 0, 0, 0]), array([0, 1, 0, 0, 0, 0, 0, 0, 1, 0, 0, 0]), array([0, 1, 0, 0, 0, 1, 0, 0, 1, 0, 0, 0]), array([0, 1, 1, 0, 0, 1, 0, 0, 1, 0, 0, 1]), array([0, 1, 0, 0, 1, 1, 0, 0, 1, 0, 0, 1]), array([0, 1, 0, 0, 0, 1, 0, 1, 1, 0, 0, 1]), array([0, 1, 0, 0, 0, 1, 0, 0, 1, 1, 0, 1]), array([0, 0, 1, 0, 0, 0, 1, 0, 0, 1, 0, 0]), array([0, 0, 1, 0, 0, 1, 0, 0, 0, 1, 0, 0]), array([0, 0, 1, 0, 0, 0, 1, 0, 0, 0, 1, 0]), array([0, 0, 1, 0, 0, 1, 0, 0, 1, 0, 0, 0]), array([0, 0, 1, 0, 0, 0, 0, 1, 0, 1, 0, 0]), array([0, 0, 1, 0, 1, 0, 0, 0, 0, 1, 0, 0]), array([1, 0, 1, 0, 0, 0, 1, 0, 0, 1, 0, 0]), array([0, 1, 1, 0, 0, 0, 1, 0, 0, 1, 0, 0]), array([1, 0, 1, 0, 0, 1, 0, 0, 0, 1, 0, 0]), array([0, 1, 1, 0, 0, 1, 0, 0, 0, 1, 0, 0]), array([0, 0, 1, 0, 0, 0, 1, 0, 0, 1, 0, 1]), array([0, 0, 1, 0, 0, 1, 0, 0, 0, 1, 0, 1]), array([0, 0, 1, 0, 0, 1, 0, 0, 1, 0, 0, 1]), array([1, 0, 1, 0, 0, 1, 0, 0, 1, 0, 0, 0]), array([0, 1, 1, 0, 1, 0, 1, 0, 0, 1, 0, 0]), array([1, 0, 1, 0, 1, 1, 0, 0, 0, 1, 0, 0]), array([1, 0, 1, 0, 1, 0, 1, 0, 0, 1, 0, 0]), array([1, 0, 1, 0, 1, 1, 0, 1, 0, 1, 0, 0]), array([1, 0, 1, 0, 1, 0, 1, 1, 0, 1, 0, 0]), array([0, 1, 1, 0, 1, 0, 1, 1, 0, 1, 0, 1]), array([1, 0, 1, 0, 1, 1, 0, 1, 0, 1, 0, 1]), array([1, 0, 1, 0, 1, 0, 1, 1, 0, 1, 0, 1]), array([0, 0, 1, 0, 0, 0, 0, 0, 0, 0, 0, 0]), array([0, 0, 1, 0, 0, 0, 0, 0, 0, 1, 0, 0]), array([0, 0, 1, 0, 0, 0, 1, 0, 0, 1, 0, 0]), array([1, 0, 1, 1, 0, 0, 1, 0, 0, 1, 0, 0]), array([1, 0, 1, 0, 0, 1, 1, 0, 0, 1, 0, 0]), array([1, 0, 1, 0, 0, 0, 1, 0, 1, 1, 0, 0]), array([1, 0, 1, 0, 0, 0, 1, 0, 0, 1, 1, 0]), array([0, 0, 0, 1, 0, 0, 0, 1, 0, 0, 1, 0]), array([0, 0, 0, 1, 0, 0, 1, 0, 0, 0, 1, 0]), array([0, 0, 0, 1, 0, 0, 0, 1, 0, 0, 0, 1]), array([0, 0, 0, 1, 0, 0, 1, 0, 0, 1, 0, 0]), array([0, 0, 0, 1, 0, 0, 0, 0, 1, 0, 1, 0]), array([0, 0, 0, 1, 0, 1, 0, 0, 0, 0, 1, 0]), array([0, 1, 0, 1, 0, 0, 0, 1, 0, 0, 1, 0]), array([0, 0, 1, 1, 0, 0, 0, 1, 0, 0, 1, 0]), array([0, 1, 0, 1, 0, 0, 1, 0, 0, 0, 1, 0]), array([0, 0, 1, 1, 0, 0, 1, 0, 0, 0, 1, 0]), array([1, 0, 0, 1, 0, 0, 0, 1, 0, 0, 1, 0]), array([1, 0, 0, 1, 0, 0, 1, 0, 0, 0, 1, 0]), array([1, 0, 0, 1, 0, 0, 1, 0, 0, 1, 0, 0]), array([0, 1, 0, 1, 0, 0, 1, 0, 0, 1, 0, 0]), array([0, 0, 1, 1, 0, 1, 0, 1, 0, 0, 1, 0]), array([0, 1, 0, 1, 0, 1, 1, 0, 0, 0, 1, 0]), array([0, 1, 0, 1, 0, 1, 0, 1, 0, 0, 1, 0]), array([0, 1, 0, 1, 0, 1, 1, 0, 1, 0, 1, 0]), array([0, 1, 0, 1, 0, 1, 0, 1, 1, 0, 1, 0]), array([1, 0, 1, 1, 0, 1, 0, 1, 1, 0, 1, 0]), array([1, 1, 0, 1, 0, 1, 1, 0, 1, 0, 1, 0]), array([1, 1, 0, 1, 0, 1, 0, 1, 1, 0, 1, 0]), array([0, 0, 0, 1, 0, 0, 0, 0, 0, 0, 0, 0]), array([0, 0, 0, 1, 0, 0, 0, 0, 0, 0, 1, 0]), array([0, 0, 0, 1, 0, 0, 0, 1, 0, 0, 1, 0]), array([0, 1, 0, 1, 1, 0, 0, 1, 0, 0, 1, 0]), array([0, 1, 0, 1, 0, 0, 1, 1, 0, 0, 1, 0]), array([0, 1, 0, 1, 0, 0, 0, 1, 0, 1, 1, 0]), array([0, 1, 0, 1, 0, 0, 0, 1, 0, 0, 1, 1]), array([0, 0, 0, 0, 1, 0, 0, 0, 1, 0, 0, 1]), array([0, 0, 0, 0, 1, 0, 0, 1, 0, 0, 0, 1]), array([1, 0, 0, 0, 1, 0, 0, 0, 1, 0, 0, 0]), array([0, 0, 0, 0, 1, 0, 0, 1, 0, 0, 1, 0]), array([0, 0, 0, 0, 1, 0, 0, 0, 0, 1, 0, 1]), array([0, 0, 0, 0, 1, 0, 1, 0, 0, 0, 0, 1]), array([0, 0, 1, 0, 1, 0, 0, 0, 1, 0, 0, 1]), array([0, 0, 0, 1, 1, 0, 0, 0, 1, 0, 0, 1]), array([0, 0, 1, 0, 1, 0, 0, 1, 0, 0, 0, 1]), array([0, 0, 0, 1, 1, 0, 0, 1, 0, 0, 0, 1]), array([0, 1, 0, 0, 1, 0, 0, 0, 1, 0, 0, 1]), array([0, 1, 0, 0, 1, 0, 0, 1, 0, 0, 0, 1]), array([0, 1, 0, 0, 1, 0, 0, 1, 0, 0, 1, 0]), array([0, 0, 1, 0, 1, 0, 0, 1, 0, 0, 1, 0]), array([0, 0, 0, 1, 1, 0, 1, 0, 1, 0, 0, 1]), array([0, 0, 1, 0, 1, 0, 1, 1, 0, 0, 0, 1]), array([0, 0, 1, 0, 1, 0, 1, 0, 1, 0, 0, 1]), array([0, 0, 1, 0, 1, 0, 1, 1, 0, 1, 0, 1]), array([0, 0, 1, 0, 1, 0, 1, 0, 1, 1, 0, 1]), array([0, 1, 0, 1, 1, 0, 1, 0, 1, 1, 0, 1]), array([0, 1, 1, 0, 1, 0, 1, 1, 0, 1, 0, 1]), array([0, 1, 1, 0, 1, 0, 1, 0, 1, 1, 0, 1]), array([0, 0, 0, 0, 1, 0, 0, 0, 0, 0, 0, 0]), array([0, 0, 0, 0, 1, 0, 0, 0, 0, 0, 0, 1]), array([0, 0, 0, 0, 1, 0, 0, 0, 1, 0, 0, 1]), array([0, 0, 1, 0, 1, 1, 0, 0, 1, 0, 0, 1]), array([0, 0, 1, 0, 1, 0, 0, 1, 1, 0, 0, 1]), array([0, 0, 1, 0, 1, 0, 0, 0, 1, 0, 1, 1]), array([1, 0, 1, 0, 1, 0, 0, 0, 1, 0, 0, 1]), array([1, 0, 0, 0, 0, 1, 0, 0, 0, 1, 0, 0]), array([1, 0, 0, 0, 0, 1, 0, 0, 1, 0, 0, 0]), array([0, 1, 0, 0, 0, 1, 0, 0, 0, 1, 0, 0]), array([0, 0, 0, 0, 0, 1, 0, 0, 1, 0, 0, 1]), array([1, 0, 0, 0, 0, 1, 0, 0, 0, 0, 1, 0]), array([1, 0, 0, 0, 0, 1, 0, 1, 0, 0, 0, 0]), array([1, 0, 0, 1, 0, 1, 0, 0, 0, 1, 0, 0]), array([1, 0, 0, 0, 1, 1, 0, 0, 0, 1, 0, 0]), array([1, 0, 0, 1, 0, 1, 0, 0, 1, 0, 0, 0]), array([1, 0, 0, 0, 1, 1, 0, 0, 1, 0, 0, 0]), array([1, 0, 1, 0, 0, 1, 0, 0, 0, 1, 0, 0]), array([1, 0, 1, 0, 0, 1, 0, 0, 1, 0, 0, 0]), array([0, 0, 1, 0, 0, 1, 0, 0, 1, 0, 0, 1]), array([0, 0, 0, 1, 0, 1, 0, 0, 1, 0, 0, 1]), array([1, 0, 0, 0, 1, 1, 0, 1, 0, 1, 0, 0]), array([1, 0, 0, 1, 0, 1, 0, 1, 1, 0, 0, 0]), array([1, 0, 0, 1, 0, 1, 0, 1, 0, 1, 0, 0]), array([1, 0, 0, 1, 0, 1, 0, 1, 1, 0, 1, 0]), array([1, 0, 0, 1, 0, 1, 0, 1, 0, 1, 1, 0]), array([1, 0, 1, 0, 1, 1, 0, 1, 0, 1, 1, 0]), array([1, 0, 1, 1, 0, 1, 0, 1, 1, 0, 1, 0]), array([1, 0, 1, 1, 0, 1, 0, 1, 0, 1, 1, 0]), array([0, 0, 0, 0, 0, 1, 0, 0, 0, 0, 0, 0]), array([1, 0, 0, 0, 0, 1, 0, 0, 0, 0, 0, 0]), array([1, 0, 0, 0, 0, 1, 0, 0, 0, 1, 0, 0]), array([1, 0, 0, 1, 0, 1, 1, 0, 0, 1, 0, 0]), array([1, 0, 0, 1, 0, 1, 0, 0, 1, 1, 0, 0]), array([1, 0, 0, 1, 0, 1, 0, 0, 0, 1, 0, 1]), array([1, 1, 0, 1, 0, 1, 0, 0, 0, 1, 0, 0]), array([0, 1, 0, 0, 0, 0, 1, 0, 0, 0, 1, 0]), array([0, 1, 0, 0, 0, 0, 1, 0, 0, 1, 0, 0]), array([0, 0, 1, 0, 0, 0, 1, 0, 0, 0, 1, 0]), array([1, 0, 0, 0, 0, 0, 1, 0, 0, 1, 0, 0]), array([0, 1, 0, 0, 0, 0, 1, 0, 0, 0, 0, 1]), array([0, 1, 0, 0, 0, 0, 1, 0, 1, 0, 0, 0]), array([0, 1, 0, 0, 1, 0, 1, 0, 0, 0, 1, 0]), array([0, 1, 0, 0, 0, 1, 1, 0, 0, 0, 1, 0]), array([0, 1, 0, 0, 1, 0, 1, 0, 0, 1, 0, 0]), array([0, 1, 0, 0, 0, 1, 1, 0, 0, 1, 0, 0]), array([0, 1, 0, 1, 0, 0, 1, 0, 0, 0, 1, 0]), array([0, 1, 0, 1, 0, 0, 1, 0, 0, 1, 0, 0]), array([1, 0, 0, 1, 0, 0, 1, 0, 0, 1, 0, 0]), array([1, 0, 0, 0, 1, 0, 1, 0, 0, 1, 0, 0]), array([0, 1, 0, 0, 0, 1, 1, 0, 1, 0, 1, 0]), array([0, 1, 0, 0, 1, 0, 1, 0, 1, 1, 0, 0]), array([0, 1, 0, 0, 1, 0, 1, 0, 1, 0, 1, 0]), array([0, 1, 0, 0, 1, 0, 1, 0, 1, 1, 0, 1]), array([0, 1, 0, 0, 1, 0, 1, 0, 1, 0, 1, 1]), array([0, 1, 0, 1, 0, 1, 1, 0, 1, 0, 1, 1]), array([0, 1, 0, 1, 1, 0, 1, 0, 1, 1, 0, 1]), array([0, 1, 0, 1, 1, 0, 1, 0, 1, 0, 1, 1]), array([0, 0, 0, 0, 0, 0, 1, 0, 0, 0, 0, 0]), array([0, 1, 0, 0, 0, 0, 1, 0, 0, 0, 0, 0]), array([0, 1, 0, 0, 0, 0, 1, 0, 0, 0, 1, 0]), array([0, 1, 0, 0, 1, 0, 1, 1, 0, 0, 1, 0]), array([0, 1, 0, 0, 1, 0, 1, 0, 0, 1, 1, 0]), array([1, 1, 0, 0, 1, 0, 1, 0, 0, 0, 1, 0]), array([0, 1, 1, 0, 1, 0, 1, 0, 0, 0, 1, 0]), array([0, 0, 1, 0, 0, 0, 0, 1, 0, 0, 0, 1]), array([0, 0, 1, 0, 0, 0, 0, 1, 0, 0, 1, 0]), array([0, 0, 0, 1, 0, 0, 0, 1, 0, 0, 0, 1]), array([0, 1, 0, 0, 0, 0, 0, 1, 0, 0, 1, 0]), array([1, 0, 1, 0, 0, 0, 0, 1, 0, 0, 0, 0]), array([0, 0, 1, 0, 0, 0, 0, 1, 0, 1, 0, 0]), array([0, 0, 1, 0, 0, 1, 0, 1, 0, 0, 0, 1]), array([0, 0, 1, 0, 0, 0, 1, 1, 0, 0, 0, 1]), array([0, 0, 1, 0, 0, 1, 0, 1, 0, 0, 1, 0]), array([0, 0, 1, 0, 0, 0, 1, 1, 0, 0, 1, 0]), array([0, 0, 1, 0, 1, 0, 0, 1, 0, 0, 0, 1]), array([0, 0, 1, 0, 1, 0, 0, 1, 0, 0, 1, 0]), array([0, 1, 0, 0, 1, 0, 0, 1, 0, 0, 1, 0]), array([0, 1, 0, 0, 0, 1, 0, 1, 0, 0, 1, 0]), array([0, 0, 1, 0, 0, 0, 1, 1, 0, 1, 0, 1]), array([0, 0, 1, 0, 0, 1, 0, 1, 0, 1, 1, 0]), array([0, 0, 1, 0, 0, 1, 0, 1, 0, 1, 0, 1]), array([1, 0, 1, 0, 0, 1, 0, 1, 0, 1, 1, 0]), array([1, 0, 1, 0, 0, 1, 0, 1, 0, 1, 0, 1]), array([1, 0, 1, 0, 1, 0, 1, 1, 0, 1, 0, 1]), array([1, 0, 1, 0, 1, 1, 0, 1, 0, 1, 1, 0]), array([1, 0, 1, 0, 1, 1, 0, 1, 0, 1, 0, 1]), array([0, 0, 0, 0, 0, 0, 0, 1, 0, 0, 0, 0]), array([0, 0, 1, 0, 0, 0, 0, 1, 0, 0, 0, 0]), array([0, 0, 1, 0, 0, 0, 0, 1, 0, 0, 0, 1]), array([0, 0, 1, 0, 0, 1, 0, 1, 1, 0, 0, 1]), array([0, 0, 1, 0, 0, 1, 0, 1, 0, 0, 1, 1]), array([0, 1, 1, 0, 0, 1, 0, 1, 0, 0, 0, 1]), array([0, 0, 1, 1, 0, 1, 0, 1, 0, 0, 0, 1]), array([1, 0, 0, 1, 0, 0, 0, 0, 1, 0, 0, 0]), array([0, 0, 0, 1, 0, 0, 0, 0, 1, 0, 0, 1]), array([1, 0, 0, 0, 1, 0, 0, 0, 1, 0, 0, 0]), array([0, 0, 1, 0, 0, 0, 0, 0, 1, 0, 0, 1]), array([0, 1, 0, 1, 0, 0, 0, 0, 1, 0, 0, 0]), array([0, 0, 0, 1, 0, 0, 0, 0, 1, 0, 1, 0]), array([1, 0, 0, 1, 0, 0, 1, 0, 1, 0, 0, 0]), array([1, 0, 0, 1, 0, 0, 0, 1, 1, 0, 0, 0]), array([0, 0, 0, 1, 0, 0, 1, 0, 1, 0, 0, 1]), array([0, 0, 0, 1, 0, 0, 0, 1, 1, 0, 0, 1]), array([1, 0, 0, 1, 0, 1, 0, 0, 1, 0, 0, 0]), array([0, 0, 0, 1, 0, 1, 0, 0, 1, 0, 0, 1]), array([0, 0, 1, 0, 0, 1, 0, 0, 1, 0, 0, 1]), array([0, 0, 1, 0, 0, 0, 1, 0, 1, 0, 0, 1]), array([1, 0, 0, 1, 0, 0, 0, 1, 1, 0, 1, 0]), array([0, 0, 0, 1, 0, 0, 1, 0, 1, 0, 1, 1]), array([1, 0, 0, 1, 0, 0, 1, 0, 1, 0, 1, 0]), array([0, 1, 0, 1, 0, 0, 1, 0, 1, 0, 1, 1]), array([1, 1, 0, 1, 0, 0, 1, 0, 1, 0, 1, 0]), array([1, 1, 0, 1, 0, 1, 0, 1, 1, 0, 1, 0]), array([0, 1, 0, 1, 0, 1, 1, 0, 1, 0, 1, 1]), array([1, 1, 0, 1, 0, 1, 1, 0, 1, 0, 1, 0]), array([0, 0, 0, 0, 0, 0, 0, 0, 1, 0, 0, 0]), array([0, 0, 0, 1, 0, 0, 0, 0, 1, 0, 0, 0]), array([1, 0, 0, 1, 0, 0, 0, 0, 1, 0, 0, 0]), array([1, 0, 0, 1, 0, 0, 1, 0, 1, 1, 0, 0]), array([1, 0, 0, 1, 0, 0, 1, 0, 1, 0, 0, 1]), array([1, 0, 1, 1, 0, 0, 1, 0, 1, 0, 0, 0]), array([1, 0, 0, 1, 1, 0, 1, 0, 1, 0, 0, 0]), array([0, 1, 0, 0, 1, 0, 0, 0, 0, 1, 0, 0]), array([1, 0, 0, 0, 1, 0, 0, 0, 0, 1, 0, 0]), array([0, 1, 0, 0, 0, 1, 0, 0, 0, 1, 0, 0]), array([1, 0, 0, 1, 0, 0, 0, 0, 0, 1, 0, 0]), array([0, 0, 1, 0, 1, 0, 0, 0, 0, 1, 0, 0]), array([0, 0, 0, 0, 1, 0, 0, 0, 0, 1, 0, 1]), array([0, 1, 0, 0, 1, 0, 0, 1, 0, 1, 0, 0]), array([0, 1, 0, 0, 1, 0, 0, 0, 1, 1, 0, 0]), array([1, 0, 0, 0, 1, 0, 0, 1, 0, 1, 0, 0]), array([1, 0, 0, 0, 1, 0, 0, 0, 1, 1, 0, 0]), array([0, 1, 0, 0, 1, 0, 1, 0, 0, 1, 0, 0]), array([1, 0, 0, 0, 1, 0, 1, 0, 0, 1, 0, 0]), array([1, 0, 0, 1, 0, 0, 1, 0, 0, 1, 0, 0]), array([1, 0, 0, 1, 0, 0, 0, 1, 0, 1, 0, 0]), array([0, 1, 0, 0, 1, 0, 0, 0, 1, 1, 0, 1]), array([1, 0, 0, 0, 1, 0, 0, 1, 0, 1, 0, 1]), array([0, 1, 0, 0, 1, 0, 0, 1, 0, 1, 0, 1]), array([1, 0, 1, 0, 1, 0, 0, 1, 0, 1, 0, 1]), array([0, 1, 1, 0, 1, 0, 0, 1, 0, 1, 0, 1]), array([0, 1, 1, 0, 1, 0, 1, 0, 1, 1, 0, 1]), array([1, 0, 1, 0, 1, 0, 1, 1, 0, 1, 0, 1]), array([0, 1, 1, 0, 1, 0, 1, 1, 0, 1, 0, 1]), array([0, 0, 0, 0, 0, 0, 0, 0, 0, 1, 0, 0]), array([0, 0, 0, 0, 1, 0, 0, 0, 0, 1, 0, 0]), array([0, 1, 0, 0, 1, 0, 0, 0, 0, 1, 0, 0]), array([0, 1, 0, 0, 1, 0, 0, 1, 0, 1, 1, 0]), array([1, 1, 0, 0, 1, 0, 0, 1, 0, 1, 0, 0]), array([0, 1, 0, 1, 1, 0, 0, 1, 0, 1, 0, 0]), array([0, 1, 0, 0, 1, 1, 0, 1, 0, 1, 0, 0]), array([0, 0, 1, 0, 0, 1, 0, 0, 0, 0, 1, 0]), array([0, 1, 0, 0, 0, 1, 0, 0, 0, 0, 1, 0]), array([0, 0, 1, 0, 0, 0, 1, 0, 0, 0, 1, 0]), array([0, 1, 0, 0, 1, 0, 0, 0, 0, 0, 1, 0]), array([0, 0, 0, 1, 0, 1, 0, 0, 0, 0, 1, 0]), array([1, 0, 0, 0, 0, 1, 0, 0, 0, 0, 1, 0]), array([0, 0, 1, 0, 0, 1, 0, 0, 1, 0, 1, 0]), array([0, 0, 1, 0, 0, 1, 0, 0, 0, 1, 1, 0]), array([0, 1, 0, 0, 0, 1, 0, 0, 1, 0, 1, 0]), array([0, 1, 0, 0, 0, 1, 0, 0, 0, 1, 1, 0]), array([0, 0, 1, 0, 0, 1, 0, 1, 0, 0, 1, 0]), array([0, 1, 0, 0, 0, 1, 0, 1, 0, 0, 1, 0]), array([0, 1, 0, 0, 1, 0, 0, 1, 0, 0, 1, 0]), array([0, 1, 0, 0, 1, 0, 0, 0, 1, 0, 1, 0]), array([1, 0, 1, 0, 0, 1, 0, 0, 0, 1, 1, 0]), array([1, 1, 0, 0, 0, 1, 0, 0, 1, 0, 1, 0]), array([1, 0, 1, 0, 0, 1, 0, 0, 1, 0, 1, 0]), array([1, 1, 0, 1, 0, 1, 0, 0, 1, 0, 1, 0]), array([1, 0, 1, 1, 0, 1, 0, 0, 1, 0, 1, 0]), array([1, 0, 1, 1, 0, 1, 0, 1, 0, 1, 1, 0]), array([1, 1, 0, 1, 0, 1, 0, 1, 1, 0, 1, 0]), array([1, 0, 1, 1, 0, 1, 0, 1, 1, 0, 1, 0]), array([0, 0, 0, 0, 0, 0, 0, 0, 0, 0, 1, 0]), array([0, 0, 0, 0, 0, 1, 0, 0, 0, 0, 1, 0]), array([0, 0, 1, 0, 0, 1, 0, 0, 0, 0, 1, 0]), array([0, 0, 1, 0, 0, 1, 0, 0, 1, 0, 1, 1]), array([0, 1, 1, 0, 0, 1, 0, 0, 1, 0, 1, 0]), array([0, 0, 1, 0, 1, 1, 0, 0, 1, 0, 1, 0]), array([0, 0, 1, 0, 0, 1, 1, 0, 1, 0, 1, 0]), array([0, 0, 0, 1, 0, 0, 1, 0, 0, 0, 0, 1]), array([0, 0, 1, 0, 0, 0, 1, 0, 0, 0, 0, 1]), array([0, 0, 0, 1, 0, 0, 0, 1, 0, 0, 0, 1]), array([0, 0, 1, 0, 0, 1, 0, 0, 0, 0, 0, 1]), array([0, 0, 0, 0, 1, 0, 1, 0, 0, 0, 0, 1]), array([0, 1, 0, 0, 0, 0, 1, 0, 0, 0, 0, 1]), array([0, 0, 0, 1, 0, 0, 1, 0, 0, 1, 0, 1]), array([0, 0, 0, 1, 0, 0, 1, 0, 0, 0, 1, 1]), array([0, 0, 1, 0, 0, 0, 1, 0, 0, 1, 0, 1]), array([0, 0, 1, 0, 0, 0, 1, 0, 0, 0, 1, 1]), array([0, 0, 0, 1, 0, 0, 1, 0, 1, 0, 0, 1]), array([0, 0, 1, 0, 0, 0, 1, 0, 1, 0, 0, 1]), array([0, 0, 1, 0, 0, 1, 0, 0, 1, 0, 0, 1]), array([0, 0, 1, 0, 0, 1, 0, 0, 0, 1, 0, 1]), array([0, 1, 0, 1, 0, 0, 1, 0, 0, 0, 1, 1]), array([0, 1, 1, 0, 0, 0, 1, 0, 0, 1, 0, 1]), array([0, 1, 0, 1, 0, 0, 1, 0, 0, 1, 0, 1]), array([0, 1, 1, 0, 1, 0, 1, 0, 0, 1, 0, 1]), array([0, 1, 0, 1, 1, 0, 1, 0, 0, 1, 0, 1]), array([0, 1, 0, 1, 1, 0, 1, 0, 1, 0, 1, 1]), array([0, 1, 1, 0, 1, 0, 1, 0, 1, 1, 0, 1]), array([0, 1, 0, 1, 1, 0, 1, 0, 1, 1, 0, 1]), array([0, 0, 0, 0, 0, 0, 0, 0, 0, 0, 0, 1]), array([0, 0, 0, 0, 0, 0, 1, 0, 0, 0, 0, 1]), array([0, 0, 0, 1, 0, 0, 1, 0, 0, 0, 0, 1]), array([1, 0, 0, 1, 0, 0, 1, 0, 0, 1, 0, 1]), array([0, 0, 1, 1, 0, 0, 1, 0, 0, 1, 0, 1]), array([0, 0, 0, 1, 0, 1, 1, 0, 0, 1, 0, 1]), array([0, 0, 0, 1, 0, 0, 1, 1, 0, 1, 0, 1]))\n",
      "('C:maj', 'C:min', 'C:aug', 'C:dim', 'C:sus4', 'C:sus2', 'C:7', 'C:maj7', 'C:min7', 'C:minmaj7', 'C:maj6', 'C:min6', 'C:dim7', 'C:hdim7', 'C:maj9', 'C:min9', 'C:9', 'C:min11', 'C:11', 'C:maj13', 'C:min13', 'C:13', 'C:1', 'C:5', 'C', 'C:7(b9)', 'C:7(#9)', 'C:7(#11)', 'C:7(b13)', 'C#:maj', 'C#:min', 'C#:aug', 'C#:dim', 'C#:sus4', 'C#:sus2', 'C#:7', 'C#:maj7', 'C#:min7', 'C#:minmaj7', 'C#:maj6', 'C#:min6', 'C#:dim7', 'C#:hdim7', 'C#:maj9', 'C#:min9', 'C#:9', 'C#:min11', 'C#:11', 'C#:maj13', 'C#:min13', 'C#:13', 'C#:1', 'C#:5', 'C#', 'C#:7(b9)', 'C#:7(#9)', 'C#:7(#11)', 'C#:7(b13)', 'D:maj', 'D:min', 'D:aug', 'D:dim', 'D:sus4', 'D:sus2', 'D:7', 'D:maj7', 'D:min7', 'D:minmaj7', 'D:maj6', 'D:min6', 'D:dim7', 'D:hdim7', 'D:maj9', 'D:min9', 'D:9', 'D:min11', 'D:11', 'D:maj13', 'D:min13', 'D:13', 'D:1', 'D:5', 'D', 'D:7(b9)', 'D:7(#9)', 'D:7(#11)', 'D:7(b13)', 'D#:maj', 'D#:min', 'D#:aug', 'D#:dim', 'D#:sus4', 'D#:sus2', 'D#:7', 'D#:maj7', 'D#:min7', 'D#:minmaj7', 'D#:maj6', 'D#:min6', 'D#:dim7', 'D#:hdim7', 'D#:maj9', 'D#:min9', 'D#:9', 'D#:min11', 'D#:11', 'D#:maj13', 'D#:min13', 'D#:13', 'D#:1', 'D#:5', 'D#', 'D#:7(b9)', 'D#:7(#9)', 'D#:7(#11)', 'D#:7(b13)', 'E:maj', 'E:min', 'E:aug', 'E:dim', 'E:sus4', 'E:sus2', 'E:7', 'E:maj7', 'E:min7', 'E:minmaj7', 'E:maj6', 'E:min6', 'E:dim7', 'E:hdim7', 'E:maj9', 'E:min9', 'E:9', 'E:min11', 'E:11', 'E:maj13', 'E:min13', 'E:13', 'E:1', 'E:5', 'E', 'E:7(b9)', 'E:7(#9)', 'E:7(#11)', 'E:7(b13)', 'F:maj', 'F:min', 'F:aug', 'F:dim', 'F:sus4', 'F:sus2', 'F:7', 'F:maj7', 'F:min7', 'F:minmaj7', 'F:maj6', 'F:min6', 'F:dim7', 'F:hdim7', 'F:maj9', 'F:min9', 'F:9', 'F:min11', 'F:11', 'F:maj13', 'F:min13', 'F:13', 'F:1', 'F:5', 'F', 'F:7(b9)', 'F:7(#9)', 'F:7(#11)', 'F:7(b13)', 'F#:maj', 'F#:min', 'F#:aug', 'F#:dim', 'F#:sus4', 'F#:sus2', 'F#:7', 'F#:maj7', 'F#:min7', 'F#:minmaj7', 'F#:maj6', 'F#:min6', 'F#:dim7', 'F#:hdim7', 'F#:maj9', 'F#:min9', 'F#:9', 'F#:min11', 'F#:11', 'F#:maj13', 'F#:min13', 'F#:13', 'F#:1', 'F#:5', 'F#', 'F#:7(b9)', 'F#:7(#9)', 'F#:7(#11)', 'F#:7(b13)', 'G:maj', 'G:min', 'G:aug', 'G:dim', 'G:sus4', 'G:sus2', 'G:7', 'G:maj7', 'G:min7', 'G:minmaj7', 'G:maj6', 'G:min6', 'G:dim7', 'G:hdim7', 'G:maj9', 'G:min9', 'G:9', 'G:min11', 'G:11', 'G:maj13', 'G:min13', 'G:13', 'G:1', 'G:5', 'G', 'G:7(b9)', 'G:7(#9)', 'G:7(#11)', 'G:7(b13)', 'G#:maj', 'G#:min', 'G#:aug', 'G#:dim', 'G#:sus4', 'G#:sus2', 'G#:7', 'G#:maj7', 'G#:min7', 'G#:minmaj7', 'G#:maj6', 'G#:min6', 'G#:dim7', 'G#:hdim7', 'G#:maj9', 'G#:min9', 'G#:9', 'G#:min11', 'G#:11', 'G#:maj13', 'G#:min13', 'G#:13', 'G#:1', 'G#:5', 'G#', 'G#:7(b9)', 'G#:7(#9)', 'G#:7(#11)', 'G#:7(b13)', 'A:maj', 'A:min', 'A:aug', 'A:dim', 'A:sus4', 'A:sus2', 'A:7', 'A:maj7', 'A:min7', 'A:minmaj7', 'A:maj6', 'A:min6', 'A:dim7', 'A:hdim7', 'A:maj9', 'A:min9', 'A:9', 'A:min11', 'A:11', 'A:maj13', 'A:min13', 'A:13', 'A:1', 'A:5', 'A', 'A:7(b9)', 'A:7(#9)', 'A:7(#11)', 'A:7(b13)', 'A#:maj', 'A#:min', 'A#:aug', 'A#:dim', 'A#:sus4', 'A#:sus2', 'A#:7', 'A#:maj7', 'A#:min7', 'A#:minmaj7', 'A#:maj6', 'A#:min6', 'A#:dim7', 'A#:hdim7', 'A#:maj9', 'A#:min9', 'A#:9', 'A#:min11', 'A#:11', 'A#:maj13', 'A#:min13', 'A#:13', 'A#:1', 'A#:5', 'A#', 'A#:7(b9)', 'A#:7(#9)', 'A#:7(#11)', 'A#:7(b13)', 'B:maj', 'B:min', 'B:aug', 'B:dim', 'B:sus4', 'B:sus2', 'B:7', 'B:maj7', 'B:min7', 'B:minmaj7', 'B:maj6', 'B:min6', 'B:dim7', 'B:hdim7', 'B:maj9', 'B:min9', 'B:9', 'B:min11', 'B:11', 'B:maj13', 'B:min13', 'B:13', 'B:1', 'B:5', 'B', 'B:7(b9)', 'B:7(#9)', 'B:7(#11)', 'B:7(b13)')\n"
     ]
    }
   ],
   "source": [
    "print(mir_rpcs)\n",
    "print(mir_symbols)"
   ]
  },
  {
   "cell_type": "code",
   "execution_count": 19,
   "metadata": {},
   "outputs": [],
   "source": [
    "# keep all mir_eval pcps in a matrix to speed-up match making\n",
    "all_mir_eval_pcps = np.zeros( (len(all_chords), 12) )\n",
    "for i,v in enumerate(all_chords.values()):\n",
    "    all_mir_eval_pcps[i, :] = v"
   ]
  },
  {
   "cell_type": "code",
   "execution_count": 20,
   "metadata": {},
   "outputs": [],
   "source": [
    "rpc = rpcs[0]"
   ]
  },
  {
   "cell_type": "code",
   "execution_count": 21,
   "metadata": {},
   "outputs": [],
   "source": [
    "# translate transition matrix of idiom to mir_eval-compatible transition matrix\n",
    "# for each chord in rpcs, find the closes mir_eval rpc\n",
    "matches = {}\n",
    "for i, (rpc, rpc_prob) in enumerate( zip(rpcs, probs) ):\n",
    "    tmp_all_matches = []\n",
    "    max_match = -1\n",
    "    max_idx = -1\n",
    "    for j, (m_rpc, m_symbol) in enumerate( zip(mir_rpcs, mir_symbols) ):\n",
    "        tmp_match = np.sum( m_rpc == rpc )\n",
    "        tmp_all_matches.append(tmp_match)\n",
    "        if max_match < tmp_match:\n",
    "            max_match = tmp_match\n",
    "            max_idx = j\n",
    "    matches[i] = {\n",
    "        'rpc': rpc,\n",
    "        'prob': rpc_prob,\n",
    "        'match_idx': max_idx,\n",
    "        'match_rpc': mir_rpcs[max_idx],\n",
    "        'match_symbol': mir_symbols[max_idx],\n",
    "        'all_match_values': tmp_all_matches\n",
    "    }"
   ]
  },
  {
   "cell_type": "code",
   "execution_count": 22,
   "metadata": {},
   "outputs": [
    {
     "name": "stdout",
     "output_type": "stream",
     "text": [
      "(348, 348)\n"
     ]
    }
   ],
   "source": [
    "# map matches to transition matrix\n",
    "mir_transitions = np.zeros( (len(all_chords), len(all_chords)) )\n",
    "print(mir_transitions.shape)"
   ]
  },
  {
   "cell_type": "code",
   "execution_count": 23,
   "metadata": {},
   "outputs": [
    {
     "name": "stdout",
     "output_type": "stream",
     "text": [
      "(39, 39)\n",
      "39\n",
      "1\n"
     ]
    }
   ],
   "source": [
    "print(tr.shape)\n",
    "print(len(matches))\n",
    "print(matches[0]['match_idx'])"
   ]
  },
  {
   "cell_type": "code",
   "execution_count": 24,
   "metadata": {},
   "outputs": [],
   "source": [
    "for i, (i_k, i_v) in enumerate(matches.items()):\n",
    "    for j, (j_k, j_v) in enumerate(matches.items()):\n",
    "        mir_transitions[ i_v['match_idx'] , j_v['match_idx'] ] = tr[i,j]"
   ]
  },
  {
   "cell_type": "code",
   "execution_count": 25,
   "metadata": {},
   "outputs": [],
   "source": [
    "np.savetxt( 'debug/tr.txt', tr )\n",
    "np.savetxt( 'debug/mir_transitions.txt', mir_transitions )"
   ]
  },
  {
   "cell_type": "code",
   "execution_count": 26,
   "metadata": {},
   "outputs": [
    {
     "name": "stdout",
     "output_type": "stream",
     "text": [
      "{'rpc': array([1., 0., 0., 0., 0., 1., 0., 0., 1., 0., 0., 0.]), 'prob': 0.03822937625754527, 'match_idx': 146, 'match_rpc': array([1, 0, 0, 0, 0, 1, 0, 0, 1, 0, 0, 0]), 'match_symbol': 'F:min', 'all_match_values': [8, 8, 10, 8, 10, 8, 7, 7, 7, 7, 7, 7, 7, 7, 6, 6, 6, 7, 7, 6, 6, 6, 10, 9, 8, 6, 6, 6, 8, 10, 8, 8, 6, 8, 8, 9, 11, 7, 9, 9, 7, 5, 5, 10, 6, 8, 5, 7, 8, 4, 6, 8, 9, 10, 8, 8, 8, 8, 6, 8, 6, 10, 6, 6, 7, 5, 9, 7, 5, 7, 9, 11, 4, 8, 6, 7, 5, 2, 6, 4, 8, 7, 6, 6, 8, 8, 6, 6, 6, 6, 6, 8, 8, 5, 5, 5, 5, 7, 7, 7, 5, 6, 6, 6, 7, 7, 8, 8, 8, 8, 7, 6, 4, 4, 4, 4, 8, 6, 10, 6, 6, 6, 7, 7, 5, 5, 7, 5, 5, 5, 6, 4, 6, 3, 5, 4, 2, 4, 8, 7, 8, 8, 6, 6, 8, 10, 12, 8, 10, 10, 10, 9, 9, 11, 11, 9, 11, 9, 9, 8, 10, 8, 9, 7, 6, 8, 6, 10, 11, 10, 8, 10, 8, 8, 6, 6, 6, 8, 6, 8, 5, 7, 5, 7, 5, 5, 7, 7, 8, 6, 6, 5, 5, 6, 4, 4, 8, 7, 6, 4, 4, 6, 4, 6, 6, 6, 6, 8, 6, 7, 5, 7, 5, 5, 5, 5, 7, 4, 6, 6, 7, 7, 4, 6, 6, 8, 7, 6, 8, 6, 6, 6, 10, 8, 10, 8, 8, 8, 9, 9, 7, 7, 11, 9, 9, 7, 8, 6, 8, 5, 7, 8, 6, 8, 10, 9, 10, 8, 8, 8, 8, 6, 8, 8, 8, 6, 6, 5, 7, 7, 9, 5, 7, 7, 7, 6, 6, 4, 5, 3, 4, 4, 2, 8, 7, 6, 4, 6, 4, 6, 8, 8, 6, 6, 8, 10, 9, 7, 9, 7, 7, 7, 5, 7, 8, 10, 10, 9, 9, 6, 8, 8, 8, 9, 8, 8, 8, 8, 8, 6, 6, 6, 8, 6, 6, 5, 5, 5, 5, 7, 7, 9, 7, 4, 4, 4, 3, 3, 4, 4, 4, 8, 7, 6, 6, 4, 6, 4]}\n"
     ]
    }
   ],
   "source": [
    "print(matches[8])"
   ]
  },
  {
   "cell_type": "code",
   "execution_count": 27,
   "metadata": {},
   "outputs": [
    {
     "name": "stdout",
     "output_type": "stream",
     "text": [
      "['organum.pickle', 'Jazz.pickle', 'Hindemith.pickle', 'beatles.pickle', 'fauxbourdon.pickle', 'BachChorales.pickle', 'modalChorales.pickle']\n"
     ]
    }
   ],
   "source": [
    "# get idiom names\n",
    "idiom_files = [fname for fname in os.listdir('trained_idioms') if not fname.startswith('.')]\n",
    "print(idiom_files)"
   ]
  },
  {
   "cell_type": "code",
   "execution_count": 28,
   "metadata": {},
   "outputs": [
    {
     "name": "stdout",
     "output_type": "stream",
     "text": [
      "organum\n",
      "True [ 0  2  3  5  7  8 10]\n",
      "Jazz\n",
      "True [ 0  2  3  5  7  8 10]\n",
      "False [ 0  2  4  5  7  9 11]\n",
      "False [ 0  2  4  5  7  9 10]\n",
      "True [ 0  1  3  5  7  9 10]\n",
      "True [ 0  2  3  5  7  9 10]\n",
      "False [ 0  2  4  6  7  9 11]\n",
      "Hindemith\n",
      "False [ 0  2  4  5  7  9 11]\n",
      "True [ 0  2  3  5  7  8 10]\n",
      "False [ 0  2  4  5  7  9 10]\n",
      "False [ 0  2  4  6  7  9 11]\n",
      "beatles\n",
      "True [ 0  2  3  5  7  8 10]\n",
      "False [ 0  2  4  5  7  9 11]\n",
      "fauxbourdon\n",
      "False [ 0  2  4  5  7  9 11]\n",
      "True [ 0  2  3  5  7  9 10]\n",
      "True [ 0  1  3  5  7  8 10]\n",
      "BachChorales\n",
      "True [ 0  2  3  5  7  8 10]\n",
      "False [ 0  2  4  5  7  9 11]\n",
      "modalChorales\n",
      "True [ 0  2  3  5  7  8 10]\n",
      "True [ 0  2  3  5  7  9 10]\n",
      "True [ 0  2  3  5  7  8 10  0]\n",
      "True [ 0  1  3  5  7  8 10]\n",
      "False [ 0  2  4  5  7  9 10]\n",
      "False [ 0  2  4  5  7  9 11]\n",
      "False [ 0  2  4  6  7  9 11]\n"
     ]
    }
   ],
   "source": [
    "idioms = {}\n",
    "# for each idiom\n",
    "for idiom_file in idiom_files:\n",
    "    with open( os.path.join('trained_idioms', idiom_file), 'rb') as f:\n",
    "        idiom = pickle.load(f)\n",
    "    idiom_name = idiom_file.split('.')[0]\n",
    "    # initialize idiom by name\n",
    "    idioms[idiom_name] = {}\n",
    "    print(idiom_name)\n",
    "    # get mode keys as list\n",
    "    mode_keys = list(idiom.modes.keys())\n",
    "    # for each mode\n",
    "    for mode_key in mode_keys:\n",
    "        idioms[idiom_name][mode_key] = {}\n",
    "        # get mode object\n",
    "        mode = idiom.modes[mode_key]\n",
    "        # check if mode has minor third\n",
    "        mode_is_minor = 3 in mode.mode\n",
    "        print(mode_is_minor, mode.mode)\n",
    "        idioms[idiom_name][mode_key]['is_minor'] = mode_is_minor\n",
    "        idioms[idiom_name][mode_key]['mode_rpcs'] = mode.mode\n",
    "        # get gct info\n",
    "        gct_info = mode.gct_info\n",
    "        # get all necessary information\n",
    "        rpcs = gct_info.gcts_relative_pcs\n",
    "        probs = gct_info.gcts_probabilities\n",
    "        gcts_arrays = gct_info.gcts_array\n",
    "        tr = gct_info.gcts_markov\n",
    "        # find matches between chords of the idiom and mir_eval chords\n",
    "        matches = {}\n",
    "        for i, (rpc, rpc_prob) in enumerate( zip(rpcs, probs) ):\n",
    "            tmp_all_matches = []\n",
    "            max_match = -1\n",
    "            max_idx = -1\n",
    "            for j, (m_rpc, m_symbol) in enumerate( zip(mir_rpcs, mir_symbols) ):\n",
    "                tmp_match = np.sum( m_rpc == np.roll(rpc, 9*mode_is_minor) )\n",
    "                tmp_all_matches.append(tmp_match)\n",
    "                if max_match < tmp_match:\n",
    "                    max_match = tmp_match\n",
    "                    max_idx = j\n",
    "            matches[i] = {\n",
    "                'rpc': rpc,\n",
    "                'prob': rpc_prob,\n",
    "                'gct_array': gcts_arrays[i],\n",
    "                'match_idx': max_idx,\n",
    "                'match_rpc': mir_rpcs[max_idx],\n",
    "                'match_symbol': mir_symbols[max_idx],\n",
    "                # 'all_match_values': tmp_all_matches\n",
    "            }\n",
    "        # store matches for debugging\n",
    "        idioms[idiom_name][mode_key]['chords'] = matches\n",
    "        # now that matches are found, map idiom transitions to mir_transitions\n",
    "        # initialize mir_transitions\n",
    "        mir_transitions = np.zeros( (len(all_chords), len(all_chords)) )\n",
    "        # map matrices\n",
    "        for i, (i_k, i_v) in enumerate(matches.items()):\n",
    "            for j, (j_k, j_v) in enumerate(matches.items()):\n",
    "                mir_transitions[ i_v['match_idx'] , j_v['match_idx'] ] = tr[i,j]\n",
    "        # store information to idiom mode\n",
    "        idioms[idiom_name][mode_key]['gct_transitions'] = tr\n",
    "        idioms[idiom_name][mode_key]['mir_eval_transitions'] = mir_transitions"
   ]
  },
  {
   "cell_type": "code",
   "execution_count": 29,
   "metadata": {},
   "outputs": [],
   "source": [
    "with open('data/idioms_mir_full_info.pickle', 'wb') as f:\n",
    "    pickle.dump(idioms, f, protocol=pickle.HIGHEST_PROTOCOL)"
   ]
  },
  {
   "cell_type": "code",
   "execution_count": 30,
   "metadata": {},
   "outputs": [
    {
     "name": "stdout",
     "output_type": "stream",
     "text": [
      "{'rpc': array([1., 0., 0., 0., 0., 0., 0., 1., 0., 0., 0., 0.]), 'prob': 0.07751937984496124, 'gct_array': '[0 0 7]', 'match_idx': 284, 'match_rpc': array([0, 0, 0, 0, 1, 0, 0, 0, 0, 1, 0, 0]), 'match_symbol': 'A:5'}\n",
      "(17, 17)\n",
      "(348, 348)\n"
     ]
    }
   ],
   "source": [
    "print(idioms['organum']['[0 2 3 5 7 8 10]']['chords'][0])\n",
    "print(idioms['organum']['[0 2 3 5 7 8 10]']['gct_transitions'].shape)\n",
    "print(idioms['organum']['[0 2 3 5 7 8 10]']['mir_eval_transitions'].shape)"
   ]
  },
  {
   "cell_type": "code",
   "execution_count": 31,
   "metadata": {},
   "outputs": [],
   "source": [
    "# also make a quick reference for transition matrices only\n",
    "quick_idioms_reference = {}\n",
    "for idiom_key, idiom_value in idioms.items():\n",
    "    for mode_key, mode_value in idiom_value.items():\n",
    "        quick_idioms_reference[ idiom_key + '_' + mode_key ] = mode_value['mir_eval_transitions']"
   ]
  },
  {
   "cell_type": "code",
   "execution_count": 32,
   "metadata": {},
   "outputs": [],
   "source": [
    "with open('data/idioms_mir_quick_reference.pickle', 'wb') as f:\n",
    "    pickle.dump(quick_idioms_reference, f, protocol=pickle.HIGHEST_PROTOCOL)"
   ]
  }
 ],
 "metadata": {
  "kernelspec": {
   "display_name": "torch",
   "language": "python",
   "name": "python3"
  },
  "language_info": {
   "codemirror_mode": {
    "name": "ipython",
    "version": 3
   },
   "file_extension": ".py",
   "mimetype": "text/x-python",
   "name": "python",
   "nbconvert_exporter": "python",
   "pygments_lexer": "ipython3",
   "version": "3.11.5"
  }
 },
 "nbformat": 4,
 "nbformat_minor": 2
}
